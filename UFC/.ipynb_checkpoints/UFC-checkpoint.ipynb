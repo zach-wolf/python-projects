{
 "cells": [
  {
   "cell_type": "code",
   "execution_count": 391,
   "metadata": {},
   "outputs": [],
   "source": [
    "import numpy as np\n",
    "import pandas as pd\n",
    "import matplotlib.pyplot as plt\n",
    "import seaborn as sns"
   ]
  },
  {
   "cell_type": "markdown",
   "metadata": {},
   "source": [
    "# Read in the data"
   ]
  },
  {
   "cell_type": "code",
   "execution_count": 392,
   "metadata": {},
   "outputs": [
    {
     "data": {
      "text/html": [
       "<div>\n",
       "<style scoped>\n",
       "    .dataframe tbody tr th:only-of-type {\n",
       "        vertical-align: middle;\n",
       "    }\n",
       "\n",
       "    .dataframe tbody tr th {\n",
       "        vertical-align: top;\n",
       "    }\n",
       "\n",
       "    .dataframe thead th {\n",
       "        text-align: right;\n",
       "    }\n",
       "</style>\n",
       "<table border=\"1\" class=\"dataframe\">\n",
       "  <thead>\n",
       "    <tr style=\"text-align: right;\">\n",
       "      <th></th>\n",
       "      <th>R_fighter</th>\n",
       "      <th>B_fighter</th>\n",
       "      <th>Referee</th>\n",
       "      <th>date</th>\n",
       "      <th>location</th>\n",
       "      <th>Winner</th>\n",
       "      <th>title_bout</th>\n",
       "      <th>weight_class</th>\n",
       "      <th>B_avg_KD</th>\n",
       "      <th>B_avg_opp_KD</th>\n",
       "      <th>...</th>\n",
       "      <th>R_win_by_Decision_Unanimous</th>\n",
       "      <th>R_win_by_KO/TKO</th>\n",
       "      <th>R_win_by_Submission</th>\n",
       "      <th>R_win_by_TKO_Doctor_Stoppage</th>\n",
       "      <th>R_Stance</th>\n",
       "      <th>R_Height_cms</th>\n",
       "      <th>R_Reach_cms</th>\n",
       "      <th>R_Weight_lbs</th>\n",
       "      <th>B_age</th>\n",
       "      <th>R_age</th>\n",
       "    </tr>\n",
       "  </thead>\n",
       "  <tbody>\n",
       "    <tr>\n",
       "      <th>0</th>\n",
       "      <td>Adrian Yanez</td>\n",
       "      <td>Gustavo Lopez</td>\n",
       "      <td>Chris Tognoni</td>\n",
       "      <td>2021-03-20</td>\n",
       "      <td>Las Vegas, Nevada, USA</td>\n",
       "      <td>Red</td>\n",
       "      <td>False</td>\n",
       "      <td>Bantamweight</td>\n",
       "      <td>0.000</td>\n",
       "      <td>0.0</td>\n",
       "      <td>...</td>\n",
       "      <td>0</td>\n",
       "      <td>1</td>\n",
       "      <td>0</td>\n",
       "      <td>0</td>\n",
       "      <td>Orthodox</td>\n",
       "      <td>170.18</td>\n",
       "      <td>177.80</td>\n",
       "      <td>135.0</td>\n",
       "      <td>31.0</td>\n",
       "      <td>27.0</td>\n",
       "    </tr>\n",
       "    <tr>\n",
       "      <th>1</th>\n",
       "      <td>Trevin Giles</td>\n",
       "      <td>Roman Dolidze</td>\n",
       "      <td>Herb Dean</td>\n",
       "      <td>2021-03-20</td>\n",
       "      <td>Las Vegas, Nevada, USA</td>\n",
       "      <td>Red</td>\n",
       "      <td>False</td>\n",
       "      <td>Middleweight</td>\n",
       "      <td>0.500</td>\n",
       "      <td>0.0</td>\n",
       "      <td>...</td>\n",
       "      <td>0</td>\n",
       "      <td>3</td>\n",
       "      <td>0</td>\n",
       "      <td>0</td>\n",
       "      <td>Orthodox</td>\n",
       "      <td>182.88</td>\n",
       "      <td>187.96</td>\n",
       "      <td>185.0</td>\n",
       "      <td>32.0</td>\n",
       "      <td>28.0</td>\n",
       "    </tr>\n",
       "    <tr>\n",
       "      <th>2</th>\n",
       "      <td>Tai Tuivasa</td>\n",
       "      <td>Harry Hunsucker</td>\n",
       "      <td>Herb Dean</td>\n",
       "      <td>2021-03-20</td>\n",
       "      <td>Las Vegas, Nevada, USA</td>\n",
       "      <td>Red</td>\n",
       "      <td>False</td>\n",
       "      <td>Heavyweight</td>\n",
       "      <td>NaN</td>\n",
       "      <td>NaN</td>\n",
       "      <td>...</td>\n",
       "      <td>1</td>\n",
       "      <td>3</td>\n",
       "      <td>0</td>\n",
       "      <td>0</td>\n",
       "      <td>Southpaw</td>\n",
       "      <td>187.96</td>\n",
       "      <td>190.50</td>\n",
       "      <td>264.0</td>\n",
       "      <td>32.0</td>\n",
       "      <td>28.0</td>\n",
       "    </tr>\n",
       "    <tr>\n",
       "      <th>3</th>\n",
       "      <td>Cheyanne Buys</td>\n",
       "      <td>Montserrat Conejo</td>\n",
       "      <td>Mark Smith</td>\n",
       "      <td>2021-03-20</td>\n",
       "      <td>Las Vegas, Nevada, USA</td>\n",
       "      <td>Blue</td>\n",
       "      <td>False</td>\n",
       "      <td>WomenStrawweight</td>\n",
       "      <td>NaN</td>\n",
       "      <td>NaN</td>\n",
       "      <td>...</td>\n",
       "      <td>0</td>\n",
       "      <td>0</td>\n",
       "      <td>0</td>\n",
       "      <td>0</td>\n",
       "      <td>Switch</td>\n",
       "      <td>160.02</td>\n",
       "      <td>160.02</td>\n",
       "      <td>115.0</td>\n",
       "      <td>28.0</td>\n",
       "      <td>25.0</td>\n",
       "    </tr>\n",
       "    <tr>\n",
       "      <th>4</th>\n",
       "      <td>Marion Reneau</td>\n",
       "      <td>Macy Chiasson</td>\n",
       "      <td>Mark Smith</td>\n",
       "      <td>2021-03-20</td>\n",
       "      <td>Las Vegas, Nevada, USA</td>\n",
       "      <td>Blue</td>\n",
       "      <td>False</td>\n",
       "      <td>WomenBantamweight</td>\n",
       "      <td>0.125</td>\n",
       "      <td>0.0</td>\n",
       "      <td>...</td>\n",
       "      <td>1</td>\n",
       "      <td>2</td>\n",
       "      <td>2</td>\n",
       "      <td>0</td>\n",
       "      <td>Orthodox</td>\n",
       "      <td>167.64</td>\n",
       "      <td>172.72</td>\n",
       "      <td>135.0</td>\n",
       "      <td>29.0</td>\n",
       "      <td>43.0</td>\n",
       "    </tr>\n",
       "  </tbody>\n",
       "</table>\n",
       "<p>5 rows × 144 columns</p>\n",
       "</div>"
      ],
      "text/plain": [
       "       R_fighter          B_fighter        Referee        date  \\\n",
       "0   Adrian Yanez      Gustavo Lopez  Chris Tognoni  2021-03-20   \n",
       "1   Trevin Giles      Roman Dolidze      Herb Dean  2021-03-20   \n",
       "2    Tai Tuivasa    Harry Hunsucker      Herb Dean  2021-03-20   \n",
       "3  Cheyanne Buys  Montserrat Conejo     Mark Smith  2021-03-20   \n",
       "4  Marion Reneau      Macy Chiasson     Mark Smith  2021-03-20   \n",
       "\n",
       "                 location Winner  title_bout       weight_class  B_avg_KD  \\\n",
       "0  Las Vegas, Nevada, USA    Red       False       Bantamweight     0.000   \n",
       "1  Las Vegas, Nevada, USA    Red       False       Middleweight     0.500   \n",
       "2  Las Vegas, Nevada, USA    Red       False        Heavyweight       NaN   \n",
       "3  Las Vegas, Nevada, USA   Blue       False   WomenStrawweight       NaN   \n",
       "4  Las Vegas, Nevada, USA   Blue       False  WomenBantamweight     0.125   \n",
       "\n",
       "   B_avg_opp_KD  ...  R_win_by_Decision_Unanimous  R_win_by_KO/TKO  \\\n",
       "0           0.0  ...                            0                1   \n",
       "1           0.0  ...                            0                3   \n",
       "2           NaN  ...                            1                3   \n",
       "3           NaN  ...                            0                0   \n",
       "4           0.0  ...                            1                2   \n",
       "\n",
       "   R_win_by_Submission  R_win_by_TKO_Doctor_Stoppage  R_Stance  R_Height_cms  \\\n",
       "0                    0                             0  Orthodox        170.18   \n",
       "1                    0                             0  Orthodox        182.88   \n",
       "2                    0                             0  Southpaw        187.96   \n",
       "3                    0                             0    Switch        160.02   \n",
       "4                    2                             0  Orthodox        167.64   \n",
       "\n",
       "   R_Reach_cms  R_Weight_lbs  B_age  R_age  \n",
       "0       177.80         135.0   31.0   27.0  \n",
       "1       187.96         185.0   32.0   28.0  \n",
       "2       190.50         264.0   32.0   28.0  \n",
       "3       160.02         115.0   28.0   25.0  \n",
       "4       172.72         135.0   29.0   43.0  \n",
       "\n",
       "[5 rows x 144 columns]"
      ]
     },
     "execution_count": 392,
     "metadata": {},
     "output_type": "execute_result"
    }
   ],
   "source": [
    "ufc = pd.read_csv(\"ufc_data.csv\")\n",
    "ufc.head()"
   ]
  },
  {
   "cell_type": "markdown",
   "metadata": {},
   "source": [
    "# Exploratory Data Analysis"
   ]
  },
  {
   "cell_type": "markdown",
   "metadata": {},
   "source": [
    "## Dependent variable"
   ]
  },
  {
   "cell_type": "code",
   "execution_count": 393,
   "metadata": {},
   "outputs": [
    {
     "data": {
      "text/plain": [
       "<AxesSubplot:xlabel='Winner', ylabel='count'>"
      ]
     },
     "execution_count": 393,
     "metadata": {},
     "output_type": "execute_result"
    },
    {
     "data": {
      "image/png": "[encoded data removed]",
      "text/plain": [
       "<Figure size 432x288 with 1 Axes>"
      ]
     },
     "metadata": {
      "needs_background": "light"
     },
     "output_type": "display_data"
    }
   ],
   "source": [
    "sns.countplot(x = \"Winner\", data = ufc)"
   ]
  },
  {
   "cell_type": "code",
   "execution_count": 394,
   "metadata": {},
   "outputs": [
    {
     "data": {
      "text/plain": [
       "Red     0.661843\n",
       "Blue    0.319860\n",
       "Draw    0.018297\n",
       "Name: Winner, dtype: float64"
      ]
     },
     "execution_count": 394,
     "metadata": {},
     "output_type": "execute_result"
    }
   ],
   "source": [
    "ufc[\"Winner\"].value_counts(normalize = True)"
   ]
  },
  {
   "cell_type": "markdown",
   "metadata": {},
   "source": [
    "## Dupes and missings"
   ]
  },
  {
   "cell_type": "code",
   "execution_count": 395,
   "metadata": {},
   "outputs": [
    {
     "data": {
      "text/html": [
       "<div>\n",
       "<style scoped>\n",
       "    .dataframe tbody tr th:only-of-type {\n",
       "        vertical-align: middle;\n",
       "    }\n",
       "\n",
       "    .dataframe tbody tr th {\n",
       "        vertical-align: top;\n",
       "    }\n",
       "\n",
       "    .dataframe thead th {\n",
       "        text-align: right;\n",
       "    }\n",
       "</style>\n",
       "<table border=\"1\" class=\"dataframe\">\n",
       "  <thead>\n",
       "    <tr style=\"text-align: right;\">\n",
       "      <th></th>\n",
       "      <th>R_fighter</th>\n",
       "      <th>B_fighter</th>\n",
       "      <th>Referee</th>\n",
       "      <th>date</th>\n",
       "      <th>location</th>\n",
       "      <th>Winner</th>\n",
       "      <th>title_bout</th>\n",
       "      <th>weight_class</th>\n",
       "      <th>B_avg_KD</th>\n",
       "      <th>B_avg_opp_KD</th>\n",
       "      <th>...</th>\n",
       "      <th>R_win_by_Decision_Unanimous</th>\n",
       "      <th>R_win_by_KO/TKO</th>\n",
       "      <th>R_win_by_Submission</th>\n",
       "      <th>R_win_by_TKO_Doctor_Stoppage</th>\n",
       "      <th>R_Stance</th>\n",
       "      <th>R_Height_cms</th>\n",
       "      <th>R_Reach_cms</th>\n",
       "      <th>R_Weight_lbs</th>\n",
       "      <th>B_age</th>\n",
       "      <th>R_age</th>\n",
       "    </tr>\n",
       "  </thead>\n",
       "  <tbody>\n",
       "  </tbody>\n",
       "</table>\n",
       "<p>0 rows × 144 columns</p>\n",
       "</div>"
      ],
      "text/plain": [
       "Empty DataFrame\n",
       "Columns: [R_fighter, B_fighter, Referee, date, location, Winner, title_bout, weight_class, B_avg_KD, B_avg_opp_KD, B_avg_SIG_STR_pct, B_avg_opp_SIG_STR_pct, B_avg_TD_pct, B_avg_opp_TD_pct, B_avg_SUB_ATT, B_avg_opp_SUB_ATT, B_avg_REV, B_avg_opp_REV, B_avg_SIG_STR_att, B_avg_SIG_STR_landed, B_avg_opp_SIG_STR_att, B_avg_opp_SIG_STR_landed, B_avg_TOTAL_STR_att, B_avg_TOTAL_STR_landed, B_avg_opp_TOTAL_STR_att, B_avg_opp_TOTAL_STR_landed, B_avg_TD_att, B_avg_TD_landed, B_avg_opp_TD_att, B_avg_opp_TD_landed, B_avg_HEAD_att, B_avg_HEAD_landed, B_avg_opp_HEAD_att, B_avg_opp_HEAD_landed, B_avg_BODY_att, B_avg_BODY_landed, B_avg_opp_BODY_att, B_avg_opp_BODY_landed, B_avg_LEG_att, B_avg_LEG_landed, B_avg_opp_LEG_att, B_avg_opp_LEG_landed, B_avg_DISTANCE_att, B_avg_DISTANCE_landed, B_avg_opp_DISTANCE_att, B_avg_opp_DISTANCE_landed, B_avg_CLINCH_att, B_avg_CLINCH_landed, B_avg_opp_CLINCH_att, B_avg_opp_CLINCH_landed, B_avg_GROUND_att, B_avg_GROUND_landed, B_avg_opp_GROUND_att, B_avg_opp_GROUND_landed, B_avg_CTRL_time(seconds), B_avg_opp_CTRL_time(seconds), B_total_time_fought(seconds), B_total_rounds_fought, B_total_title_bouts, B_current_win_streak, B_current_lose_streak, B_longest_win_streak, B_wins, B_losses, B_draw, B_win_by_Decision_Majority, B_win_by_Decision_Split, B_win_by_Decision_Unanimous, B_win_by_KO/TKO, B_win_by_Submission, B_win_by_TKO_Doctor_Stoppage, B_Stance, B_Height_cms, B_Reach_cms, B_Weight_lbs, R_avg_KD, R_avg_opp_KD, R_avg_SIG_STR_pct, R_avg_opp_SIG_STR_pct, R_avg_TD_pct, R_avg_opp_TD_pct, R_avg_SUB_ATT, R_avg_opp_SUB_ATT, R_avg_REV, R_avg_opp_REV, R_avg_SIG_STR_att, R_avg_SIG_STR_landed, R_avg_opp_SIG_STR_att, R_avg_opp_SIG_STR_landed, R_avg_TOTAL_STR_att, R_avg_TOTAL_STR_landed, R_avg_opp_TOTAL_STR_att, R_avg_opp_TOTAL_STR_landed, R_avg_TD_att, R_avg_TD_landed, R_avg_opp_TD_att, R_avg_opp_TD_landed, R_avg_HEAD_att, R_avg_HEAD_landed, R_avg_opp_HEAD_att, ...]\n",
       "Index: []\n",
       "\n",
       "[0 rows x 144 columns]"
      ]
     },
     "execution_count": 395,
     "metadata": {},
     "output_type": "execute_result"
    }
   ],
   "source": [
    "ufc[ufc.duplicated()] # no dupes"
   ]
  },
  {
   "cell_type": "code",
   "execution_count": 396,
   "metadata": {},
   "outputs": [
    {
     "data": {
      "text/plain": [
       "B_avg_DISTANCE_att              23.735862\n",
       "B_avg_BODY_landed               23.735862\n",
       "B_avg_GROUND_landed             23.735862\n",
       "B_avg_opp_GROUND_att            23.735862\n",
       "B_avg_CTRL_time(seconds)        23.735862\n",
       "B_avg_opp_CTRL_time(seconds)    23.735862\n",
       "B_total_time_fought(seconds)    23.735862\n",
       "B_avg_opp_LEG_att               23.735862\n",
       "B_avg_LEG_landed                23.735862\n",
       "B_avg_LEG_att                   23.735862\n",
       "B_avg_opp_BODY_landed           23.735862\n",
       "B_avg_opp_BODY_att              23.735862\n",
       "B_avg_BODY_att                  23.735862\n",
       "B_avg_opp_CLINCH_landed         23.735862\n",
       "B_avg_opp_HEAD_landed           23.735862\n",
       "B_avg_opp_HEAD_att              23.735862\n",
       "B_avg_HEAD_landed               23.735862\n",
       "B_avg_HEAD_att                  23.735862\n",
       "B_avg_opp_TD_landed             23.735862\n",
       "B_avg_opp_TD_att                23.735862\n",
       "B_avg_TD_landed                 23.735862\n",
       "B_avg_TD_att                    23.735862\n",
       "B_avg_opp_TOTAL_STR_landed      23.735862\n",
       "B_avg_opp_LEG_landed            23.735862\n",
       "B_avg_GROUND_att                23.735862\n",
       "B_avg_opp_GROUND_landed         23.735862\n",
       "B_avg_opp_CLINCH_att            23.735862\n",
       "B_avg_opp_REV                   23.735862\n",
       "B_avg_KD                        23.735862\n",
       "B_avg_DISTANCE_landed           23.735862\n",
       "B_avg_opp_KD                    23.735862\n",
       "B_avg_SIG_STR_pct               23.735862\n",
       "B_avg_opp_SIG_STR_pct           23.735862\n",
       "B_avg_TD_pct                    23.735862\n",
       "B_avg_opp_TD_pct                23.735862\n",
       "B_avg_CLINCH_landed             23.735862\n",
       "B_avg_opp_SUB_ATT               23.735862\n",
       "B_avg_REV                       23.735862\n",
       "B_avg_SUB_ATT                   23.735862\n",
       "B_avg_SIG_STR_att               23.735862\n",
       "B_avg_opp_SIG_STR_att           23.735862\n",
       "B_avg_opp_SIG_STR_landed        23.735862\n",
       "B_avg_TOTAL_STR_att             23.735862\n",
       "B_avg_TOTAL_STR_landed          23.735862\n",
       "B_avg_opp_TOTAL_STR_att         23.735862\n",
       "B_avg_opp_DISTANCE_att          23.735862\n",
       "B_avg_opp_DISTANCE_landed       23.735862\n",
       "B_avg_SIG_STR_landed            23.735862\n",
       "B_avg_CLINCH_att                23.735862\n",
       "B_Reach_cms                     14.820359\n",
       "dtype: float64"
      ]
     },
     "execution_count": 396,
     "metadata": {},
     "output_type": "execute_result"
    }
   ],
   "source": [
    "perc_missing = ufc.isnull().sum() * 100 / len(ufc)\n",
    "perc_missing.sort_values(ascending = False).head(50)"
   ]
  },
  {
   "cell_type": "markdown",
   "metadata": {},
   "source": [
    "### Do missing value rows have any previous fights?"
   ]
  },
  {
   "cell_type": "code",
   "execution_count": 397,
   "metadata": {},
   "outputs": [
    {
     "data": {
      "text/plain": [
       "0"
      ]
     },
     "execution_count": 397,
     "metadata": {},
     "output_type": "execute_result"
    }
   ],
   "source": [
    "ufc[ufc[\"B_avg_DISTANCE_att\"].isnull()][\"B_wins\"].sum()"
   ]
  },
  {
   "cell_type": "code",
   "execution_count": 398,
   "metadata": {},
   "outputs": [
    {
     "data": {
      "text/plain": [
       "0"
      ]
     },
     "execution_count": 398,
     "metadata": {},
     "output_type": "execute_result"
    }
   ],
   "source": [
    "ufc[ufc[\"B_avg_DISTANCE_att\"].isnull()][\"B_losses\"].sum()"
   ]
  },
  {
   "cell_type": "code",
   "execution_count": 399,
   "metadata": {},
   "outputs": [
    {
     "data": {
      "text/plain": [
       "0"
      ]
     },
     "execution_count": 399,
     "metadata": {},
     "output_type": "execute_result"
    }
   ],
   "source": [
    "ufc[ufc[\"B_avg_DISTANCE_att\"].isnull()][\"B_draw\"].sum()"
   ]
  },
  {
   "cell_type": "code",
   "execution_count": 400,
   "metadata": {},
   "outputs": [
    {
     "data": {
      "text/plain": [
       "0"
      ]
     },
     "execution_count": 400,
     "metadata": {},
     "output_type": "execute_result"
    }
   ],
   "source": [
    "ufc[ufc[\"R_avg_DISTANCE_att\"].isnull()][\"R_wins\"].sum()"
   ]
  },
  {
   "cell_type": "code",
   "execution_count": 401,
   "metadata": {},
   "outputs": [
    {
     "data": {
      "text/plain": [
       "0"
      ]
     },
     "execution_count": 401,
     "metadata": {},
     "output_type": "execute_result"
    }
   ],
   "source": [
    "ufc[ufc[\"R_avg_DISTANCE_att\"].isnull()][\"R_losses\"].sum()"
   ]
  },
  {
   "cell_type": "code",
   "execution_count": 402,
   "metadata": {},
   "outputs": [
    {
     "data": {
      "text/plain": [
       "0"
      ]
     },
     "execution_count": 402,
     "metadata": {},
     "output_type": "execute_result"
    }
   ],
   "source": [
    "ufc[ufc[\"R_avg_DISTANCE_att\"].isnull()][\"R_draw\"].sum()"
   ]
  },
  {
   "cell_type": "code",
   "execution_count": 403,
   "metadata": {},
   "outputs": [],
   "source": [
    "# NULLs for averages belong to fighters who are fighting without a record"
   ]
  },
  {
   "cell_type": "markdown",
   "metadata": {},
   "source": [
    "### Replace NULLs for average columns with league median"
   ]
  },
  {
   "cell_type": "code",
   "execution_count": 404,
   "metadata": {},
   "outputs": [],
   "source": [
    "avg_cols = [col for col in ufc.columns if \"avg\" in col]\n",
    "\n",
    "ufc[avg_cols] = ufc[avg_cols].fillna(ufc[avg_cols].median())"
   ]
  },
  {
   "cell_type": "code",
   "execution_count": 405,
   "metadata": {},
   "outputs": [],
   "source": [
    "ufc[[\"B_total_time_fought(seconds)\", \"R_total_time_fought(seconds)\"]] = ufc[[\"B_total_time_fought(seconds)\", \"R_total_time_fought(seconds)\"]].fillna(ufc[[\"B_total_time_fought(seconds)\", \"R_total_time_fought(seconds)\"]].median())"
   ]
  },
  {
   "cell_type": "code",
   "execution_count": 406,
   "metadata": {},
   "outputs": [
    {
     "data": {
      "text/html": [
       "<div>\n",
       "<style scoped>\n",
       "    .dataframe tbody tr th:only-of-type {\n",
       "        vertical-align: middle;\n",
       "    }\n",
       "\n",
       "    .dataframe tbody tr th {\n",
       "        vertical-align: top;\n",
       "    }\n",
       "\n",
       "    .dataframe thead th {\n",
       "        text-align: right;\n",
       "    }\n",
       "</style>\n",
       "<table border=\"1\" class=\"dataframe\">\n",
       "  <thead>\n",
       "    <tr style=\"text-align: right;\">\n",
       "      <th></th>\n",
       "      <th>R_fighter</th>\n",
       "      <th>B_fighter</th>\n",
       "      <th>Referee</th>\n",
       "      <th>date</th>\n",
       "      <th>location</th>\n",
       "      <th>Winner</th>\n",
       "      <th>title_bout</th>\n",
       "      <th>weight_class</th>\n",
       "      <th>B_avg_KD</th>\n",
       "      <th>B_avg_opp_KD</th>\n",
       "      <th>...</th>\n",
       "      <th>R_win_by_Decision_Unanimous</th>\n",
       "      <th>R_win_by_KO/TKO</th>\n",
       "      <th>R_win_by_Submission</th>\n",
       "      <th>R_win_by_TKO_Doctor_Stoppage</th>\n",
       "      <th>R_Stance</th>\n",
       "      <th>R_Height_cms</th>\n",
       "      <th>R_Reach_cms</th>\n",
       "      <th>R_Weight_lbs</th>\n",
       "      <th>B_age</th>\n",
       "      <th>R_age</th>\n",
       "    </tr>\n",
       "  </thead>\n",
       "  <tbody>\n",
       "    <tr>\n",
       "      <th>0</th>\n",
       "      <td>Adrian Yanez</td>\n",
       "      <td>Gustavo Lopez</td>\n",
       "      <td>Chris Tognoni</td>\n",
       "      <td>2021-03-20</td>\n",
       "      <td>Las Vegas, Nevada, USA</td>\n",
       "      <td>Red</td>\n",
       "      <td>False</td>\n",
       "      <td>Bantamweight</td>\n",
       "      <td>0.000000</td>\n",
       "      <td>0.0</td>\n",
       "      <td>...</td>\n",
       "      <td>0</td>\n",
       "      <td>1</td>\n",
       "      <td>0</td>\n",
       "      <td>0</td>\n",
       "      <td>Orthodox</td>\n",
       "      <td>170.18</td>\n",
       "      <td>177.80</td>\n",
       "      <td>135.0</td>\n",
       "      <td>31.0</td>\n",
       "      <td>27.0</td>\n",
       "    </tr>\n",
       "    <tr>\n",
       "      <th>1</th>\n",
       "      <td>Trevin Giles</td>\n",
       "      <td>Roman Dolidze</td>\n",
       "      <td>Herb Dean</td>\n",
       "      <td>2021-03-20</td>\n",
       "      <td>Las Vegas, Nevada, USA</td>\n",
       "      <td>Red</td>\n",
       "      <td>False</td>\n",
       "      <td>Middleweight</td>\n",
       "      <td>0.500000</td>\n",
       "      <td>0.0</td>\n",
       "      <td>...</td>\n",
       "      <td>0</td>\n",
       "      <td>3</td>\n",
       "      <td>0</td>\n",
       "      <td>0</td>\n",
       "      <td>Orthodox</td>\n",
       "      <td>182.88</td>\n",
       "      <td>187.96</td>\n",
       "      <td>185.0</td>\n",
       "      <td>32.0</td>\n",
       "      <td>28.0</td>\n",
       "    </tr>\n",
       "    <tr>\n",
       "      <th>2</th>\n",
       "      <td>Tai Tuivasa</td>\n",
       "      <td>Harry Hunsucker</td>\n",
       "      <td>Herb Dean</td>\n",
       "      <td>2021-03-20</td>\n",
       "      <td>Las Vegas, Nevada, USA</td>\n",
       "      <td>Red</td>\n",
       "      <td>False</td>\n",
       "      <td>Heavyweight</td>\n",
       "      <td>0.015625</td>\n",
       "      <td>0.0</td>\n",
       "      <td>...</td>\n",
       "      <td>1</td>\n",
       "      <td>3</td>\n",
       "      <td>0</td>\n",
       "      <td>0</td>\n",
       "      <td>Southpaw</td>\n",
       "      <td>187.96</td>\n",
       "      <td>190.50</td>\n",
       "      <td>264.0</td>\n",
       "      <td>32.0</td>\n",
       "      <td>28.0</td>\n",
       "    </tr>\n",
       "    <tr>\n",
       "      <th>3</th>\n",
       "      <td>Cheyanne Buys</td>\n",
       "      <td>Montserrat Conejo</td>\n",
       "      <td>Mark Smith</td>\n",
       "      <td>2021-03-20</td>\n",
       "      <td>Las Vegas, Nevada, USA</td>\n",
       "      <td>Blue</td>\n",
       "      <td>False</td>\n",
       "      <td>WomenStrawweight</td>\n",
       "      <td>0.015625</td>\n",
       "      <td>0.0</td>\n",
       "      <td>...</td>\n",
       "      <td>0</td>\n",
       "      <td>0</td>\n",
       "      <td>0</td>\n",
       "      <td>0</td>\n",
       "      <td>Switch</td>\n",
       "      <td>160.02</td>\n",
       "      <td>160.02</td>\n",
       "      <td>115.0</td>\n",
       "      <td>28.0</td>\n",
       "      <td>25.0</td>\n",
       "    </tr>\n",
       "    <tr>\n",
       "      <th>4</th>\n",
       "      <td>Marion Reneau</td>\n",
       "      <td>Macy Chiasson</td>\n",
       "      <td>Mark Smith</td>\n",
       "      <td>2021-03-20</td>\n",
       "      <td>Las Vegas, Nevada, USA</td>\n",
       "      <td>Blue</td>\n",
       "      <td>False</td>\n",
       "      <td>WomenBantamweight</td>\n",
       "      <td>0.125000</td>\n",
       "      <td>0.0</td>\n",
       "      <td>...</td>\n",
       "      <td>1</td>\n",
       "      <td>2</td>\n",
       "      <td>2</td>\n",
       "      <td>0</td>\n",
       "      <td>Orthodox</td>\n",
       "      <td>167.64</td>\n",
       "      <td>172.72</td>\n",
       "      <td>135.0</td>\n",
       "      <td>29.0</td>\n",
       "      <td>43.0</td>\n",
       "    </tr>\n",
       "  </tbody>\n",
       "</table>\n",
       "<p>5 rows × 144 columns</p>\n",
       "</div>"
      ],
      "text/plain": [
       "       R_fighter          B_fighter        Referee        date  \\\n",
       "0   Adrian Yanez      Gustavo Lopez  Chris Tognoni  2021-03-20   \n",
       "1   Trevin Giles      Roman Dolidze      Herb Dean  2021-03-20   \n",
       "2    Tai Tuivasa    Harry Hunsucker      Herb Dean  2021-03-20   \n",
       "3  Cheyanne Buys  Montserrat Conejo     Mark Smith  2021-03-20   \n",
       "4  Marion Reneau      Macy Chiasson     Mark Smith  2021-03-20   \n",
       "\n",
       "                 location Winner  title_bout       weight_class  B_avg_KD  \\\n",
       "0  Las Vegas, Nevada, USA    Red       False       Bantamweight  0.000000   \n",
       "1  Las Vegas, Nevada, USA    Red       False       Middleweight  0.500000   \n",
       "2  Las Vegas, Nevada, USA    Red       False        Heavyweight  0.015625   \n",
       "3  Las Vegas, Nevada, USA   Blue       False   WomenStrawweight  0.015625   \n",
       "4  Las Vegas, Nevada, USA   Blue       False  WomenBantamweight  0.125000   \n",
       "\n",
       "   B_avg_opp_KD  ...  R_win_by_Decision_Unanimous  R_win_by_KO/TKO  \\\n",
       "0           0.0  ...                            0                1   \n",
       "1           0.0  ...                            0                3   \n",
       "2           0.0  ...                            1                3   \n",
       "3           0.0  ...                            0                0   \n",
       "4           0.0  ...                            1                2   \n",
       "\n",
       "   R_win_by_Submission  R_win_by_TKO_Doctor_Stoppage  R_Stance  R_Height_cms  \\\n",
       "0                    0                             0  Orthodox        170.18   \n",
       "1                    0                             0  Orthodox        182.88   \n",
       "2                    0                             0  Southpaw        187.96   \n",
       "3                    0                             0    Switch        160.02   \n",
       "4                    2                             0  Orthodox        167.64   \n",
       "\n",
       "   R_Reach_cms  R_Weight_lbs  B_age  R_age  \n",
       "0       177.80         135.0   31.0   27.0  \n",
       "1       187.96         185.0   32.0   28.0  \n",
       "2       190.50         264.0   32.0   28.0  \n",
       "3       160.02         115.0   28.0   25.0  \n",
       "4       172.72         135.0   29.0   43.0  \n",
       "\n",
       "[5 rows x 144 columns]"
      ]
     },
     "execution_count": 406,
     "metadata": {},
     "output_type": "execute_result"
    }
   ],
   "source": [
    "ufc.head()"
   ]
  },
  {
   "cell_type": "markdown",
   "metadata": {},
   "source": [
    "### Remaining NULLs belong to fighters missing personal info, will drop rows"
   ]
  },
  {
   "cell_type": "code",
   "execution_count": 407,
   "metadata": {},
   "outputs": [
    {
     "data": {
      "text/plain": [
       "B_Reach_cms              891\n",
       "R_Reach_cms              406\n",
       "B_age                    172\n",
       "B_Stance                  66\n",
       "R_age                     63\n",
       "Referee                   32\n",
       "R_Stance                  29\n",
       "B_Height_cms              10\n",
       "B_Weight_lbs               8\n",
       "R_Height_cms               4\n",
       "R_Weight_lbs               2\n",
       "B_avg_DISTANCE_landed      0\n",
       "B_avg_opp_CLINCH_att       0\n",
       "B_avg_CLINCH_landed        0\n",
       "B_avg_CLINCH_att           0\n",
       "dtype: int64"
      ]
     },
     "execution_count": 407,
     "metadata": {},
     "output_type": "execute_result"
    }
   ],
   "source": [
    "perc_missing = ufc.isnull().sum()\n",
    "perc_missing.sort_values(ascending = False).head(15)"
   ]
  },
  {
   "cell_type": "code",
   "execution_count": 408,
   "metadata": {},
   "outputs": [
    {
     "data": {
      "text/plain": [
       "(4918, 144)"
      ]
     },
     "execution_count": 408,
     "metadata": {},
     "output_type": "execute_result"
    }
   ],
   "source": [
    "# remove rows with missing data\n",
    "ufc = ufc.dropna(axis = 0, how = \"any\")\n",
    "ufc.shape\n",
    "# left with 4918 rows"
   ]
  },
  {
   "cell_type": "markdown",
   "metadata": {},
   "source": [
    "## Data Type Boolean"
   ]
  },
  {
   "cell_type": "code",
   "execution_count": 409,
   "metadata": {},
   "outputs": [
    {
     "data": {
      "text/plain": [
       "['title_bout']"
      ]
     },
     "execution_count": 409,
     "metadata": {},
     "output_type": "execute_result"
    }
   ],
   "source": [
    "ufc.select_dtypes(include = \"boolean\").columns.tolist()"
   ]
  },
  {
   "cell_type": "code",
   "execution_count": 410,
   "metadata": {},
   "outputs": [
    {
     "data": {
      "text/plain": [
       "False    0.939813\n",
       "True     0.060187\n",
       "Name: title_bout, dtype: float64"
      ]
     },
     "execution_count": 410,
     "metadata": {},
     "output_type": "execute_result"
    }
   ],
   "source": [
    "ufc[\"title_bout\"].value_counts(normalize = True)"
   ]
  },
  {
   "cell_type": "markdown",
   "metadata": {},
   "source": [
    "## Data Type Object"
   ]
  },
  {
   "cell_type": "code",
   "execution_count": 411,
   "metadata": {},
   "outputs": [
    {
     "data": {
      "text/plain": [
       "['R_fighter',\n",
       " 'B_fighter',\n",
       " 'Referee',\n",
       " 'date',\n",
       " 'location',\n",
       " 'Winner',\n",
       " 'weight_class',\n",
       " 'B_Stance',\n",
       " 'R_Stance']"
      ]
     },
     "execution_count": 411,
     "metadata": {},
     "output_type": "execute_result"
    }
   ],
   "source": [
    "ufc.select_dtypes(include = \"object\").columns.tolist()"
   ]
  },
  {
   "cell_type": "code",
   "execution_count": 412,
   "metadata": {},
   "outputs": [],
   "source": [
    "ufc[\"Referee\"] = ufc[\"Referee\"].astype(\"category\")\n",
    "ufc[\"location\"] = ufc[\"location\"].astype(\"category\")\n",
    "ufc[\"Winner\"] = ufc[\"Winner\"].astype(\"category\")\n",
    "ufc[\"weight_class\"] = ufc[\"weight_class\"].astype(\"category\")\n",
    "ufc[\"B_Stance\"] = ufc[\"B_Stance\"].astype(\"category\")\n",
    "ufc[\"R_Stance\"] = ufc[\"R_Stance\"].astype(\"category\")\n",
    "\n",
    "ufc[\"date\"] = pd.to_datetime(ufc[\"date\"])"
   ]
  },
  {
   "cell_type": "code",
   "execution_count": 413,
   "metadata": {},
   "outputs": [
    {
     "name": "stdout",
     "output_type": "stream",
     "text": [
      "<class 'pandas.core.frame.DataFrame'>\n",
      "Int64Index: 4918 entries, 0 to 5884\n",
      "Columns: 144 entries, R_fighter to R_age\n",
      "dtypes: bool(1), category(6), datetime64[ns](1), float64(106), int64(28), object(2)\n",
      "memory usage: 5.2+ MB\n"
     ]
    }
   ],
   "source": [
    "ufc.info()"
   ]
  },
  {
   "cell_type": "code",
   "execution_count": 414,
   "metadata": {},
   "outputs": [
    {
     "data": {
      "text/plain": [
       "194"
      ]
     },
     "execution_count": 414,
     "metadata": {},
     "output_type": "execute_result"
    }
   ],
   "source": [
    "ufc[\"Referee\"].nunique()"
   ]
  },
  {
   "cell_type": "code",
   "execution_count": 415,
   "metadata": {},
   "outputs": [
    {
     "data": {
      "text/plain": [
       "Referee\n",
       "Herb Dean          757\n",
       "Dan Miragliotta    366\n",
       "John McCarthy      344\n",
       "Marc Goddard       318\n",
       "Mario Yamasaki     297\n",
       "Yves Lavigne       226\n",
       "Keith Peterson     176\n",
       "Jason Herzog       164\n",
       "Leon Roberts       163\n",
       "Chris Tognoni      147\n",
       "dtype: int64"
      ]
     },
     "execution_count": 415,
     "metadata": {},
     "output_type": "execute_result"
    }
   ],
   "source": [
    "ufc.value_counts(\"Referee\").head(10)"
   ]
  },
  {
   "cell_type": "code",
   "execution_count": 416,
   "metadata": {},
   "outputs": [
    {
     "data": {
      "text/plain": [
       "156"
      ]
     },
     "execution_count": 416,
     "metadata": {},
     "output_type": "execute_result"
    }
   ],
   "source": [
    "ufc[\"location\"].nunique()"
   ]
  },
  {
   "cell_type": "code",
   "execution_count": 417,
   "metadata": {},
   "outputs": [
    {
     "data": {
      "text/plain": [
       "location\n",
       "Las Vegas, Nevada, USA                        1277\n",
       "Abu Dhabi, Abu Dhabi, United Arab Emirates     148\n",
       "London, England, United Kingdom                 91\n",
       "Newark, New Jersey, USA                         85\n",
       "Chicago, Illinois, USA                          75\n",
       "Montreal, Quebec, Canada                        72\n",
       "Toronto, Ontario, Canada                        71\n",
       "Los Angeles, California, USA                    69\n",
       "Anaheim, California, USA                        69\n",
       "Houston, Texas, USA                             66\n",
       "dtype: int64"
      ]
     },
     "execution_count": 417,
     "metadata": {},
     "output_type": "execute_result"
    }
   ],
   "source": [
    "ufc.value_counts(\"location\").head(10)"
   ]
  },
  {
   "cell_type": "code",
   "execution_count": 418,
   "metadata": {},
   "outputs": [
    {
     "data": {
      "text/plain": [
       "13"
      ]
     },
     "execution_count": 418,
     "metadata": {},
     "output_type": "execute_result"
    }
   ],
   "source": [
    "ufc[\"weight_class\"].nunique()"
   ]
  },
  {
   "cell_type": "code",
   "execution_count": 419,
   "metadata": {},
   "outputs": [
    {
     "data": {
      "text/plain": [
       "<AxesSubplot:xlabel='weight_class', ylabel='count'>"
      ]
     },
     "execution_count": 419,
     "metadata": {},
     "output_type": "execute_result"
    },
    {
     "data": {
      "image/png": "[encoded data removed]",
      "text/plain": [
       "<Figure size 432x288 with 1 Axes>"
      ]
     },
     "metadata": {
      "needs_background": "light"
     },
     "output_type": "display_data"
    }
   ],
   "source": [
    "sns.countplot(x = \"weight_class\", data = ufc)"
   ]
  },
  {
   "cell_type": "markdown",
   "metadata": {},
   "source": [
    "## Data Type Float"
   ]
  },
  {
   "cell_type": "code",
   "execution_count": 420,
   "metadata": {},
   "outputs": [
    {
     "data": {
      "text/html": [
       "<div>\n",
       "<style scoped>\n",
       "    .dataframe tbody tr th:only-of-type {\n",
       "        vertical-align: middle;\n",
       "    }\n",
       "\n",
       "    .dataframe tbody tr th {\n",
       "        vertical-align: top;\n",
       "    }\n",
       "\n",
       "    .dataframe thead th {\n",
       "        text-align: right;\n",
       "    }\n",
       "</style>\n",
       "<table border=\"1\" class=\"dataframe\">\n",
       "  <thead>\n",
       "    <tr style=\"text-align: right;\">\n",
       "      <th></th>\n",
       "      <th>B_avg_KD</th>\n",
       "      <th>B_avg_opp_KD</th>\n",
       "      <th>B_avg_SIG_STR_pct</th>\n",
       "      <th>B_avg_opp_SIG_STR_pct</th>\n",
       "      <th>B_avg_TD_pct</th>\n",
       "      <th>B_avg_opp_TD_pct</th>\n",
       "      <th>B_avg_SUB_ATT</th>\n",
       "      <th>B_avg_opp_SUB_ATT</th>\n",
       "      <th>B_avg_REV</th>\n",
       "      <th>B_avg_opp_REV</th>\n",
       "      <th>...</th>\n",
       "      <th>R_avg_opp_GROUND_att</th>\n",
       "      <th>R_avg_opp_GROUND_landed</th>\n",
       "      <th>R_avg_CTRL_time(seconds)</th>\n",
       "      <th>R_avg_opp_CTRL_time(seconds)</th>\n",
       "      <th>R_total_time_fought(seconds)</th>\n",
       "      <th>R_Height_cms</th>\n",
       "      <th>R_Reach_cms</th>\n",
       "      <th>R_Weight_lbs</th>\n",
       "      <th>B_age</th>\n",
       "      <th>R_age</th>\n",
       "    </tr>\n",
       "  </thead>\n",
       "  <tbody>\n",
       "    <tr>\n",
       "      <th>count</th>\n",
       "      <td>4918.000000</td>\n",
       "      <td>4918.000000</td>\n",
       "      <td>4918.000000</td>\n",
       "      <td>4918.000000</td>\n",
       "      <td>4918.000000</td>\n",
       "      <td>4918.000000</td>\n",
       "      <td>4918.000000</td>\n",
       "      <td>4918.000000</td>\n",
       "      <td>4918.000000</td>\n",
       "      <td>4918.000000</td>\n",
       "      <td>...</td>\n",
       "      <td>4918.000000</td>\n",
       "      <td>4918.000000</td>\n",
       "      <td>4918.000000</td>\n",
       "      <td>4918.000000</td>\n",
       "      <td>4918.000000</td>\n",
       "      <td>4918.000000</td>\n",
       "      <td>4918.000000</td>\n",
       "      <td>4918.000000</td>\n",
       "      <td>4918.000000</td>\n",
       "      <td>4918.000000</td>\n",
       "    </tr>\n",
       "    <tr>\n",
       "      <th>mean</th>\n",
       "      <td>0.218345</td>\n",
       "      <td>0.144260</td>\n",
       "      <td>0.453581</td>\n",
       "      <td>0.429400</td>\n",
       "      <td>0.287055</td>\n",
       "      <td>0.248989</td>\n",
       "      <td>0.414156</td>\n",
       "      <td>0.336956</td>\n",
       "      <td>0.127818</td>\n",
       "      <td>0.114564</td>\n",
       "      <td>...</td>\n",
       "      <td>6.511937</td>\n",
       "      <td>4.407705</td>\n",
       "      <td>144.434241</td>\n",
       "      <td>122.011244</td>\n",
       "      <td>648.428293</td>\n",
       "      <td>178.609309</td>\n",
       "      <td>183.402668</td>\n",
       "      <td>168.085197</td>\n",
       "      <td>29.399756</td>\n",
       "      <td>29.892233</td>\n",
       "    </tr>\n",
       "    <tr>\n",
       "      <th>std</th>\n",
       "      <td>0.358739</td>\n",
       "      <td>0.291399</td>\n",
       "      <td>0.109874</td>\n",
       "      <td>0.111877</td>\n",
       "      <td>0.241174</td>\n",
       "      <td>0.231054</td>\n",
       "      <td>0.649660</td>\n",
       "      <td>0.566892</td>\n",
       "      <td>0.306468</td>\n",
       "      <td>0.286533</td>\n",
       "      <td>...</td>\n",
       "      <td>8.265301</td>\n",
       "      <td>5.667398</td>\n",
       "      <td>129.976314</td>\n",
       "      <td>111.848039</td>\n",
       "      <td>250.621705</td>\n",
       "      <td>8.913176</td>\n",
       "      <td>10.727479</td>\n",
       "      <td>34.502735</td>\n",
       "      <td>4.006809</td>\n",
       "      <td>4.142541</td>\n",
       "    </tr>\n",
       "    <tr>\n",
       "      <th>min</th>\n",
       "      <td>0.000000</td>\n",
       "      <td>0.000000</td>\n",
       "      <td>0.000000</td>\n",
       "      <td>0.000000</td>\n",
       "      <td>0.000000</td>\n",
       "      <td>0.000000</td>\n",
       "      <td>0.000000</td>\n",
       "      <td>0.000000</td>\n",
       "      <td>0.000000</td>\n",
       "      <td>0.000000</td>\n",
       "      <td>...</td>\n",
       "      <td>0.000000</td>\n",
       "      <td>0.000000</td>\n",
       "      <td>0.000000</td>\n",
       "      <td>0.000000</td>\n",
       "      <td>7.000000</td>\n",
       "      <td>152.400000</td>\n",
       "      <td>152.400000</td>\n",
       "      <td>115.000000</td>\n",
       "      <td>19.000000</td>\n",
       "      <td>19.000000</td>\n",
       "    </tr>\n",
       "    <tr>\n",
       "      <th>1%</th>\n",
       "      <td>0.000000</td>\n",
       "      <td>0.000000</td>\n",
       "      <td>0.165213</td>\n",
       "      <td>0.160000</td>\n",
       "      <td>0.000000</td>\n",
       "      <td>0.000000</td>\n",
       "      <td>0.000000</td>\n",
       "      <td>0.000000</td>\n",
       "      <td>0.000000</td>\n",
       "      <td>0.000000</td>\n",
       "      <td>...</td>\n",
       "      <td>0.000000</td>\n",
       "      <td>0.000000</td>\n",
       "      <td>0.000000</td>\n",
       "      <td>0.000000</td>\n",
       "      <td>81.000000</td>\n",
       "      <td>160.020000</td>\n",
       "      <td>160.020000</td>\n",
       "      <td>115.000000</td>\n",
       "      <td>21.000000</td>\n",
       "      <td>21.000000</td>\n",
       "    </tr>\n",
       "    <tr>\n",
       "      <th>50%</th>\n",
       "      <td>0.015625</td>\n",
       "      <td>0.000000</td>\n",
       "      <td>0.450000</td>\n",
       "      <td>0.427500</td>\n",
       "      <td>0.250000</td>\n",
       "      <td>0.200000</td>\n",
       "      <td>0.148468</td>\n",
       "      <td>0.098389</td>\n",
       "      <td>0.000000</td>\n",
       "      <td>0.000000</td>\n",
       "      <td>...</td>\n",
       "      <td>4.000000</td>\n",
       "      <td>2.656250</td>\n",
       "      <td>104.865234</td>\n",
       "      <td>89.500000</td>\n",
       "      <td>655.844101</td>\n",
       "      <td>180.340000</td>\n",
       "      <td>182.880000</td>\n",
       "      <td>170.000000</td>\n",
       "      <td>29.000000</td>\n",
       "      <td>30.000000</td>\n",
       "    </tr>\n",
       "    <tr>\n",
       "      <th>99%</th>\n",
       "      <td>1.500000</td>\n",
       "      <td>1.126621</td>\n",
       "      <td>0.758659</td>\n",
       "      <td>0.750000</td>\n",
       "      <td>1.000000</td>\n",
       "      <td>1.000000</td>\n",
       "      <td>3.000000</td>\n",
       "      <td>2.500000</td>\n",
       "      <td>1.375000</td>\n",
       "      <td>1.250000</td>\n",
       "      <td>...</td>\n",
       "      <td>39.800760</td>\n",
       "      <td>27.000000</td>\n",
       "      <td>580.741348</td>\n",
       "      <td>504.784023</td>\n",
       "      <td>1304.437876</td>\n",
       "      <td>198.120000</td>\n",
       "      <td>208.280000</td>\n",
       "      <td>265.000000</td>\n",
       "      <td>40.000000</td>\n",
       "      <td>40.000000</td>\n",
       "    </tr>\n",
       "    <tr>\n",
       "      <th>max</th>\n",
       "      <td>5.000000</td>\n",
       "      <td>3.000000</td>\n",
       "      <td>1.000000</td>\n",
       "      <td>1.000000</td>\n",
       "      <td>1.000000</td>\n",
       "      <td>1.000000</td>\n",
       "      <td>8.000000</td>\n",
       "      <td>7.000000</td>\n",
       "      <td>3.000000</td>\n",
       "      <td>3.000000</td>\n",
       "      <td>...</td>\n",
       "      <td>104.000000</td>\n",
       "      <td>68.000000</td>\n",
       "      <td>996.749573</td>\n",
       "      <td>812.000000</td>\n",
       "      <td>1500.000000</td>\n",
       "      <td>210.820000</td>\n",
       "      <td>213.360000</td>\n",
       "      <td>265.000000</td>\n",
       "      <td>47.000000</td>\n",
       "      <td>46.000000</td>\n",
       "    </tr>\n",
       "  </tbody>\n",
       "</table>\n",
       "<p>8 rows × 106 columns</p>\n",
       "</div>"
      ],
      "text/plain": [
       "          B_avg_KD  B_avg_opp_KD  B_avg_SIG_STR_pct  B_avg_opp_SIG_STR_pct  \\\n",
       "count  4918.000000   4918.000000        4918.000000            4918.000000   \n",
       "mean      0.218345      0.144260           0.453581               0.429400   \n",
       "std       0.358739      0.291399           0.109874               0.111877   \n",
       "min       0.000000      0.000000           0.000000               0.000000   \n",
       "1%        0.000000      0.000000           0.165213               0.160000   \n",
       "50%       0.015625      0.000000           0.450000               0.427500   \n",
       "99%       1.500000      1.126621           0.758659               0.750000   \n",
       "max       5.000000      3.000000           1.000000               1.000000   \n",
       "\n",
       "       B_avg_TD_pct  B_avg_opp_TD_pct  B_avg_SUB_ATT  B_avg_opp_SUB_ATT  \\\n",
       "count   4918.000000       4918.000000    4918.000000        4918.000000   \n",
       "mean       0.287055          0.248989       0.414156           0.336956   \n",
       "std        0.241174          0.231054       0.649660           0.566892   \n",
       "min        0.000000          0.000000       0.000000           0.000000   \n",
       "1%         0.000000          0.000000       0.000000           0.000000   \n",
       "50%        0.250000          0.200000       0.148468           0.098389   \n",
       "99%        1.000000          1.000000       3.000000           2.500000   \n",
       "max        1.000000          1.000000       8.000000           7.000000   \n",
       "\n",
       "         B_avg_REV  B_avg_opp_REV  ...  R_avg_opp_GROUND_att  \\\n",
       "count  4918.000000    4918.000000  ...           4918.000000   \n",
       "mean      0.127818       0.114564  ...              6.511937   \n",
       "std       0.306468       0.286533  ...              8.265301   \n",
       "min       0.000000       0.000000  ...              0.000000   \n",
       "1%        0.000000       0.000000  ...              0.000000   \n",
       "50%       0.000000       0.000000  ...              4.000000   \n",
       "99%       1.375000       1.250000  ...             39.800760   \n",
       "max       3.000000       3.000000  ...            104.000000   \n",
       "\n",
       "       R_avg_opp_GROUND_landed  R_avg_CTRL_time(seconds)  \\\n",
       "count              4918.000000               4918.000000   \n",
       "mean                  4.407705                144.434241   \n",
       "std                   5.667398                129.976314   \n",
       "min                   0.000000                  0.000000   \n",
       "1%                    0.000000                  0.000000   \n",
       "50%                   2.656250                104.865234   \n",
       "99%                  27.000000                580.741348   \n",
       "max                  68.000000                996.749573   \n",
       "\n",
       "       R_avg_opp_CTRL_time(seconds)  R_total_time_fought(seconds)  \\\n",
       "count                   4918.000000                   4918.000000   \n",
       "mean                     122.011244                    648.428293   \n",
       "std                      111.848039                    250.621705   \n",
       "min                        0.000000                      7.000000   \n",
       "1%                         0.000000                     81.000000   \n",
       "50%                       89.500000                    655.844101   \n",
       "99%                      504.784023                   1304.437876   \n",
       "max                      812.000000                   1500.000000   \n",
       "\n",
       "       R_Height_cms  R_Reach_cms  R_Weight_lbs        B_age        R_age  \n",
       "count   4918.000000  4918.000000   4918.000000  4918.000000  4918.000000  \n",
       "mean     178.609309   183.402668    168.085197    29.399756    29.892233  \n",
       "std        8.913176    10.727479     34.502735     4.006809     4.142541  \n",
       "min      152.400000   152.400000    115.000000    19.000000    19.000000  \n",
       "1%       160.020000   160.020000    115.000000    21.000000    21.000000  \n",
       "50%      180.340000   182.880000    170.000000    29.000000    30.000000  \n",
       "99%      198.120000   208.280000    265.000000    40.000000    40.000000  \n",
       "max      210.820000   213.360000    265.000000    47.000000    46.000000  \n",
       "\n",
       "[8 rows x 106 columns]"
      ]
     },
     "execution_count": 420,
     "metadata": {},
     "output_type": "execute_result"
    }
   ],
   "source": [
    "float_vars = ufc.select_dtypes(include = \"float64\").columns.tolist()\n",
    "ufc[float_vars].describe(percentiles = [0.01, 0.99])"
   ]
  },
  {
   "cell_type": "markdown",
   "metadata": {},
   "source": [
    "## Data Type Int"
   ]
  },
  {
   "cell_type": "code",
   "execution_count": 421,
   "metadata": {},
   "outputs": [
    {
     "data": {
      "text/html": [
       "<div>\n",
       "<style scoped>\n",
       "    .dataframe tbody tr th:only-of-type {\n",
       "        vertical-align: middle;\n",
       "    }\n",
       "\n",
       "    .dataframe tbody tr th {\n",
       "        vertical-align: top;\n",
       "    }\n",
       "\n",
       "    .dataframe thead th {\n",
       "        text-align: right;\n",
       "    }\n",
       "</style>\n",
       "<table border=\"1\" class=\"dataframe\">\n",
       "  <thead>\n",
       "    <tr style=\"text-align: right;\">\n",
       "      <th></th>\n",
       "      <th>B_total_rounds_fought</th>\n",
       "      <th>B_total_title_bouts</th>\n",
       "      <th>B_current_win_streak</th>\n",
       "      <th>B_current_lose_streak</th>\n",
       "      <th>B_longest_win_streak</th>\n",
       "      <th>B_wins</th>\n",
       "      <th>B_losses</th>\n",
       "      <th>B_draw</th>\n",
       "      <th>B_win_by_Decision_Majority</th>\n",
       "      <th>B_win_by_Decision_Split</th>\n",
       "      <th>...</th>\n",
       "      <th>R_longest_win_streak</th>\n",
       "      <th>R_wins</th>\n",
       "      <th>R_losses</th>\n",
       "      <th>R_draw</th>\n",
       "      <th>R_win_by_Decision_Majority</th>\n",
       "      <th>R_win_by_Decision_Split</th>\n",
       "      <th>R_win_by_Decision_Unanimous</th>\n",
       "      <th>R_win_by_KO/TKO</th>\n",
       "      <th>R_win_by_Submission</th>\n",
       "      <th>R_win_by_TKO_Doctor_Stoppage</th>\n",
       "    </tr>\n",
       "  </thead>\n",
       "  <tbody>\n",
       "    <tr>\n",
       "      <th>count</th>\n",
       "      <td>4918.00000</td>\n",
       "      <td>4918.000000</td>\n",
       "      <td>4918.000000</td>\n",
       "      <td>4918.000000</td>\n",
       "      <td>4918.000000</td>\n",
       "      <td>4918.000000</td>\n",
       "      <td>4918.000000</td>\n",
       "      <td>4918.0</td>\n",
       "      <td>4918.000000</td>\n",
       "      <td>4918.000000</td>\n",
       "      <td>...</td>\n",
       "      <td>4918.000000</td>\n",
       "      <td>4918.000000</td>\n",
       "      <td>4918.000000</td>\n",
       "      <td>4918.0</td>\n",
       "      <td>4918.000000</td>\n",
       "      <td>4918.000000</td>\n",
       "      <td>4918.000000</td>\n",
       "      <td>4918.000000</td>\n",
       "      <td>4918.000000</td>\n",
       "      <td>4918.000000</td>\n",
       "    </tr>\n",
       "    <tr>\n",
       "      <th>mean</th>\n",
       "      <td>11.04636</td>\n",
       "      <td>0.307442</td>\n",
       "      <td>1.072997</td>\n",
       "      <td>0.419683</td>\n",
       "      <td>1.884303</td>\n",
       "      <td>3.018910</td>\n",
       "      <td>1.761082</td>\n",
       "      <td>0.0</td>\n",
       "      <td>0.018300</td>\n",
       "      <td>0.258032</td>\n",
       "      <td>...</td>\n",
       "      <td>2.598617</td>\n",
       "      <td>4.286092</td>\n",
       "      <td>2.320455</td>\n",
       "      <td>0.0</td>\n",
       "      <td>0.030907</td>\n",
       "      <td>0.357666</td>\n",
       "      <td>1.451810</td>\n",
       "      <td>1.475803</td>\n",
       "      <td>0.888979</td>\n",
       "      <td>0.072590</td>\n",
       "    </tr>\n",
       "    <tr>\n",
       "      <th>std</th>\n",
       "      <td>12.39852</td>\n",
       "      <td>1.210854</td>\n",
       "      <td>1.556135</td>\n",
       "      <td>0.687459</td>\n",
       "      <td>1.839788</td>\n",
       "      <td>3.451846</td>\n",
       "      <td>2.030090</td>\n",
       "      <td>0.0</td>\n",
       "      <td>0.135557</td>\n",
       "      <td>0.564267</td>\n",
       "      <td>...</td>\n",
       "      <td>2.122047</td>\n",
       "      <td>3.968056</td>\n",
       "      <td>2.362981</td>\n",
       "      <td>0.0</td>\n",
       "      <td>0.175417</td>\n",
       "      <td>0.657843</td>\n",
       "      <td>1.759953</td>\n",
       "      <td>1.956026</td>\n",
       "      <td>1.430754</td>\n",
       "      <td>0.281302</td>\n",
       "    </tr>\n",
       "    <tr>\n",
       "      <th>min</th>\n",
       "      <td>0.00000</td>\n",
       "      <td>0.000000</td>\n",
       "      <td>0.000000</td>\n",
       "      <td>0.000000</td>\n",
       "      <td>0.000000</td>\n",
       "      <td>0.000000</td>\n",
       "      <td>0.000000</td>\n",
       "      <td>0.0</td>\n",
       "      <td>0.000000</td>\n",
       "      <td>0.000000</td>\n",
       "      <td>...</td>\n",
       "      <td>0.000000</td>\n",
       "      <td>0.000000</td>\n",
       "      <td>0.000000</td>\n",
       "      <td>0.0</td>\n",
       "      <td>0.000000</td>\n",
       "      <td>0.000000</td>\n",
       "      <td>0.000000</td>\n",
       "      <td>0.000000</td>\n",
       "      <td>0.000000</td>\n",
       "      <td>0.000000</td>\n",
       "    </tr>\n",
       "    <tr>\n",
       "      <th>1%</th>\n",
       "      <td>0.00000</td>\n",
       "      <td>0.000000</td>\n",
       "      <td>0.000000</td>\n",
       "      <td>0.000000</td>\n",
       "      <td>0.000000</td>\n",
       "      <td>0.000000</td>\n",
       "      <td>0.000000</td>\n",
       "      <td>0.0</td>\n",
       "      <td>0.000000</td>\n",
       "      <td>0.000000</td>\n",
       "      <td>...</td>\n",
       "      <td>0.000000</td>\n",
       "      <td>0.000000</td>\n",
       "      <td>0.000000</td>\n",
       "      <td>0.0</td>\n",
       "      <td>0.000000</td>\n",
       "      <td>0.000000</td>\n",
       "      <td>0.000000</td>\n",
       "      <td>0.000000</td>\n",
       "      <td>0.000000</td>\n",
       "      <td>0.000000</td>\n",
       "    </tr>\n",
       "    <tr>\n",
       "      <th>50%</th>\n",
       "      <td>7.00000</td>\n",
       "      <td>0.000000</td>\n",
       "      <td>0.000000</td>\n",
       "      <td>0.000000</td>\n",
       "      <td>1.000000</td>\n",
       "      <td>2.000000</td>\n",
       "      <td>1.000000</td>\n",
       "      <td>0.0</td>\n",
       "      <td>0.000000</td>\n",
       "      <td>0.000000</td>\n",
       "      <td>...</td>\n",
       "      <td>2.000000</td>\n",
       "      <td>3.000000</td>\n",
       "      <td>2.000000</td>\n",
       "      <td>0.0</td>\n",
       "      <td>0.000000</td>\n",
       "      <td>0.000000</td>\n",
       "      <td>1.000000</td>\n",
       "      <td>1.000000</td>\n",
       "      <td>0.000000</td>\n",
       "      <td>0.000000</td>\n",
       "    </tr>\n",
       "    <tr>\n",
       "      <th>99%</th>\n",
       "      <td>58.00000</td>\n",
       "      <td>6.000000</td>\n",
       "      <td>7.000000</td>\n",
       "      <td>3.000000</td>\n",
       "      <td>7.000000</td>\n",
       "      <td>15.000000</td>\n",
       "      <td>9.000000</td>\n",
       "      <td>0.0</td>\n",
       "      <td>1.000000</td>\n",
       "      <td>2.000000</td>\n",
       "      <td>...</td>\n",
       "      <td>9.000000</td>\n",
       "      <td>17.000000</td>\n",
       "      <td>10.000000</td>\n",
       "      <td>0.0</td>\n",
       "      <td>1.000000</td>\n",
       "      <td>3.000000</td>\n",
       "      <td>8.000000</td>\n",
       "      <td>9.000000</td>\n",
       "      <td>7.000000</td>\n",
       "      <td>1.000000</td>\n",
       "    </tr>\n",
       "    <tr>\n",
       "      <th>max</th>\n",
       "      <td>94.00000</td>\n",
       "      <td>16.000000</td>\n",
       "      <td>16.000000</td>\n",
       "      <td>5.000000</td>\n",
       "      <td>16.000000</td>\n",
       "      <td>23.000000</td>\n",
       "      <td>16.000000</td>\n",
       "      <td>0.0</td>\n",
       "      <td>2.000000</td>\n",
       "      <td>5.000000</td>\n",
       "      <td>...</td>\n",
       "      <td>16.000000</td>\n",
       "      <td>23.000000</td>\n",
       "      <td>17.000000</td>\n",
       "      <td>0.0</td>\n",
       "      <td>2.000000</td>\n",
       "      <td>5.000000</td>\n",
       "      <td>10.000000</td>\n",
       "      <td>11.000000</td>\n",
       "      <td>13.000000</td>\n",
       "      <td>2.000000</td>\n",
       "    </tr>\n",
       "  </tbody>\n",
       "</table>\n",
       "<p>8 rows × 28 columns</p>\n",
       "</div>"
      ],
      "text/plain": [
       "       B_total_rounds_fought  B_total_title_bouts  B_current_win_streak  \\\n",
       "count             4918.00000          4918.000000           4918.000000   \n",
       "mean                11.04636             0.307442              1.072997   \n",
       "std                 12.39852             1.210854              1.556135   \n",
       "min                  0.00000             0.000000              0.000000   \n",
       "1%                   0.00000             0.000000              0.000000   \n",
       "50%                  7.00000             0.000000              0.000000   \n",
       "99%                 58.00000             6.000000              7.000000   \n",
       "max                 94.00000            16.000000             16.000000   \n",
       "\n",
       "       B_current_lose_streak  B_longest_win_streak       B_wins     B_losses  \\\n",
       "count            4918.000000           4918.000000  4918.000000  4918.000000   \n",
       "mean                0.419683              1.884303     3.018910     1.761082   \n",
       "std                 0.687459              1.839788     3.451846     2.030090   \n",
       "min                 0.000000              0.000000     0.000000     0.000000   \n",
       "1%                  0.000000              0.000000     0.000000     0.000000   \n",
       "50%                 0.000000              1.000000     2.000000     1.000000   \n",
       "99%                 3.000000              7.000000    15.000000     9.000000   \n",
       "max                 5.000000             16.000000    23.000000    16.000000   \n",
       "\n",
       "       B_draw  B_win_by_Decision_Majority  B_win_by_Decision_Split  ...  \\\n",
       "count  4918.0                 4918.000000              4918.000000  ...   \n",
       "mean      0.0                    0.018300                 0.258032  ...   \n",
       "std       0.0                    0.135557                 0.564267  ...   \n",
       "min       0.0                    0.000000                 0.000000  ...   \n",
       "1%        0.0                    0.000000                 0.000000  ...   \n",
       "50%       0.0                    0.000000                 0.000000  ...   \n",
       "99%       0.0                    1.000000                 2.000000  ...   \n",
       "max       0.0                    2.000000                 5.000000  ...   \n",
       "\n",
       "       R_longest_win_streak       R_wins     R_losses  R_draw  \\\n",
       "count           4918.000000  4918.000000  4918.000000  4918.0   \n",
       "mean               2.598617     4.286092     2.320455     0.0   \n",
       "std                2.122047     3.968056     2.362981     0.0   \n",
       "min                0.000000     0.000000     0.000000     0.0   \n",
       "1%                 0.000000     0.000000     0.000000     0.0   \n",
       "50%                2.000000     3.000000     2.000000     0.0   \n",
       "99%                9.000000    17.000000    10.000000     0.0   \n",
       "max               16.000000    23.000000    17.000000     0.0   \n",
       "\n",
       "       R_win_by_Decision_Majority  R_win_by_Decision_Split  \\\n",
       "count                 4918.000000              4918.000000   \n",
       "mean                     0.030907                 0.357666   \n",
       "std                      0.175417                 0.657843   \n",
       "min                      0.000000                 0.000000   \n",
       "1%                       0.000000                 0.000000   \n",
       "50%                      0.000000                 0.000000   \n",
       "99%                      1.000000                 3.000000   \n",
       "max                      2.000000                 5.000000   \n",
       "\n",
       "       R_win_by_Decision_Unanimous  R_win_by_KO/TKO  R_win_by_Submission  \\\n",
       "count                  4918.000000      4918.000000          4918.000000   \n",
       "mean                      1.451810         1.475803             0.888979   \n",
       "std                       1.759953         1.956026             1.430754   \n",
       "min                       0.000000         0.000000             0.000000   \n",
       "1%                        0.000000         0.000000             0.000000   \n",
       "50%                       1.000000         1.000000             0.000000   \n",
       "99%                       8.000000         9.000000             7.000000   \n",
       "max                      10.000000        11.000000            13.000000   \n",
       "\n",
       "       R_win_by_TKO_Doctor_Stoppage  \n",
       "count                   4918.000000  \n",
       "mean                       0.072590  \n",
       "std                        0.281302  \n",
       "min                        0.000000  \n",
       "1%                         0.000000  \n",
       "50%                        0.000000  \n",
       "99%                        1.000000  \n",
       "max                        2.000000  \n",
       "\n",
       "[8 rows x 28 columns]"
      ]
     },
     "execution_count": 421,
     "metadata": {},
     "output_type": "execute_result"
    }
   ],
   "source": [
    "int_vars = ufc.select_dtypes(include = \"int\").columns.tolist()\n",
    "ufc[int_vars].describe(percentiles = [0.01, 0.99])"
   ]
  },
  {
   "cell_type": "code",
   "execution_count": 422,
   "metadata": {},
   "outputs": [],
   "source": [
    "# drop draw columns as all rows are 0\n",
    "ufc = ufc.drop(columns = [\"B_draw\", \"R_draw\"])"
   ]
  },
  {
   "cell_type": "code",
   "execution_count": 423,
   "metadata": {},
   "outputs": [
    {
     "data": {
      "text/plain": [
       "<AxesSubplot:xlabel='B_total_fights'>"
      ]
     },
     "execution_count": 423,
     "metadata": {},
     "output_type": "execute_result"
    },
    {
     "data": {
      "image/png": "[encoded data removed]",
      "text/plain": [
       "<Figure size 432x288 with 1 Axes>"
      ]
     },
     "metadata": {
      "needs_background": "light"
     },
     "output_type": "display_data"
    }
   ],
   "source": [
    "ufc[\"B_total_fights\"] = ufc[\"B_wins\"] + ufc[\"B_losses\"]\n",
    "sns.boxplot(x = \"B_total_fights\", data = ufc)"
   ]
  },
  {
   "cell_type": "code",
   "execution_count": 424,
   "metadata": {},
   "outputs": [
    {
     "data": {
      "text/plain": [
       "<AxesSubplot:xlabel='R_total_fights'>"
      ]
     },
     "execution_count": 424,
     "metadata": {},
     "output_type": "execute_result"
    },
    {
     "data": {
      "image/png": "[encoded data removed]",
      "text/plain": [
       "<Figure size 432x288 with 1 Axes>"
      ]
     },
     "metadata": {
      "needs_background": "light"
     },
     "output_type": "display_data"
    }
   ],
   "source": [
    "ufc[\"R_total_fights\"] = ufc[\"R_wins\"] + ufc[\"R_losses\"]\n",
    "sns.boxplot(x = \"R_total_fights\", data = ufc)"
   ]
  },
  {
   "cell_type": "markdown",
   "metadata": {},
   "source": [
    "## Finalizing data to train"
   ]
  },
  {
   "cell_type": "code",
   "execution_count": 425,
   "metadata": {},
   "outputs": [
    {
     "data": {
      "text/plain": [
       "['Referee', 'date', 'location', 'Winner', 'title_bout', 'weight_class']"
      ]
     },
     "execution_count": 425,
     "metadata": {},
     "output_type": "execute_result"
    }
   ],
   "source": [
    "# what columns are not fighter specific? are there multiple \"post\" fight columns?\n",
    "fight_cols = [col for col in ufc.columns if \"B_\" not in col and \"R_\" not in col]\n",
    "fight_cols"
   ]
  },
  {
   "cell_type": "code",
   "execution_count": 426,
   "metadata": {},
   "outputs": [
    {
     "data": {
      "text/html": [
       "<div>\n",
       "<style scoped>\n",
       "    .dataframe tbody tr th:only-of-type {\n",
       "        vertical-align: middle;\n",
       "    }\n",
       "\n",
       "    .dataframe tbody tr th {\n",
       "        vertical-align: top;\n",
       "    }\n",
       "\n",
       "    .dataframe thead th {\n",
       "        text-align: right;\n",
       "    }\n",
       "</style>\n",
       "<table border=\"1\" class=\"dataframe\">\n",
       "  <thead>\n",
       "    <tr style=\"text-align: right;\">\n",
       "      <th></th>\n",
       "      <th>Winner</th>\n",
       "      <th>title_bout</th>\n",
       "      <th>weight_class</th>\n",
       "      <th>B_avg_KD</th>\n",
       "      <th>B_avg_opp_KD</th>\n",
       "      <th>B_avg_SIG_STR_pct</th>\n",
       "      <th>B_avg_opp_SIG_STR_pct</th>\n",
       "      <th>B_avg_TD_pct</th>\n",
       "      <th>B_avg_opp_TD_pct</th>\n",
       "      <th>B_avg_SUB_ATT</th>\n",
       "      <th>...</th>\n",
       "      <th>R_win_by_Submission</th>\n",
       "      <th>R_win_by_TKO_Doctor_Stoppage</th>\n",
       "      <th>R_Stance</th>\n",
       "      <th>R_Height_cms</th>\n",
       "      <th>R_Reach_cms</th>\n",
       "      <th>R_Weight_lbs</th>\n",
       "      <th>B_age</th>\n",
       "      <th>R_age</th>\n",
       "      <th>B_total_fights</th>\n",
       "      <th>R_total_fights</th>\n",
       "    </tr>\n",
       "  </thead>\n",
       "  <tbody>\n",
       "    <tr>\n",
       "      <th>0</th>\n",
       "      <td>Red</td>\n",
       "      <td>False</td>\n",
       "      <td>Bantamweight</td>\n",
       "      <td>0.000000</td>\n",
       "      <td>0.0</td>\n",
       "      <td>0.420000</td>\n",
       "      <td>0.49500</td>\n",
       "      <td>0.330</td>\n",
       "      <td>0.36000</td>\n",
       "      <td>0.500000</td>\n",
       "      <td>...</td>\n",
       "      <td>0</td>\n",
       "      <td>0</td>\n",
       "      <td>Orthodox</td>\n",
       "      <td>170.18</td>\n",
       "      <td>177.80</td>\n",
       "      <td>135.0</td>\n",
       "      <td>31.0</td>\n",
       "      <td>27.0</td>\n",
       "      <td>2</td>\n",
       "      <td>1</td>\n",
       "    </tr>\n",
       "    <tr>\n",
       "      <th>1</th>\n",
       "      <td>Red</td>\n",
       "      <td>False</td>\n",
       "      <td>Middleweight</td>\n",
       "      <td>0.500000</td>\n",
       "      <td>0.0</td>\n",
       "      <td>0.660000</td>\n",
       "      <td>0.30500</td>\n",
       "      <td>0.300</td>\n",
       "      <td>0.50000</td>\n",
       "      <td>1.500000</td>\n",
       "      <td>...</td>\n",
       "      <td>0</td>\n",
       "      <td>0</td>\n",
       "      <td>Orthodox</td>\n",
       "      <td>182.88</td>\n",
       "      <td>187.96</td>\n",
       "      <td>185.0</td>\n",
       "      <td>32.0</td>\n",
       "      <td>28.0</td>\n",
       "      <td>2</td>\n",
       "      <td>6</td>\n",
       "    </tr>\n",
       "    <tr>\n",
       "      <th>2</th>\n",
       "      <td>Red</td>\n",
       "      <td>False</td>\n",
       "      <td>Heavyweight</td>\n",
       "      <td>0.015625</td>\n",
       "      <td>0.0</td>\n",
       "      <td>0.450000</td>\n",
       "      <td>0.42750</td>\n",
       "      <td>0.250</td>\n",
       "      <td>0.20000</td>\n",
       "      <td>0.148468</td>\n",
       "      <td>...</td>\n",
       "      <td>0</td>\n",
       "      <td>0</td>\n",
       "      <td>Southpaw</td>\n",
       "      <td>187.96</td>\n",
       "      <td>190.50</td>\n",
       "      <td>264.0</td>\n",
       "      <td>32.0</td>\n",
       "      <td>28.0</td>\n",
       "      <td>0</td>\n",
       "      <td>7</td>\n",
       "    </tr>\n",
       "    <tr>\n",
       "      <th>3</th>\n",
       "      <td>Blue</td>\n",
       "      <td>False</td>\n",
       "      <td>WomenStrawweight</td>\n",
       "      <td>0.015625</td>\n",
       "      <td>0.0</td>\n",
       "      <td>0.450000</td>\n",
       "      <td>0.42750</td>\n",
       "      <td>0.250</td>\n",
       "      <td>0.20000</td>\n",
       "      <td>0.148468</td>\n",
       "      <td>...</td>\n",
       "      <td>0</td>\n",
       "      <td>0</td>\n",
       "      <td>Switch</td>\n",
       "      <td>160.02</td>\n",
       "      <td>160.02</td>\n",
       "      <td>115.0</td>\n",
       "      <td>28.0</td>\n",
       "      <td>25.0</td>\n",
       "      <td>0</td>\n",
       "      <td>0</td>\n",
       "    </tr>\n",
       "    <tr>\n",
       "      <th>4</th>\n",
       "      <td>Blue</td>\n",
       "      <td>False</td>\n",
       "      <td>WomenBantamweight</td>\n",
       "      <td>0.125000</td>\n",
       "      <td>0.0</td>\n",
       "      <td>0.535625</td>\n",
       "      <td>0.57875</td>\n",
       "      <td>0.185</td>\n",
       "      <td>0.16625</td>\n",
       "      <td>0.125000</td>\n",
       "      <td>...</td>\n",
       "      <td>2</td>\n",
       "      <td>0</td>\n",
       "      <td>Orthodox</td>\n",
       "      <td>167.64</td>\n",
       "      <td>172.72</td>\n",
       "      <td>135.0</td>\n",
       "      <td>29.0</td>\n",
       "      <td>43.0</td>\n",
       "      <td>5</td>\n",
       "      <td>11</td>\n",
       "    </tr>\n",
       "    <tr>\n",
       "      <th>...</th>\n",
       "      <td>...</td>\n",
       "      <td>...</td>\n",
       "      <td>...</td>\n",
       "      <td>...</td>\n",
       "      <td>...</td>\n",
       "      <td>...</td>\n",
       "      <td>...</td>\n",
       "      <td>...</td>\n",
       "      <td>...</td>\n",
       "      <td>...</td>\n",
       "      <td>...</td>\n",
       "      <td>...</td>\n",
       "      <td>...</td>\n",
       "      <td>...</td>\n",
       "      <td>...</td>\n",
       "      <td>...</td>\n",
       "      <td>...</td>\n",
       "      <td>...</td>\n",
       "      <td>...</td>\n",
       "      <td>...</td>\n",
       "      <td>...</td>\n",
       "    </tr>\n",
       "    <tr>\n",
       "      <th>5768</th>\n",
       "      <td>Red</td>\n",
       "      <td>False</td>\n",
       "      <td>Welterweight</td>\n",
       "      <td>0.000000</td>\n",
       "      <td>0.0</td>\n",
       "      <td>0.615000</td>\n",
       "      <td>0.64000</td>\n",
       "      <td>0.605</td>\n",
       "      <td>0.00000</td>\n",
       "      <td>0.000000</td>\n",
       "      <td>...</td>\n",
       "      <td>0</td>\n",
       "      <td>0</td>\n",
       "      <td>Orthodox</td>\n",
       "      <td>175.26</td>\n",
       "      <td>182.88</td>\n",
       "      <td>155.0</td>\n",
       "      <td>27.0</td>\n",
       "      <td>25.0</td>\n",
       "      <td>2</td>\n",
       "      <td>0</td>\n",
       "    </tr>\n",
       "    <tr>\n",
       "      <th>5799</th>\n",
       "      <td>Red</td>\n",
       "      <td>True</td>\n",
       "      <td>LightHeavyweight</td>\n",
       "      <td>0.500000</td>\n",
       "      <td>0.5</td>\n",
       "      <td>0.640000</td>\n",
       "      <td>0.66500</td>\n",
       "      <td>0.000</td>\n",
       "      <td>0.00000</td>\n",
       "      <td>0.000000</td>\n",
       "      <td>...</td>\n",
       "      <td>0</td>\n",
       "      <td>1</td>\n",
       "      <td>Orthodox</td>\n",
       "      <td>190.50</td>\n",
       "      <td>187.96</td>\n",
       "      <td>205.0</td>\n",
       "      <td>23.0</td>\n",
       "      <td>25.0</td>\n",
       "      <td>2</td>\n",
       "      <td>5</td>\n",
       "    </tr>\n",
       "    <tr>\n",
       "      <th>5840</th>\n",
       "      <td>Red</td>\n",
       "      <td>False</td>\n",
       "      <td>Middleweight</td>\n",
       "      <td>0.000000</td>\n",
       "      <td>0.0</td>\n",
       "      <td>0.460000</td>\n",
       "      <td>0.23000</td>\n",
       "      <td>1.000</td>\n",
       "      <td>1.00000</td>\n",
       "      <td>0.000000</td>\n",
       "      <td>...</td>\n",
       "      <td>0</td>\n",
       "      <td>0</td>\n",
       "      <td>Orthodox</td>\n",
       "      <td>185.42</td>\n",
       "      <td>187.96</td>\n",
       "      <td>185.0</td>\n",
       "      <td>29.0</td>\n",
       "      <td>23.0</td>\n",
       "      <td>1</td>\n",
       "      <td>2</td>\n",
       "    </tr>\n",
       "    <tr>\n",
       "      <th>5857</th>\n",
       "      <td>Red</td>\n",
       "      <td>False</td>\n",
       "      <td>Middleweight</td>\n",
       "      <td>0.015625</td>\n",
       "      <td>0.0</td>\n",
       "      <td>0.450000</td>\n",
       "      <td>0.42750</td>\n",
       "      <td>0.250</td>\n",
       "      <td>0.20000</td>\n",
       "      <td>0.148468</td>\n",
       "      <td>...</td>\n",
       "      <td>1</td>\n",
       "      <td>0</td>\n",
       "      <td>Southpaw</td>\n",
       "      <td>182.88</td>\n",
       "      <td>187.96</td>\n",
       "      <td>185.0</td>\n",
       "      <td>22.0</td>\n",
       "      <td>21.0</td>\n",
       "      <td>0</td>\n",
       "      <td>5</td>\n",
       "    </tr>\n",
       "    <tr>\n",
       "      <th>5884</th>\n",
       "      <td>Red</td>\n",
       "      <td>False</td>\n",
       "      <td>Heavyweight</td>\n",
       "      <td>0.500000</td>\n",
       "      <td>0.0</td>\n",
       "      <td>0.642500</td>\n",
       "      <td>0.23500</td>\n",
       "      <td>0.500</td>\n",
       "      <td>0.00000</td>\n",
       "      <td>0.000000</td>\n",
       "      <td>...</td>\n",
       "      <td>1</td>\n",
       "      <td>0</td>\n",
       "      <td>Orthodox</td>\n",
       "      <td>185.42</td>\n",
       "      <td>190.50</td>\n",
       "      <td>205.0</td>\n",
       "      <td>20.0</td>\n",
       "      <td>34.0</td>\n",
       "      <td>3</td>\n",
       "      <td>2</td>\n",
       "    </tr>\n",
       "  </tbody>\n",
       "</table>\n",
       "<p>4918 rows × 139 columns</p>\n",
       "</div>"
      ],
      "text/plain": [
       "     Winner  title_bout       weight_class  B_avg_KD  B_avg_opp_KD  \\\n",
       "0       Red       False       Bantamweight  0.000000           0.0   \n",
       "1       Red       False       Middleweight  0.500000           0.0   \n",
       "2       Red       False        Heavyweight  0.015625           0.0   \n",
       "3      Blue       False   WomenStrawweight  0.015625           0.0   \n",
       "4      Blue       False  WomenBantamweight  0.125000           0.0   \n",
       "...     ...         ...                ...       ...           ...   \n",
       "5768    Red       False       Welterweight  0.000000           0.0   \n",
       "5799    Red        True   LightHeavyweight  0.500000           0.5   \n",
       "5840    Red       False       Middleweight  0.000000           0.0   \n",
       "5857    Red       False       Middleweight  0.015625           0.0   \n",
       "5884    Red       False        Heavyweight  0.500000           0.0   \n",
       "\n",
       "      B_avg_SIG_STR_pct  B_avg_opp_SIG_STR_pct  B_avg_TD_pct  \\\n",
       "0              0.420000                0.49500         0.330   \n",
       "1              0.660000                0.30500         0.300   \n",
       "2              0.450000                0.42750         0.250   \n",
       "3              0.450000                0.42750         0.250   \n",
       "4              0.535625                0.57875         0.185   \n",
       "...                 ...                    ...           ...   \n",
       "5768           0.615000                0.64000         0.605   \n",
       "5799           0.640000                0.66500         0.000   \n",
       "5840           0.460000                0.23000         1.000   \n",
       "5857           0.450000                0.42750         0.250   \n",
       "5884           0.642500                0.23500         0.500   \n",
       "\n",
       "      B_avg_opp_TD_pct  B_avg_SUB_ATT  ...  R_win_by_Submission  \\\n",
       "0              0.36000       0.500000  ...                    0   \n",
       "1              0.50000       1.500000  ...                    0   \n",
       "2              0.20000       0.148468  ...                    0   \n",
       "3              0.20000       0.148468  ...                    0   \n",
       "4              0.16625       0.125000  ...                    2   \n",
       "...                ...            ...  ...                  ...   \n",
       "5768           0.00000       0.000000  ...                    0   \n",
       "5799           0.00000       0.000000  ...                    0   \n",
       "5840           1.00000       0.000000  ...                    0   \n",
       "5857           0.20000       0.148468  ...                    1   \n",
       "5884           0.00000       0.000000  ...                    1   \n",
       "\n",
       "      R_win_by_TKO_Doctor_Stoppage  R_Stance  R_Height_cms  R_Reach_cms  \\\n",
       "0                                0  Orthodox        170.18       177.80   \n",
       "1                                0  Orthodox        182.88       187.96   \n",
       "2                                0  Southpaw        187.96       190.50   \n",
       "3                                0    Switch        160.02       160.02   \n",
       "4                                0  Orthodox        167.64       172.72   \n",
       "...                            ...       ...           ...          ...   \n",
       "5768                             0  Orthodox        175.26       182.88   \n",
       "5799                             1  Orthodox        190.50       187.96   \n",
       "5840                             0  Orthodox        185.42       187.96   \n",
       "5857                             0  Southpaw        182.88       187.96   \n",
       "5884                             0  Orthodox        185.42       190.50   \n",
       "\n",
       "      R_Weight_lbs  B_age  R_age  B_total_fights  R_total_fights  \n",
       "0            135.0   31.0   27.0               2               1  \n",
       "1            185.0   32.0   28.0               2               6  \n",
       "2            264.0   32.0   28.0               0               7  \n",
       "3            115.0   28.0   25.0               0               0  \n",
       "4            135.0   29.0   43.0               5              11  \n",
       "...            ...    ...    ...             ...             ...  \n",
       "5768         155.0   27.0   25.0               2               0  \n",
       "5799         205.0   23.0   25.0               2               5  \n",
       "5840         185.0   29.0   23.0               1               2  \n",
       "5857         185.0   22.0   21.0               0               5  \n",
       "5884         205.0   20.0   34.0               3               2  \n",
       "\n",
       "[4918 rows x 139 columns]"
      ]
     },
     "execution_count": 426,
     "metadata": {},
     "output_type": "execute_result"
    }
   ],
   "source": [
    "# drop columns that will not be used to predict\n",
    "ufc = ufc.drop(columns = [\"B_fighter\", \"R_fighter\", \"date\", \"Referee\", \"location\"])\n",
    "ufc"
   ]
  },
  {
   "cell_type": "code",
   "execution_count": 427,
   "metadata": {},
   "outputs": [
    {
     "data": {
      "text/plain": [
       "['Winner', 'weight_class', 'B_Stance', 'R_Stance']"
      ]
     },
     "execution_count": 427,
     "metadata": {},
     "output_type": "execute_result"
    }
   ],
   "source": [
    "ufc.select_dtypes(include = \"category\").columns.tolist()"
   ]
  },
  {
   "cell_type": "code",
   "execution_count": 428,
   "metadata": {},
   "outputs": [
    {
     "data": {
      "text/html": [
       "<div>\n",
       "<style scoped>\n",
       "    .dataframe tbody tr th:only-of-type {\n",
       "        vertical-align: middle;\n",
       "    }\n",
       "\n",
       "    .dataframe tbody tr th {\n",
       "        vertical-align: top;\n",
       "    }\n",
       "\n",
       "    .dataframe thead th {\n",
       "        text-align: right;\n",
       "    }\n",
       "</style>\n",
       "<table border=\"1\" class=\"dataframe\">\n",
       "  <thead>\n",
       "    <tr style=\"text-align: right;\">\n",
       "      <th></th>\n",
       "      <th>Winner</th>\n",
       "      <th>title_bout</th>\n",
       "      <th>B_avg_KD</th>\n",
       "      <th>B_avg_opp_KD</th>\n",
       "      <th>B_avg_SIG_STR_pct</th>\n",
       "      <th>B_avg_opp_SIG_STR_pct</th>\n",
       "      <th>B_avg_TD_pct</th>\n",
       "      <th>B_avg_opp_TD_pct</th>\n",
       "      <th>B_avg_SUB_ATT</th>\n",
       "      <th>B_avg_opp_SUB_ATT</th>\n",
       "      <th>...</th>\n",
       "      <th>WomenFlyweight</th>\n",
       "      <th>WomenStrawweight</th>\n",
       "      <th>B_Open Stance</th>\n",
       "      <th>B_Orthodox</th>\n",
       "      <th>B_Southpaw</th>\n",
       "      <th>B_Switch</th>\n",
       "      <th>R_Open Stance</th>\n",
       "      <th>R_Orthodox</th>\n",
       "      <th>R_Southpaw</th>\n",
       "      <th>R_Switch</th>\n",
       "    </tr>\n",
       "  </thead>\n",
       "  <tbody>\n",
       "    <tr>\n",
       "      <th>0</th>\n",
       "      <td>Red</td>\n",
       "      <td>False</td>\n",
       "      <td>0.000000</td>\n",
       "      <td>0.0</td>\n",
       "      <td>0.420000</td>\n",
       "      <td>0.49500</td>\n",
       "      <td>0.330</td>\n",
       "      <td>0.36000</td>\n",
       "      <td>0.500000</td>\n",
       "      <td>1.000000</td>\n",
       "      <td>...</td>\n",
       "      <td>0</td>\n",
       "      <td>0</td>\n",
       "      <td>0</td>\n",
       "      <td>1</td>\n",
       "      <td>0</td>\n",
       "      <td>0</td>\n",
       "      <td>0</td>\n",
       "      <td>1</td>\n",
       "      <td>0</td>\n",
       "      <td>0</td>\n",
       "    </tr>\n",
       "    <tr>\n",
       "      <th>1</th>\n",
       "      <td>Red</td>\n",
       "      <td>False</td>\n",
       "      <td>0.500000</td>\n",
       "      <td>0.0</td>\n",
       "      <td>0.660000</td>\n",
       "      <td>0.30500</td>\n",
       "      <td>0.300</td>\n",
       "      <td>0.50000</td>\n",
       "      <td>1.500000</td>\n",
       "      <td>0.000000</td>\n",
       "      <td>...</td>\n",
       "      <td>0</td>\n",
       "      <td>0</td>\n",
       "      <td>0</td>\n",
       "      <td>1</td>\n",
       "      <td>0</td>\n",
       "      <td>0</td>\n",
       "      <td>0</td>\n",
       "      <td>1</td>\n",
       "      <td>0</td>\n",
       "      <td>0</td>\n",
       "    </tr>\n",
       "    <tr>\n",
       "      <th>2</th>\n",
       "      <td>Red</td>\n",
       "      <td>False</td>\n",
       "      <td>0.015625</td>\n",
       "      <td>0.0</td>\n",
       "      <td>0.450000</td>\n",
       "      <td>0.42750</td>\n",
       "      <td>0.250</td>\n",
       "      <td>0.20000</td>\n",
       "      <td>0.148468</td>\n",
       "      <td>0.098389</td>\n",
       "      <td>...</td>\n",
       "      <td>0</td>\n",
       "      <td>0</td>\n",
       "      <td>0</td>\n",
       "      <td>1</td>\n",
       "      <td>0</td>\n",
       "      <td>0</td>\n",
       "      <td>0</td>\n",
       "      <td>0</td>\n",
       "      <td>1</td>\n",
       "      <td>0</td>\n",
       "    </tr>\n",
       "    <tr>\n",
       "      <th>3</th>\n",
       "      <td>Blue</td>\n",
       "      <td>False</td>\n",
       "      <td>0.015625</td>\n",
       "      <td>0.0</td>\n",
       "      <td>0.450000</td>\n",
       "      <td>0.42750</td>\n",
       "      <td>0.250</td>\n",
       "      <td>0.20000</td>\n",
       "      <td>0.148468</td>\n",
       "      <td>0.098389</td>\n",
       "      <td>...</td>\n",
       "      <td>0</td>\n",
       "      <td>1</td>\n",
       "      <td>0</td>\n",
       "      <td>0</td>\n",
       "      <td>1</td>\n",
       "      <td>0</td>\n",
       "      <td>0</td>\n",
       "      <td>0</td>\n",
       "      <td>0</td>\n",
       "      <td>1</td>\n",
       "    </tr>\n",
       "    <tr>\n",
       "      <th>4</th>\n",
       "      <td>Blue</td>\n",
       "      <td>False</td>\n",
       "      <td>0.125000</td>\n",
       "      <td>0.0</td>\n",
       "      <td>0.535625</td>\n",
       "      <td>0.57875</td>\n",
       "      <td>0.185</td>\n",
       "      <td>0.16625</td>\n",
       "      <td>0.125000</td>\n",
       "      <td>0.187500</td>\n",
       "      <td>...</td>\n",
       "      <td>0</td>\n",
       "      <td>0</td>\n",
       "      <td>0</td>\n",
       "      <td>1</td>\n",
       "      <td>0</td>\n",
       "      <td>0</td>\n",
       "      <td>0</td>\n",
       "      <td>1</td>\n",
       "      <td>0</td>\n",
       "      <td>0</td>\n",
       "    </tr>\n",
       "  </tbody>\n",
       "</table>\n",
       "<p>5 rows × 157 columns</p>\n",
       "</div>"
      ],
      "text/plain": [
       "  Winner  title_bout  B_avg_KD  B_avg_opp_KD  B_avg_SIG_STR_pct  \\\n",
       "0    Red       False  0.000000           0.0           0.420000   \n",
       "1    Red       False  0.500000           0.0           0.660000   \n",
       "2    Red       False  0.015625           0.0           0.450000   \n",
       "3   Blue       False  0.015625           0.0           0.450000   \n",
       "4   Blue       False  0.125000           0.0           0.535625   \n",
       "\n",
       "   B_avg_opp_SIG_STR_pct  B_avg_TD_pct  B_avg_opp_TD_pct  B_avg_SUB_ATT  \\\n",
       "0                0.49500         0.330           0.36000       0.500000   \n",
       "1                0.30500         0.300           0.50000       1.500000   \n",
       "2                0.42750         0.250           0.20000       0.148468   \n",
       "3                0.42750         0.250           0.20000       0.148468   \n",
       "4                0.57875         0.185           0.16625       0.125000   \n",
       "\n",
       "   B_avg_opp_SUB_ATT  ...  WomenFlyweight  WomenStrawweight  B_Open Stance  \\\n",
       "0           1.000000  ...               0                 0              0   \n",
       "1           0.000000  ...               0                 0              0   \n",
       "2           0.098389  ...               0                 0              0   \n",
       "3           0.098389  ...               0                 1              0   \n",
       "4           0.187500  ...               0                 0              0   \n",
       "\n",
       "   B_Orthodox  B_Southpaw  B_Switch  R_Open Stance  R_Orthodox  R_Southpaw  \\\n",
       "0           1           0         0              0           1           0   \n",
       "1           1           0         0              0           1           0   \n",
       "2           1           0         0              0           0           1   \n",
       "3           0           1         0              0           0           0   \n",
       "4           1           0         0              0           1           0   \n",
       "\n",
       "   R_Switch  \n",
       "0         0  \n",
       "1         0  \n",
       "2         0  \n",
       "3         1  \n",
       "4         0  \n",
       "\n",
       "[5 rows x 157 columns]"
      ]
     },
     "execution_count": 428,
     "metadata": {},
     "output_type": "execute_result"
    }
   ],
   "source": [
    "# prefixes for dummy variables\n",
    "ufc[\"B_Stance\"] = \"B_\" + ufc[\"B_Stance\"].astype(str)\n",
    "ufc[\"R_Stance\"] = \"R_\" + ufc[\"R_Stance\"].astype(str)\n",
    "\n",
    "# make sure still category features\n",
    "ufc[\"B_Stance\"] = ufc[\"B_Stance\"].astype(\"category\")\n",
    "ufc[\"R_Stance\"] = ufc[\"R_Stance\"].astype(\"category\")\n",
    "\n",
    "# create dummy variables and create one data frame\n",
    "df_weight_class = pd.get_dummies(ufc[\"weight_class\"])\n",
    "df_B_Stance = pd.get_dummies(ufc[\"B_Stance\"])\n",
    "df_R_Stance = pd.get_dummies(ufc[\"R_Stance\"])\n",
    "\n",
    "ufc_dummy = pd.concat([ufc, \n",
    "           df_weight_class,\n",
    "           df_B_Stance,\n",
    "           df_R_Stance], \n",
    "          axis = 1).drop(columns = [\"weight_class\",\n",
    "                                    \"B_Stance\",\n",
    "                                    \"R_Stance\"])\n",
    "ufc_dummy.head()"
   ]
  },
  {
   "cell_type": "code",
   "execution_count": 429,
   "metadata": {},
   "outputs": [
    {
     "data": {
      "text/plain": [
       "(4918, 157)"
      ]
     },
     "execution_count": 429,
     "metadata": {},
     "output_type": "execute_result"
    }
   ],
   "source": [
    "ufc_dummy.shape"
   ]
  },
  {
   "cell_type": "markdown",
   "metadata": {},
   "source": [
    "# Modeling"
   ]
  },
  {
   "cell_type": "markdown",
   "metadata": {},
   "source": [
    "## Train & test split"
   ]
  },
  {
   "cell_type": "code",
   "execution_count": 503,
   "metadata": {},
   "outputs": [],
   "source": [
    "from sklearn.model_selection import train_test_split\n",
    "\n",
    "X = ufc_dummy.drop(\"Winner\", axis = \"columns\")\n",
    "y = ufc_dummy[\"Winner\"]\n",
    "\n",
    "X_train, X_test, y_train, y_test = train_test_split(X, y, test_size = 0.3, random_state = 777, stratify = y)"
   ]
  },
  {
   "cell_type": "code",
   "execution_count": 504,
   "metadata": {},
   "outputs": [
    {
     "data": {
      "text/plain": [
       "Red     0.619241\n",
       "Blue    0.362466\n",
       "Draw    0.018293\n",
       "Name: Winner, dtype: float64"
      ]
     },
     "execution_count": 504,
     "metadata": {},
     "output_type": "execute_result"
    }
   ],
   "source": [
    "y_test.value_counts(normalize = True)"
   ]
  },
  {
   "cell_type": "code",
   "execution_count": 505,
   "metadata": {},
   "outputs": [],
   "source": [
    "# copied this function from online that simulates a baseline logloss value to beat\n",
    "\n",
    "def calculate_log_loss(class_ratio,multi=10000):\n",
    "    \n",
    "    if sum(class_ratio)!=1.0:\n",
    "        print(\"warning: Sum of ratios should be 1 for best results\")\n",
    "        class_ratio[-1]+=1-sum(class_ratio)  # add the residual to last class's ratio\n",
    "    \n",
    "    actuals=[]\n",
    "    for i,val in enumerate(class_ratio):\n",
    "        actuals=actuals+[i for x in range(int(val*multi))]\n",
    "        \n",
    "\n",
    "    preds=[]\n",
    "    for i in range(multi):\n",
    "        preds+=[class_ratio]\n",
    "\n",
    "    return (log_loss(actuals, preds))"
   ]
  },
  {
   "cell_type": "code",
   "execution_count": 507,
   "metadata": {},
   "outputs": [
    {
     "data": {
      "text/plain": [
       "0.7424171058047361"
      ]
     },
     "execution_count": 507,
     "metadata": {},
     "output_type": "execute_result"
    }
   ],
   "source": [
    "logloss = calculate_log_loss([.36,.02,.62], multi = 1000)\n",
    "logloss"
   ]
  },
  {
   "cell_type": "markdown",
   "metadata": {},
   "source": [
    "## Random forest"
   ]
  },
  {
   "cell_type": "markdown",
   "metadata": {},
   "source": [
    "### Initital model"
   ]
  },
  {
   "cell_type": "code",
   "execution_count": 524,
   "metadata": {},
   "outputs": [],
   "source": [
    "from sklearn.ensemble import RandomForestClassifier\n",
    "\n",
    "model = RandomForestClassifier(random_state = 777).fit(X_train, y_train)"
   ]
  },
  {
   "cell_type": "code",
   "execution_count": 525,
   "metadata": {},
   "outputs": [
    {
     "data": {
      "text/plain": [
       "0.19381084401454612"
      ]
     },
     "execution_count": 525,
     "metadata": {},
     "output_type": "execute_result"
    }
   ],
   "source": [
    "from sklearn.metrics import log_loss\n",
    "\n",
    "y_pred = model.predict_proba(X_train)\n",
    "log_loss(y_train, y_pred)"
   ]
  },
  {
   "cell_type": "code",
   "execution_count": 526,
   "metadata": {},
   "outputs": [
    {
     "data": {
      "text/plain": [
       "0.7797991825973551"
      ]
     },
     "execution_count": 526,
     "metadata": {},
     "output_type": "execute_result"
    }
   ],
   "source": [
    "y_pred = model.predict_proba(X_test)\n",
    "log_loss(y_test, y_pred)\n",
    "\n",
    "# extremely poor performance and incredibly overfit"
   ]
  },
  {
   "cell_type": "code",
   "execution_count": 527,
   "metadata": {},
   "outputs": [
    {
     "data": {
      "text/plain": [
       "array(['Red', 'Red', 'Red', ..., 'Red', 'Red', 'Red'], dtype=object)"
      ]
     },
     "execution_count": 527,
     "metadata": {},
     "output_type": "execute_result"
    }
   ],
   "source": [
    "y_pred_class = model.predict(X_test)\n",
    "y_pred_class"
   ]
  },
  {
   "cell_type": "code",
   "execution_count": 1,
   "metadata": {},
   "outputs": [
    {
     "ename": "NameError",
     "evalue": "name 'y_test' is not defined",
     "output_type": "error",
     "traceback": [
      "\u001b[0;31m---------------------------------------------------------------------------\u001b[0m",
      "\u001b[0;31mNameError\u001b[0m                                 Traceback (most recent call last)",
      "\u001b[0;32m<ipython-input-1-3a32920290d9>\u001b[0m in \u001b[0;36m<module>\u001b[0;34m\u001b[0m\n\u001b[1;32m      1\u001b[0m \u001b[0;32mfrom\u001b[0m \u001b[0msklearn\u001b[0m\u001b[0;34m.\u001b[0m\u001b[0mmetrics\u001b[0m \u001b[0;32mimport\u001b[0m \u001b[0mconfusion_matrix\u001b[0m\u001b[0;34m\u001b[0m\u001b[0;34m\u001b[0m\u001b[0m\n\u001b[1;32m      2\u001b[0m \u001b[0;34m\u001b[0m\u001b[0m\n\u001b[0;32m----> 3\u001b[0;31m \u001b[0mcm\u001b[0m \u001b[0;34m=\u001b[0m \u001b[0mconfusion_matrix\u001b[0m\u001b[0;34m(\u001b[0m\u001b[0my_test\u001b[0m\u001b[0;34m,\u001b[0m \u001b[0my_pred_class\u001b[0m\u001b[0;34m)\u001b[0m\u001b[0;34m\u001b[0m\u001b[0;34m\u001b[0m\u001b[0m\n\u001b[0m\u001b[1;32m      4\u001b[0m \u001b[0;34m\u001b[0m\u001b[0m\n\u001b[1;32m      5\u001b[0m cm_df = pd.DataFrame(cm,\n",
      "\u001b[0;31mNameError\u001b[0m: name 'y_test' is not defined"
     ]
    }
   ],
   "source": [
    "from sklearn.metrics import confusion_matrix\n",
    "\n",
    "cm = confusion_matrix(y_test, y_pred_class)\n",
    "\n",
    "cm_df = pd.DataFrame(cm,\n",
    "                     index = ['Blue','Draw','Red'], \n",
    "                     columns = ['Blue','Draw','Red'])\n",
    "\n",
    "plt.figure(figsize=(5,4))\n",
    "sns.heatmap(cm_df, annot=True, fmt = '.3g')\n",
    "plt.title('Confusion Matrix')\n",
    "plt.ylabel('Actal Values')\n",
    "plt.xlabel('Predicted Values')\n",
    "plt.show()\n",
    "\n",
    "# predicting way too many Red"
   ]
  },
  {
   "cell_type": "markdown",
   "metadata": {},
   "source": [
    "### Tuning"
   ]
  },
  {
   "cell_type": "code",
   "execution_count": 529,
   "metadata": {},
   "outputs": [
    {
     "name": "stdout",
     "output_type": "stream",
     "text": [
      "{'bootstrap': [True, False],\n",
      " 'max_depth': [10, 20, 30, 40, 50, 60, 70, 80, 90, 100, 110, None],\n",
      " 'max_features': ['auto', 'sqrt'],\n",
      " 'min_samples_leaf': [1, 2, 4],\n",
      " 'min_samples_split': [2, 5, 10],\n",
      " 'n_estimators': [200, 400, 600, 800, 1000, 1200, 1400, 1600, 1800, 2000]}\n"
     ]
    }
   ],
   "source": [
    "from pprint import pprint\n",
    "from sklearn.model_selection import RandomizedSearchCV\n",
    "\n",
    "# Number of trees in random forest\n",
    "n_estimators = [int(x) for x in np.linspace(start = 200, stop = 2000, num = 10)]\n",
    "# Number of features to consider at every split\n",
    "max_features = ['auto', 'sqrt']\n",
    "# Maximum number of levels in tree\n",
    "max_depth = [int(x) for x in np.linspace(10, 110, num = 11)]\n",
    "max_depth.append(None)\n",
    "# Minimum number of samples required to split a node\n",
    "min_samples_split = [2, 5, 10]\n",
    "# Minimum number of samples required at each leaf node\n",
    "min_samples_leaf = [1, 2, 4]\n",
    "# Method of selecting samples for training each tree\n",
    "bootstrap = [True, False]\n",
    "\n",
    "# Create the random grid\n",
    "random_grid = {'n_estimators': n_estimators,\n",
    "               'max_features': max_features,\n",
    "               'max_depth': max_depth,\n",
    "               'min_samples_split': min_samples_split,\n",
    "               'min_samples_leaf': min_samples_leaf,\n",
    "               'bootstrap': bootstrap}\n",
    "\n",
    "pprint(random_grid)"
   ]
  },
  {
   "cell_type": "code",
   "execution_count": 530,
   "metadata": {
    "scrolled": true
   },
   "outputs": [
    {
     "name": "stdout",
     "output_type": "stream",
     "text": [
      "Fitting 5 folds for each of 100 candidates, totalling 500 fits\n"
     ]
    },
    {
     "name": "stderr",
     "output_type": "stream",
     "text": [
      "[Parallel(n_jobs=3)]: Using backend LokyBackend with 3 concurrent workers.\n",
      "[Parallel(n_jobs=3)]: Done  35 tasks      | elapsed:  4.1min\n",
      "[Parallel(n_jobs=3)]: Done 156 tasks      | elapsed: 20.5min\n",
      "[Parallel(n_jobs=3)]: Done 359 tasks      | elapsed: 45.2min\n",
      "[Parallel(n_jobs=3)]: Done 500 out of 500 | elapsed: 55.8min finished\n"
     ]
    },
    {
     "data": {
      "text/plain": [
       "RandomizedSearchCV(cv=5, estimator=RandomForestClassifier(), n_iter=100,\n",
       "                   n_jobs=3,\n",
       "                   param_distributions={'bootstrap': [True, False],\n",
       "                                        'max_depth': [10, 20, 30, 40, 50, 60,\n",
       "                                                      70, 80, 90, 100, 110,\n",
       "                                                      None],\n",
       "                                        'max_features': ['auto', 'sqrt'],\n",
       "                                        'min_samples_leaf': [1, 2, 4],\n",
       "                                        'min_samples_split': [2, 5, 10],\n",
       "                                        'n_estimators': [200, 400, 600, 800,\n",
       "                                                         1000, 1200, 1400, 1600,\n",
       "                                                         1800, 2000]},\n",
       "                   random_state=777, verbose=2)"
      ]
     },
     "execution_count": 530,
     "metadata": {},
     "output_type": "execute_result"
    }
   ],
   "source": [
    "# Use the random grid to search for best hyperparameters\n",
    "rf = RandomForestClassifier()\n",
    "\n",
    "# Random search of parameters, using 5 fold cross validation, \n",
    "# search across 100 different combinations\n",
    "rf_random = RandomizedSearchCV(estimator = rf, param_distributions = random_grid, n_iter = 100, cv = 5, \n",
    "                               verbose = 2, random_state = 777, n_jobs = 3)\n",
    "\n",
    "# Fit the random search model\n",
    "rf_random.fit(X_train, y_train)"
   ]
  },
  {
   "cell_type": "code",
   "execution_count": 531,
   "metadata": {},
   "outputs": [
    {
     "data": {
      "text/plain": [
       "{'n_estimators': 400,\n",
       " 'min_samples_split': 2,\n",
       " 'min_samples_leaf': 2,\n",
       " 'max_features': 'auto',\n",
       " 'max_depth': 110,\n",
       " 'bootstrap': True}"
      ]
     },
     "execution_count": 531,
     "metadata": {},
     "output_type": "execute_result"
    }
   ],
   "source": [
    "rf_random.best_params_"
   ]
  },
  {
   "cell_type": "code",
   "execution_count": 532,
   "metadata": {},
   "outputs": [
    {
     "data": {
      "text/plain": [
       "array([[0.79883333, 0.00583333, 0.19533333],\n",
       "       [0.69933929, 0.00541667, 0.29524405],\n",
       "       [0.20329167, 0.01164583, 0.7850625 ],\n",
       "       ...,\n",
       "       [0.14636905, 0.01095833, 0.84267262],\n",
       "       [0.23765972, 0.37865476, 0.38368552],\n",
       "       [0.28561596, 0.01685239, 0.69753165]])"
      ]
     },
     "execution_count": 532,
     "metadata": {},
     "output_type": "execute_result"
    }
   ],
   "source": [
    "best_random = rf_random.best_estimator_\n",
    "y_pred = best_random.predict_proba(X_train)\n",
    "y_pred"
   ]
  },
  {
   "cell_type": "code",
   "execution_count": 533,
   "metadata": {},
   "outputs": [
    {
     "data": {
      "text/plain": [
       "0.26678014765938396"
      ]
     },
     "execution_count": 533,
     "metadata": {},
     "output_type": "execute_result"
    }
   ],
   "source": [
    "log_loss(y_train, y_pred)"
   ]
  },
  {
   "cell_type": "code",
   "execution_count": 534,
   "metadata": {},
   "outputs": [
    {
     "data": {
      "text/plain": [
       "array([[0.36456551, 0.004375  , 0.63105949],\n",
       "       [0.21015476, 0.00795833, 0.7818869 ],\n",
       "       [0.20120833, 0.01708333, 0.78170833],\n",
       "       ...,\n",
       "       [0.40067262, 0.01641667, 0.58291071],\n",
       "       [0.38980556, 0.018     , 0.59219444],\n",
       "       [0.22750717, 0.01041667, 0.76207617]])"
      ]
     },
     "execution_count": 534,
     "metadata": {},
     "output_type": "execute_result"
    }
   ],
   "source": [
    "y_pred = best_random.predict_proba(X_test)\n",
    "y_pred"
   ]
  },
  {
   "cell_type": "code",
   "execution_count": 535,
   "metadata": {},
   "outputs": [
    {
     "data": {
      "text/plain": [
       "0.7165150491880461"
      ]
     },
     "execution_count": 535,
     "metadata": {},
     "output_type": "execute_result"
    }
   ],
   "source": [
    "log_loss(y_test, y_pred)\n",
    "\n",
    "# performance slightly improved, but still way too overfit"
   ]
  },
  {
   "cell_type": "code",
   "execution_count": 536,
   "metadata": {},
   "outputs": [
    {
     "data": {
      "image/png": "[encoded data removed]",
      "text/plain": [
       "<Figure size 360x288 with 2 Axes>"
      ]
     },
     "metadata": {
      "needs_background": "light"
     },
     "output_type": "display_data"
    }
   ],
   "source": [
    "y_pred_class = best_random.predict(X_test)\n",
    "\n",
    "cm = confusion_matrix(y_test, y_pred_class)\n",
    "\n",
    "cm_df = pd.DataFrame(cm,\n",
    "                     index = ['Blue','Draw','Red'], \n",
    "                     columns = ['Blue','Draw','Red'])\n",
    "\n",
    "plt.figure(figsize=(5,4))\n",
    "sns.heatmap(cm_df, annot=True, fmt = '.3g')\n",
    "plt.title('Confusion Matrix')\n",
    "plt.ylabel('Actal Values')\n",
    "plt.xlabel('Predicted Values')\n",
    "plt.show()\n",
    "\n",
    "# Still too much Red"
   ]
  },
  {
   "cell_type": "markdown",
   "metadata": {},
   "source": [
    "## XGBoost"
   ]
  },
  {
   "cell_type": "markdown",
   "metadata": {},
   "source": [
    "### Initial model"
   ]
  },
  {
   "cell_type": "code",
   "execution_count": 508,
   "metadata": {},
   "outputs": [],
   "source": [
    "import xgboost as xgb\n",
    "from sklearn import preprocessing\n",
    "\n",
    "le = preprocessing.LabelEncoder()\n",
    "le.fit(y_train)\n",
    "y_train_le = le.transform(y_train)\n",
    "\n",
    "model = xgb.XGBClassifier(use_label_encoder = False, random_state = 777, eval_metric = \"logloss\").fit(X_train, y_train_le)"
   ]
  },
  {
   "cell_type": "code",
   "execution_count": 513,
   "metadata": {},
   "outputs": [
    {
     "data": {
      "text/plain": [
       "0.05180518555991902"
      ]
     },
     "execution_count": 513,
     "metadata": {},
     "output_type": "execute_result"
    }
   ],
   "source": [
    "y_pred = model.predict_proba(X_train)\n",
    "log_loss(y_train_le, y_pred)"
   ]
  },
  {
   "cell_type": "code",
   "execution_count": 514,
   "metadata": {},
   "outputs": [
    {
     "data": {
      "text/plain": [
       "0.9178175490170019"
      ]
     },
     "execution_count": 514,
     "metadata": {},
     "output_type": "execute_result"
    }
   ],
   "source": [
    "le = preprocessing.LabelEncoder()\n",
    "le.fit(y_test)\n",
    "y_test_le = le.transform(y_test)\n",
    "\n",
    "y_pred = model.predict_proba(X_test)\n",
    "log_loss(y_test_le, y_pred)\n",
    "\n",
    "# Even worse performance and overfitting than the initial random forest model"
   ]
  },
  {
   "cell_type": "code",
   "execution_count": 515,
   "metadata": {},
   "outputs": [
    {
     "data": {
      "image/png": "[encoded data removed]",
      "text/plain": [
       "<Figure size 360x288 with 2 Axes>"
      ]
     },
     "metadata": {
      "needs_background": "light"
     },
     "output_type": "display_data"
    }
   ],
   "source": [
    "y_pred_class = model.predict(X_test)\n",
    "\n",
    "cm = confusion_matrix(y_test_le, y_pred_class)\n",
    "\n",
    "cm_df = pd.DataFrame(cm,\n",
    "                     index = ['Blue','Draw','Red'], \n",
    "                     columns = ['Blue','Draw','Red'])\n",
    "\n",
    "plt.figure(figsize=(5,4))\n",
    "sns.heatmap(cm_df, annot=True, fmt = '.3g')\n",
    "plt.title('Confusion Matrix')\n",
    "plt.ylabel('Actal Values')\n",
    "plt.xlabel('Predicted Values')\n",
    "plt.show()"
   ]
  },
  {
   "cell_type": "markdown",
   "metadata": {},
   "source": [
    "### Tuning"
   ]
  },
  {
   "cell_type": "code",
   "execution_count": 516,
   "metadata": {},
   "outputs": [
    {
     "name": "stdout",
     "output_type": "stream",
     "text": [
      "{'gamma': [0.0, 0.1, 0.2, 0.3, 0.4],\n",
      " 'learning_rate': [1e-05, 0.01, 0.1],\n",
      " 'max_depth': range(3, 10, 2),\n",
      " 'min_child_weight': range(1, 6, 2),\n",
      " 'n_estimators': [1000, 1250, 1500, 1750, 2000],\n",
      " 'reg_alpha': [1e-05, 0.01, 0.1, 1, 100],\n",
      " 'subsample': [0.6, 0.7, 0.8, 0.9]}\n"
     ]
    }
   ],
   "source": [
    "max_depth = range(3, 10, 2)\n",
    "min_child_weight = range(1, 6, 2)\n",
    "gamma = [i/10.0 for i in range(0,5)]\n",
    "subsample = [i/10.0 for i in range(6,10)]\n",
    "reg_alpha = [1e-5, 1e-2, 0.1, 1, 100]\n",
    "learning_rate = [1e-5, 1e-2, 0.1]\n",
    "n_estimators = [int(x) for x in np.linspace(start = 1000, stop = 2000, num = 5)]\n",
    "\n",
    "# Create the random grid\n",
    "random_grid = {'max_depth': max_depth,\n",
    "               'min_child_weight': min_child_weight,\n",
    "               'gamma': gamma,\n",
    "               'subsample': subsample,\n",
    "               'reg_alpha': reg_alpha,\n",
    "               'learning_rate': learning_rate,\n",
    "               'n_estimators': n_estimators\n",
    "              }\n",
    "\n",
    "pprint(random_grid)"
   ]
  },
  {
   "cell_type": "code",
   "execution_count": 517,
   "metadata": {},
   "outputs": [
    {
     "name": "stdout",
     "output_type": "stream",
     "text": [
      "Fitting 5 folds for each of 100 candidates, totalling 500 fits\n"
     ]
    },
    {
     "name": "stderr",
     "output_type": "stream",
     "text": [
      "[Parallel(n_jobs=-1)]: Using backend LokyBackend with 4 concurrent workers.\n",
      "[Parallel(n_jobs=-1)]: Done  33 tasks      | elapsed: 39.8min\n",
      "[Parallel(n_jobs=-1)]: Done 154 tasks      | elapsed: 164.6min\n",
      "[Parallel(n_jobs=-1)]: Done 357 tasks      | elapsed: 364.4min\n",
      "[Parallel(n_jobs=-1)]: Done 500 out of 500 | elapsed: 529.6min finished\n"
     ]
    },
    {
     "data": {
      "text/plain": [
       "RandomizedSearchCV(cv=5,\n",
       "                   estimator=XGBClassifier(base_score=None, booster=None,\n",
       "                                           colsample_bylevel=None,\n",
       "                                           colsample_bynode=None,\n",
       "                                           colsample_bytree=None,\n",
       "                                           eval_metric='logloss', gamma=None,\n",
       "                                           gpu_id=None, importance_type='gain',\n",
       "                                           interaction_constraints=None,\n",
       "                                           learning_rate=None,\n",
       "                                           max_delta_step=None, max_depth=None,\n",
       "                                           min_child_weight=None, missing=nan,\n",
       "                                           monotone_constraints=...\n",
       "                                           use_label_encoder=False,\n",
       "                                           validate_parameters=None,\n",
       "                                           verbosity=None),\n",
       "                   n_iter=100, n_jobs=-1,\n",
       "                   param_distributions={'gamma': [0.0, 0.1, 0.2, 0.3, 0.4],\n",
       "                                        'learning_rate': [1e-05, 0.01, 0.1],\n",
       "                                        'max_depth': range(3, 10, 2),\n",
       "                                        'min_child_weight': range(1, 6, 2),\n",
       "                                        'n_estimators': [1000, 1250, 1500, 1750,\n",
       "                                                         2000],\n",
       "                                        'reg_alpha': [1e-05, 0.01, 0.1, 1, 100],\n",
       "                                        'subsample': [0.6, 0.7, 0.8, 0.9]},\n",
       "                   random_state=777, verbose=2)"
      ]
     },
     "execution_count": 517,
     "metadata": {},
     "output_type": "execute_result"
    }
   ],
   "source": [
    "# Use the random grid to search for best hyperparameters\n",
    "xgboost = xgb.XGBClassifier(use_label_encoder = False, random_state = 777, eval_metric = \"logloss\")\n",
    "\n",
    "# Random search of parameters, using 5 fold cross validation, \n",
    "# search across 100 different combinations\n",
    "xgb_random = RandomizedSearchCV(estimator = xgboost, param_distributions = random_grid, n_iter = 100, cv = 5, \n",
    "                                verbose = 2, random_state = 777, n_jobs = 3)\n",
    "\n",
    "# Fit the random search model\n",
    "xgb_random.fit(X_train, y_train_le)"
   ]
  },
  {
   "cell_type": "code",
   "execution_count": 518,
   "metadata": {},
   "outputs": [
    {
     "data": {
      "text/plain": [
       "{'subsample': 0.6,\n",
       " 'reg_alpha': 1,\n",
       " 'n_estimators': 1250,\n",
       " 'min_child_weight': 3,\n",
       " 'max_depth': 3,\n",
       " 'learning_rate': 0.01,\n",
       " 'gamma': 0.2}"
      ]
     },
     "execution_count": 518,
     "metadata": {},
     "output_type": "execute_result"
    }
   ],
   "source": [
    "xgb_random.best_params_"
   ]
  },
  {
   "cell_type": "code",
   "execution_count": 537,
   "metadata": {},
   "outputs": [
    {
     "data": {
      "text/plain": [
       "array([[0.6640146 , 0.01355457, 0.32243085],\n",
       "       [0.43919462, 0.00634449, 0.5544609 ],\n",
       "       [0.3590428 , 0.00742801, 0.63352925],\n",
       "       ...,\n",
       "       [0.11209291, 0.00905652, 0.87885064],\n",
       "       [0.31900683, 0.12326921, 0.55772394],\n",
       "       [0.51639813, 0.04210221, 0.44149965]], dtype=float32)"
      ]
     },
     "execution_count": 537,
     "metadata": {},
     "output_type": "execute_result"
    }
   ],
   "source": [
    "best_random = xgb_random.best_estimator_\n",
    "y_pred = best_random.predict_proba(X_train)\n",
    "y_pred"
   ]
  },
  {
   "cell_type": "code",
   "execution_count": 538,
   "metadata": {},
   "outputs": [
    {
     "data": {
      "text/plain": [
       "0.5057979417961569"
      ]
     },
     "execution_count": 538,
     "metadata": {},
     "output_type": "execute_result"
    }
   ],
   "source": [
    "log_loss(y_train_le, y_pred)"
   ]
  },
  {
   "cell_type": "code",
   "execution_count": 539,
   "metadata": {},
   "outputs": [
    {
     "data": {
      "text/plain": [
       "array([[0.40271935, 0.00578112, 0.59149957],\n",
       "       [0.12569465, 0.00879521, 0.8655101 ],\n",
       "       [0.11433595, 0.00575104, 0.87991303],\n",
       "       ...,\n",
       "       [0.3922803 , 0.01265669, 0.59506303],\n",
       "       [0.26505086, 0.01879341, 0.7161557 ],\n",
       "       [0.16317387, 0.00985792, 0.82696825]], dtype=float32)"
      ]
     },
     "execution_count": 539,
     "metadata": {},
     "output_type": "execute_result"
    }
   ],
   "source": [
    "y_pred = best_random.predict_proba(X_test)\n",
    "y_pred"
   ]
  },
  {
   "cell_type": "code",
   "execution_count": 540,
   "metadata": {},
   "outputs": [
    {
     "data": {
      "text/plain": [
       "0.7105793266287099"
      ]
     },
     "execution_count": 540,
     "metadata": {},
     "output_type": "execute_result"
    }
   ],
   "source": [
    "log_loss(y_test_le, y_pred)\n",
    "\n",
    "# Best performing model, still see overfitting but much improved from initial xgboost and tuned random forest"
   ]
  },
  {
   "cell_type": "code",
   "execution_count": 541,
   "metadata": {},
   "outputs": [
    {
     "data": {
      "image/png": "[encoded data removed]",
      "text/plain": [
       "<Figure size 360x288 with 2 Axes>"
      ]
     },
     "metadata": {
      "needs_background": "light"
     },
     "output_type": "display_data"
    }
   ],
   "source": [
    "y_pred_class = best_random.predict(X_test)\n",
    "\n",
    "cm = confusion_matrix(y_test_le, y_pred_class)\n",
    "\n",
    "cm_df = pd.DataFrame(cm,\n",
    "                     index = ['Blue','Draw','Red'], \n",
    "                     columns = ['Blue','Draw','Red'])\n",
    "\n",
    "plt.figure(figsize=(5,4))\n",
    "sns.heatmap(cm_df, annot=True, fmt = '.3g')\n",
    "plt.title('Confusion Matrix')\n",
    "plt.ylabel('Actal Values')\n",
    "plt.xlabel('Predicted Values')\n",
    "plt.show()"
   ]
  },
  {
   "cell_type": "markdown",
   "metadata": {},
   "source": [
    "## Feature Importance"
   ]
  },
  {
   "cell_type": "code",
   "execution_count": 544,
   "metadata": {},
   "outputs": [
    {
     "data": {
      "text/plain": [
       "<AxesSubplot:title={'center':'Feature importance'}, xlabel='F score', ylabel='Features'>"
      ]
     },
     "execution_count": 544,
     "metadata": {},
     "output_type": "execute_result"
    },
    {
     "data": {
      "image/png": "[encoded data removed]",
      "text/plain": [
       "<Figure size 432x288 with 1 Axes>"
      ]
     },
     "metadata": {
      "needs_background": "light"
     },
     "output_type": "display_data"
    }
   ],
   "source": [
    "from xgboost import plot_importance\n",
    "plot_importance(best_random, max_num_features = 20, height = 0.5)"
   ]
  },
  {
   "cell_type": "code",
   "execution_count": null,
   "metadata": {},
   "outputs": [],
   "source": []
  }
 ],
 "metadata": {
  "kernelspec": {
   "display_name": "Python 3",
   "language": "python",
   "name": "python3"
  },
  "language_info": {
   "codemirror_mode": {
    "name": "ipython",
    "version": 3
   },
   "file_extension": ".py",
   "mimetype": "text/x-python",
   "name": "python",
   "nbconvert_exporter": "python",
   "pygments_lexer": "ipython3",
   "version": "3.8.5"
  }
 },
 "nbformat": 4,
 "nbformat_minor": 4
}
