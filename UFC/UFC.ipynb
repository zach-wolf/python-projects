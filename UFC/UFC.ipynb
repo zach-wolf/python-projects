{
 "cells": [
  {
   "cell_type": "code",
   "execution_count": 87,
   "metadata": {},
   "outputs": [],
   "source": [
    "import numpy as np\n",
    "import pandas as pd\n",
    "import matplotlib.pyplot as plt\n",
    "import seaborn as sns"
   ]
  },
  {
   "cell_type": "markdown",
   "metadata": {},
   "source": [
    "# Read in the data"
   ]
  },
  {
   "cell_type": "code",
   "execution_count": 88,
   "metadata": {},
   "outputs": [
    {
     "data": {
      "text/html": [
       "<div>\n",
       "<style scoped>\n",
       "    .dataframe tbody tr th:only-of-type {\n",
       "        vertical-align: middle;\n",
       "    }\n",
       "\n",
       "    .dataframe tbody tr th {\n",
       "        vertical-align: top;\n",
       "    }\n",
       "\n",
       "    .dataframe thead th {\n",
       "        text-align: right;\n",
       "    }\n",
       "</style>\n",
       "<table border=\"1\" class=\"dataframe\">\n",
       "  <thead>\n",
       "    <tr style=\"text-align: right;\">\n",
       "      <th></th>\n",
       "      <th>R_fighter</th>\n",
       "      <th>B_fighter</th>\n",
       "      <th>Referee</th>\n",
       "      <th>date</th>\n",
       "      <th>location</th>\n",
       "      <th>Winner</th>\n",
       "      <th>title_bout</th>\n",
       "      <th>weight_class</th>\n",
       "      <th>B_avg_KD</th>\n",
       "      <th>B_avg_opp_KD</th>\n",
       "      <th>...</th>\n",
       "      <th>R_win_by_Decision_Unanimous</th>\n",
       "      <th>R_win_by_KO/TKO</th>\n",
       "      <th>R_win_by_Submission</th>\n",
       "      <th>R_win_by_TKO_Doctor_Stoppage</th>\n",
       "      <th>R_Stance</th>\n",
       "      <th>R_Height_cms</th>\n",
       "      <th>R_Reach_cms</th>\n",
       "      <th>R_Weight_lbs</th>\n",
       "      <th>B_age</th>\n",
       "      <th>R_age</th>\n",
       "    </tr>\n",
       "  </thead>\n",
       "  <tbody>\n",
       "    <tr>\n",
       "      <th>0</th>\n",
       "      <td>Adrian Yanez</td>\n",
       "      <td>Gustavo Lopez</td>\n",
       "      <td>Chris Tognoni</td>\n",
       "      <td>2021-03-20</td>\n",
       "      <td>Las Vegas, Nevada, USA</td>\n",
       "      <td>Red</td>\n",
       "      <td>False</td>\n",
       "      <td>Bantamweight</td>\n",
       "      <td>0.000</td>\n",
       "      <td>0.0</td>\n",
       "      <td>...</td>\n",
       "      <td>0</td>\n",
       "      <td>1</td>\n",
       "      <td>0</td>\n",
       "      <td>0</td>\n",
       "      <td>Orthodox</td>\n",
       "      <td>170.18</td>\n",
       "      <td>177.80</td>\n",
       "      <td>135.0</td>\n",
       "      <td>31.0</td>\n",
       "      <td>27.0</td>\n",
       "    </tr>\n",
       "    <tr>\n",
       "      <th>1</th>\n",
       "      <td>Trevin Giles</td>\n",
       "      <td>Roman Dolidze</td>\n",
       "      <td>Herb Dean</td>\n",
       "      <td>2021-03-20</td>\n",
       "      <td>Las Vegas, Nevada, USA</td>\n",
       "      <td>Red</td>\n",
       "      <td>False</td>\n",
       "      <td>Middleweight</td>\n",
       "      <td>0.500</td>\n",
       "      <td>0.0</td>\n",
       "      <td>...</td>\n",
       "      <td>0</td>\n",
       "      <td>3</td>\n",
       "      <td>0</td>\n",
       "      <td>0</td>\n",
       "      <td>Orthodox</td>\n",
       "      <td>182.88</td>\n",
       "      <td>187.96</td>\n",
       "      <td>185.0</td>\n",
       "      <td>32.0</td>\n",
       "      <td>28.0</td>\n",
       "    </tr>\n",
       "    <tr>\n",
       "      <th>2</th>\n",
       "      <td>Tai Tuivasa</td>\n",
       "      <td>Harry Hunsucker</td>\n",
       "      <td>Herb Dean</td>\n",
       "      <td>2021-03-20</td>\n",
       "      <td>Las Vegas, Nevada, USA</td>\n",
       "      <td>Red</td>\n",
       "      <td>False</td>\n",
       "      <td>Heavyweight</td>\n",
       "      <td>NaN</td>\n",
       "      <td>NaN</td>\n",
       "      <td>...</td>\n",
       "      <td>1</td>\n",
       "      <td>3</td>\n",
       "      <td>0</td>\n",
       "      <td>0</td>\n",
       "      <td>Southpaw</td>\n",
       "      <td>187.96</td>\n",
       "      <td>190.50</td>\n",
       "      <td>264.0</td>\n",
       "      <td>32.0</td>\n",
       "      <td>28.0</td>\n",
       "    </tr>\n",
       "    <tr>\n",
       "      <th>3</th>\n",
       "      <td>Cheyanne Buys</td>\n",
       "      <td>Montserrat Conejo</td>\n",
       "      <td>Mark Smith</td>\n",
       "      <td>2021-03-20</td>\n",
       "      <td>Las Vegas, Nevada, USA</td>\n",
       "      <td>Blue</td>\n",
       "      <td>False</td>\n",
       "      <td>WomenStrawweight</td>\n",
       "      <td>NaN</td>\n",
       "      <td>NaN</td>\n",
       "      <td>...</td>\n",
       "      <td>0</td>\n",
       "      <td>0</td>\n",
       "      <td>0</td>\n",
       "      <td>0</td>\n",
       "      <td>Switch</td>\n",
       "      <td>160.02</td>\n",
       "      <td>160.02</td>\n",
       "      <td>115.0</td>\n",
       "      <td>28.0</td>\n",
       "      <td>25.0</td>\n",
       "    </tr>\n",
       "    <tr>\n",
       "      <th>4</th>\n",
       "      <td>Marion Reneau</td>\n",
       "      <td>Macy Chiasson</td>\n",
       "      <td>Mark Smith</td>\n",
       "      <td>2021-03-20</td>\n",
       "      <td>Las Vegas, Nevada, USA</td>\n",
       "      <td>Blue</td>\n",
       "      <td>False</td>\n",
       "      <td>WomenBantamweight</td>\n",
       "      <td>0.125</td>\n",
       "      <td>0.0</td>\n",
       "      <td>...</td>\n",
       "      <td>1</td>\n",
       "      <td>2</td>\n",
       "      <td>2</td>\n",
       "      <td>0</td>\n",
       "      <td>Orthodox</td>\n",
       "      <td>167.64</td>\n",
       "      <td>172.72</td>\n",
       "      <td>135.0</td>\n",
       "      <td>29.0</td>\n",
       "      <td>43.0</td>\n",
       "    </tr>\n",
       "  </tbody>\n",
       "</table>\n",
       "<p>5 rows × 144 columns</p>\n",
       "</div>"
      ],
      "text/plain": [
       "       R_fighter          B_fighter        Referee        date  \\\n",
       "0   Adrian Yanez      Gustavo Lopez  Chris Tognoni  2021-03-20   \n",
       "1   Trevin Giles      Roman Dolidze      Herb Dean  2021-03-20   \n",
       "2    Tai Tuivasa    Harry Hunsucker      Herb Dean  2021-03-20   \n",
       "3  Cheyanne Buys  Montserrat Conejo     Mark Smith  2021-03-20   \n",
       "4  Marion Reneau      Macy Chiasson     Mark Smith  2021-03-20   \n",
       "\n",
       "                 location Winner  title_bout       weight_class  B_avg_KD  \\\n",
       "0  Las Vegas, Nevada, USA    Red       False       Bantamweight     0.000   \n",
       "1  Las Vegas, Nevada, USA    Red       False       Middleweight     0.500   \n",
       "2  Las Vegas, Nevada, USA    Red       False        Heavyweight       NaN   \n",
       "3  Las Vegas, Nevada, USA   Blue       False   WomenStrawweight       NaN   \n",
       "4  Las Vegas, Nevada, USA   Blue       False  WomenBantamweight     0.125   \n",
       "\n",
       "   B_avg_opp_KD  ...  R_win_by_Decision_Unanimous  R_win_by_KO/TKO  \\\n",
       "0           0.0  ...                            0                1   \n",
       "1           0.0  ...                            0                3   \n",
       "2           NaN  ...                            1                3   \n",
       "3           NaN  ...                            0                0   \n",
       "4           0.0  ...                            1                2   \n",
       "\n",
       "   R_win_by_Submission  R_win_by_TKO_Doctor_Stoppage  R_Stance  R_Height_cms  \\\n",
       "0                    0                             0  Orthodox        170.18   \n",
       "1                    0                             0  Orthodox        182.88   \n",
       "2                    0                             0  Southpaw        187.96   \n",
       "3                    0                             0    Switch        160.02   \n",
       "4                    2                             0  Orthodox        167.64   \n",
       "\n",
       "   R_Reach_cms  R_Weight_lbs  B_age  R_age  \n",
       "0       177.80         135.0   31.0   27.0  \n",
       "1       187.96         185.0   32.0   28.0  \n",
       "2       190.50         264.0   32.0   28.0  \n",
       "3       160.02         115.0   28.0   25.0  \n",
       "4       172.72         135.0   29.0   43.0  \n",
       "\n",
       "[5 rows x 144 columns]"
      ]
     },
     "execution_count": 88,
     "metadata": {},
     "output_type": "execute_result"
    }
   ],
   "source": [
    "ufc = pd.read_csv(\"ufc_data.csv\")\n",
    "ufc.head()"
   ]
  },
  {
   "cell_type": "code",
   "execution_count": 89,
   "metadata": {},
   "outputs": [
    {
     "name": "stdout",
     "output_type": "stream",
     "text": [
      "<class 'pandas.core.frame.DataFrame'>\n",
      "RangeIndex: 6012 entries, 0 to 6011\n",
      "Data columns (total 144 columns):\n",
      " #   Column                        Non-Null Count  Dtype  \n",
      "---  ------                        --------------  -----  \n",
      " 0   R_fighter                     6012 non-null   object \n",
      " 1   B_fighter                     6012 non-null   object \n",
      " 2   Referee                       5980 non-null   object \n",
      " 3   date                          6012 non-null   object \n",
      " 4   location                      6012 non-null   object \n",
      " 5   Winner                        6012 non-null   object \n",
      " 6   title_bout                    6012 non-null   bool   \n",
      " 7   weight_class                  6012 non-null   object \n",
      " 8   B_avg_KD                      4585 non-null   float64\n",
      " 9   B_avg_opp_KD                  4585 non-null   float64\n",
      " 10  B_avg_SIG_STR_pct             4585 non-null   float64\n",
      " 11  B_avg_opp_SIG_STR_pct         4585 non-null   float64\n",
      " 12  B_avg_TD_pct                  4585 non-null   float64\n",
      " 13  B_avg_opp_TD_pct              4585 non-null   float64\n",
      " 14  B_avg_SUB_ATT                 4585 non-null   float64\n",
      " 15  B_avg_opp_SUB_ATT             4585 non-null   float64\n",
      " 16  B_avg_REV                     4585 non-null   float64\n",
      " 17  B_avg_opp_REV                 4585 non-null   float64\n",
      " 18  B_avg_SIG_STR_att             4585 non-null   float64\n",
      " 19  B_avg_SIG_STR_landed          4585 non-null   float64\n",
      " 20  B_avg_opp_SIG_STR_att         4585 non-null   float64\n",
      " 21  B_avg_opp_SIG_STR_landed      4585 non-null   float64\n",
      " 22  B_avg_TOTAL_STR_att           4585 non-null   float64\n",
      " 23  B_avg_TOTAL_STR_landed        4585 non-null   float64\n",
      " 24  B_avg_opp_TOTAL_STR_att       4585 non-null   float64\n",
      " 25  B_avg_opp_TOTAL_STR_landed    4585 non-null   float64\n",
      " 26  B_avg_TD_att                  4585 non-null   float64\n",
      " 27  B_avg_TD_landed               4585 non-null   float64\n",
      " 28  B_avg_opp_TD_att              4585 non-null   float64\n",
      " 29  B_avg_opp_TD_landed           4585 non-null   float64\n",
      " 30  B_avg_HEAD_att                4585 non-null   float64\n",
      " 31  B_avg_HEAD_landed             4585 non-null   float64\n",
      " 32  B_avg_opp_HEAD_att            4585 non-null   float64\n",
      " 33  B_avg_opp_HEAD_landed         4585 non-null   float64\n",
      " 34  B_avg_BODY_att                4585 non-null   float64\n",
      " 35  B_avg_BODY_landed             4585 non-null   float64\n",
      " 36  B_avg_opp_BODY_att            4585 non-null   float64\n",
      " 37  B_avg_opp_BODY_landed         4585 non-null   float64\n",
      " 38  B_avg_LEG_att                 4585 non-null   float64\n",
      " 39  B_avg_LEG_landed              4585 non-null   float64\n",
      " 40  B_avg_opp_LEG_att             4585 non-null   float64\n",
      " 41  B_avg_opp_LEG_landed          4585 non-null   float64\n",
      " 42  B_avg_DISTANCE_att            4585 non-null   float64\n",
      " 43  B_avg_DISTANCE_landed         4585 non-null   float64\n",
      " 44  B_avg_opp_DISTANCE_att        4585 non-null   float64\n",
      " 45  B_avg_opp_DISTANCE_landed     4585 non-null   float64\n",
      " 46  B_avg_CLINCH_att              4585 non-null   float64\n",
      " 47  B_avg_CLINCH_landed           4585 non-null   float64\n",
      " 48  B_avg_opp_CLINCH_att          4585 non-null   float64\n",
      " 49  B_avg_opp_CLINCH_landed       4585 non-null   float64\n",
      " 50  B_avg_GROUND_att              4585 non-null   float64\n",
      " 51  B_avg_GROUND_landed           4585 non-null   float64\n",
      " 52  B_avg_opp_GROUND_att          4585 non-null   float64\n",
      " 53  B_avg_opp_GROUND_landed       4585 non-null   float64\n",
      " 54  B_avg_CTRL_time(seconds)      4585 non-null   float64\n",
      " 55  B_avg_opp_CTRL_time(seconds)  4585 non-null   float64\n",
      " 56  B_total_time_fought(seconds)  4585 non-null   float64\n",
      " 57  B_total_rounds_fought         6012 non-null   int64  \n",
      " 58  B_total_title_bouts           6012 non-null   int64  \n",
      " 59  B_current_win_streak          6012 non-null   int64  \n",
      " 60  B_current_lose_streak         6012 non-null   int64  \n",
      " 61  B_longest_win_streak          6012 non-null   int64  \n",
      " 62  B_wins                        6012 non-null   int64  \n",
      " 63  B_losses                      6012 non-null   int64  \n",
      " 64  B_draw                        6012 non-null   int64  \n",
      " 65  B_win_by_Decision_Majority    6012 non-null   int64  \n",
      " 66  B_win_by_Decision_Split       6012 non-null   int64  \n",
      " 67  B_win_by_Decision_Unanimous   6012 non-null   int64  \n",
      " 68  B_win_by_KO/TKO               6012 non-null   int64  \n",
      " 69  B_win_by_Submission           6012 non-null   int64  \n",
      " 70  B_win_by_TKO_Doctor_Stoppage  6012 non-null   int64  \n",
      " 71  B_Stance                      5946 non-null   object \n",
      " 72  B_Height_cms                  6002 non-null   float64\n",
      " 73  B_Reach_cms                   5121 non-null   float64\n",
      " 74  B_Weight_lbs                  6004 non-null   float64\n",
      " 75  R_avg_KD                      5300 non-null   float64\n",
      " 76  R_avg_opp_KD                  5300 non-null   float64\n",
      " 77  R_avg_SIG_STR_pct             5300 non-null   float64\n",
      " 78  R_avg_opp_SIG_STR_pct         5300 non-null   float64\n",
      " 79  R_avg_TD_pct                  5300 non-null   float64\n",
      " 80  R_avg_opp_TD_pct              5300 non-null   float64\n",
      " 81  R_avg_SUB_ATT                 5300 non-null   float64\n",
      " 82  R_avg_opp_SUB_ATT             5300 non-null   float64\n",
      " 83  R_avg_REV                     5300 non-null   float64\n",
      " 84  R_avg_opp_REV                 5300 non-null   float64\n",
      " 85  R_avg_SIG_STR_att             5300 non-null   float64\n",
      " 86  R_avg_SIG_STR_landed          5300 non-null   float64\n",
      " 87  R_avg_opp_SIG_STR_att         5300 non-null   float64\n",
      " 88  R_avg_opp_SIG_STR_landed      5300 non-null   float64\n",
      " 89  R_avg_TOTAL_STR_att           5300 non-null   float64\n",
      " 90  R_avg_TOTAL_STR_landed        5300 non-null   float64\n",
      " 91  R_avg_opp_TOTAL_STR_att       5300 non-null   float64\n",
      " 92  R_avg_opp_TOTAL_STR_landed    5300 non-null   float64\n",
      " 93  R_avg_TD_att                  5300 non-null   float64\n",
      " 94  R_avg_TD_landed               5300 non-null   float64\n",
      " 95  R_avg_opp_TD_att              5300 non-null   float64\n",
      " 96  R_avg_opp_TD_landed           5300 non-null   float64\n",
      " 97  R_avg_HEAD_att                5300 non-null   float64\n",
      " 98  R_avg_HEAD_landed             5300 non-null   float64\n",
      " 99  R_avg_opp_HEAD_att            5300 non-null   float64\n",
      " 100 R_avg_opp_HEAD_landed         5300 non-null   float64\n",
      " 101 R_avg_BODY_att                5300 non-null   float64\n",
      " 102 R_avg_BODY_landed             5300 non-null   float64\n",
      " 103 R_avg_opp_BODY_att            5300 non-null   float64\n",
      " 104 R_avg_opp_BODY_landed         5300 non-null   float64\n",
      " 105 R_avg_LEG_att                 5300 non-null   float64\n",
      " 106 R_avg_LEG_landed              5300 non-null   float64\n",
      " 107 R_avg_opp_LEG_att             5300 non-null   float64\n",
      " 108 R_avg_opp_LEG_landed          5300 non-null   float64\n",
      " 109 R_avg_DISTANCE_att            5300 non-null   float64\n",
      " 110 R_avg_DISTANCE_landed         5300 non-null   float64\n",
      " 111 R_avg_opp_DISTANCE_att        5300 non-null   float64\n",
      " 112 R_avg_opp_DISTANCE_landed     5300 non-null   float64\n",
      " 113 R_avg_CLINCH_att              5300 non-null   float64\n",
      " 114 R_avg_CLINCH_landed           5300 non-null   float64\n",
      " 115 R_avg_opp_CLINCH_att          5300 non-null   float64\n",
      " 116 R_avg_opp_CLINCH_landed       5300 non-null   float64\n",
      " 117 R_avg_GROUND_att              5300 non-null   float64\n",
      " 118 R_avg_GROUND_landed           5300 non-null   float64\n",
      " 119 R_avg_opp_GROUND_att          5300 non-null   float64\n",
      " 120 R_avg_opp_GROUND_landed       5300 non-null   float64\n",
      " 121 R_avg_CTRL_time(seconds)      5300 non-null   float64\n",
      " 122 R_avg_opp_CTRL_time(seconds)  5300 non-null   float64\n",
      " 123 R_total_time_fought(seconds)  5300 non-null   float64\n",
      " 124 R_total_rounds_fought         6012 non-null   int64  \n",
      " 125 R_total_title_bouts           6012 non-null   int64  \n",
      " 126 R_current_win_streak          6012 non-null   int64  \n",
      " 127 R_current_lose_streak         6012 non-null   int64  \n",
      " 128 R_longest_win_streak          6012 non-null   int64  \n",
      " 129 R_wins                        6012 non-null   int64  \n",
      " 130 R_losses                      6012 non-null   int64  \n",
      " 131 R_draw                        6012 non-null   int64  \n",
      " 132 R_win_by_Decision_Majority    6012 non-null   int64  \n",
      " 133 R_win_by_Decision_Split       6012 non-null   int64  \n",
      " 134 R_win_by_Decision_Unanimous   6012 non-null   int64  \n",
      " 135 R_win_by_KO/TKO               6012 non-null   int64  \n",
      " 136 R_win_by_Submission           6012 non-null   int64  \n",
      " 137 R_win_by_TKO_Doctor_Stoppage  6012 non-null   int64  \n",
      " 138 R_Stance                      5983 non-null   object \n",
      " 139 R_Height_cms                  6008 non-null   float64\n",
      " 140 R_Reach_cms                   5606 non-null   float64\n",
      " 141 R_Weight_lbs                  6010 non-null   float64\n",
      " 142 B_age                         5840 non-null   float64\n",
      " 143 R_age                         5949 non-null   float64\n",
      "dtypes: bool(1), float64(106), int64(28), object(9)\n",
      "memory usage: 6.6+ MB\n"
     ]
    }
   ],
   "source": [
    "ufc.info(verbose = True, null_counts = True)"
   ]
  },
  {
   "cell_type": "code",
   "execution_count": 90,
   "metadata": {},
   "outputs": [
    {
     "data": {
      "text/plain": [
       "(6012, 144)"
      ]
     },
     "execution_count": 90,
     "metadata": {},
     "output_type": "execute_result"
    }
   ],
   "source": [
    "ufc.shape"
   ]
  },
  {
   "cell_type": "markdown",
   "metadata": {},
   "source": [
    "# Exploratory Data Analysis"
   ]
  },
  {
   "cell_type": "markdown",
   "metadata": {},
   "source": [
    "## Dependent variable"
   ]
  },
  {
   "cell_type": "code",
   "execution_count": 91,
   "metadata": {},
   "outputs": [
    {
     "data": {
      "text/plain": [
       "<AxesSubplot:xlabel='Winner', ylabel='count'>"
      ]
     },
     "execution_count": 91,
     "metadata": {},
     "output_type": "execute_result"
    },
    {
     "data": {
      "image/png": "[encoded data removed]",
      "text/plain": [
       "<Figure size 432x288 with 1 Axes>"
      ]
     },
     "metadata": {
      "needs_background": "light"
     },
     "output_type": "display_data"
    }
   ],
   "source": [
    "sns.countplot(x = \"Winner\", data = ufc)"
   ]
  },
  {
   "cell_type": "code",
   "execution_count": 92,
   "metadata": {},
   "outputs": [
    {
     "data": {
      "text/plain": [
       "Red     0.661843\n",
       "Blue    0.319860\n",
       "Draw    0.018297\n",
       "Name: Winner, dtype: float64"
      ]
     },
     "execution_count": 92,
     "metadata": {},
     "output_type": "execute_result"
    }
   ],
   "source": [
    "ufc[\"Winner\"].value_counts(normalize = True)"
   ]
  },
  {
   "cell_type": "code",
   "execution_count": 93,
   "metadata": {},
   "outputs": [
    {
     "data": {
      "text/plain": [
       "(5902, 144)"
      ]
     },
     "execution_count": 93,
     "metadata": {},
     "output_type": "execute_result"
    }
   ],
   "source": [
    "mask = ufc[\"Winner\"] != \"Draw\"\n",
    "ufc = ufc[mask]\n",
    "ufc.shape"
   ]
  },
  {
   "cell_type": "markdown",
   "metadata": {},
   "source": [
    "## Dupes and missings"
   ]
  },
  {
   "cell_type": "code",
   "execution_count": 94,
   "metadata": {},
   "outputs": [
    {
     "data": {
      "text/plain": [
       "0"
      ]
     },
     "execution_count": 94,
     "metadata": {},
     "output_type": "execute_result"
    }
   ],
   "source": [
    "ufc.duplicated().sum() # no dupes"
   ]
  },
  {
   "cell_type": "code",
   "execution_count": 95,
   "metadata": {},
   "outputs": [
    {
     "data": {
      "text/plain": [
       "B_avg_DISTANCE_att              0.236361\n",
       "B_avg_BODY_landed               0.236361\n",
       "B_avg_GROUND_landed             0.236361\n",
       "B_avg_opp_GROUND_att            0.236361\n",
       "B_avg_CTRL_time(seconds)        0.236361\n",
       "B_avg_opp_CTRL_time(seconds)    0.236361\n",
       "B_total_time_fought(seconds)    0.236361\n",
       "B_avg_opp_LEG_att               0.236361\n",
       "B_avg_LEG_landed                0.236361\n",
       "B_avg_LEG_att                   0.236361\n",
       "B_avg_opp_BODY_landed           0.236361\n",
       "B_avg_opp_BODY_att              0.236361\n",
       "B_avg_BODY_att                  0.236361\n",
       "B_avg_opp_CLINCH_landed         0.236361\n",
       "B_avg_opp_HEAD_landed           0.236361\n",
       "B_avg_opp_HEAD_att              0.236361\n",
       "B_avg_HEAD_landed               0.236361\n",
       "B_avg_HEAD_att                  0.236361\n",
       "B_avg_opp_TD_landed             0.236361\n",
       "B_avg_opp_TD_att                0.236361\n",
       "B_avg_TD_landed                 0.236361\n",
       "B_avg_TD_att                    0.236361\n",
       "B_avg_opp_TOTAL_STR_landed      0.236361\n",
       "B_avg_opp_LEG_landed            0.236361\n",
       "B_avg_GROUND_att                0.236361\n",
       "B_avg_opp_GROUND_landed         0.236361\n",
       "B_avg_opp_CLINCH_att            0.236361\n",
       "B_avg_opp_REV                   0.236361\n",
       "B_avg_KD                        0.236361\n",
       "B_avg_DISTANCE_landed           0.236361\n",
       "B_avg_opp_KD                    0.236361\n",
       "B_avg_SIG_STR_pct               0.236361\n",
       "B_avg_opp_SIG_STR_pct           0.236361\n",
       "B_avg_TD_pct                    0.236361\n",
       "B_avg_opp_TD_pct                0.236361\n",
       "B_avg_CLINCH_landed             0.236361\n",
       "B_avg_opp_SUB_ATT               0.236361\n",
       "B_avg_REV                       0.236361\n",
       "B_avg_SUB_ATT                   0.236361\n",
       "B_avg_SIG_STR_att               0.236361\n",
       "B_avg_opp_SIG_STR_att           0.236361\n",
       "B_avg_opp_SIG_STR_landed        0.236361\n",
       "B_avg_TOTAL_STR_att             0.236361\n",
       "B_avg_TOTAL_STR_landed          0.236361\n",
       "B_avg_opp_TOTAL_STR_att         0.236361\n",
       "B_avg_opp_DISTANCE_att          0.236361\n",
       "B_avg_opp_DISTANCE_landed       0.236361\n",
       "B_avg_SIG_STR_landed            0.236361\n",
       "B_avg_CLINCH_att                0.236361\n",
       "B_Reach_cms                     0.148085\n",
       "dtype: float64"
      ]
     },
     "execution_count": 95,
     "metadata": {},
     "output_type": "execute_result"
    }
   ],
   "source": [
    "perc_missing = ufc.isnull().sum() / len(ufc)\n",
    "perc_missing.sort_values(ascending = False).head(50)"
   ]
  },
  {
   "cell_type": "markdown",
   "metadata": {},
   "source": [
    "### Do average missing value rows have any previous fights?"
   ]
  },
  {
   "cell_type": "code",
   "execution_count": 96,
   "metadata": {},
   "outputs": [
    {
     "data": {
      "text/plain": [
       "0"
      ]
     },
     "execution_count": 96,
     "metadata": {},
     "output_type": "execute_result"
    }
   ],
   "source": [
    "ufc[ufc[\"B_avg_DISTANCE_att\"].isnull()][\"B_wins\"].sum()"
   ]
  },
  {
   "cell_type": "code",
   "execution_count": 97,
   "metadata": {},
   "outputs": [
    {
     "data": {
      "text/plain": [
       "0"
      ]
     },
     "execution_count": 97,
     "metadata": {},
     "output_type": "execute_result"
    }
   ],
   "source": [
    "ufc[ufc[\"B_avg_DISTANCE_att\"].isnull()][\"B_losses\"].sum()"
   ]
  },
  {
   "cell_type": "code",
   "execution_count": 98,
   "metadata": {},
   "outputs": [
    {
     "data": {
      "text/plain": [
       "0"
      ]
     },
     "execution_count": 98,
     "metadata": {},
     "output_type": "execute_result"
    }
   ],
   "source": [
    "ufc[ufc[\"R_avg_DISTANCE_att\"].isnull()][\"R_wins\"].sum()"
   ]
  },
  {
   "cell_type": "code",
   "execution_count": 99,
   "metadata": {},
   "outputs": [
    {
     "data": {
      "text/plain": [
       "0"
      ]
     },
     "execution_count": 99,
     "metadata": {},
     "output_type": "execute_result"
    }
   ],
   "source": [
    "ufc[ufc[\"R_avg_DISTANCE_att\"].isnull()][\"R_losses\"].sum()"
   ]
  },
  {
   "cell_type": "code",
   "execution_count": 100,
   "metadata": {},
   "outputs": [],
   "source": [
    "# NULLs for averages belong to fighters who are fighting without a record"
   ]
  },
  {
   "cell_type": "markdown",
   "metadata": {},
   "source": [
    "### Replace NULLs for average columns with favorite/underdog median"
   ]
  },
  {
   "cell_type": "code",
   "execution_count": 101,
   "metadata": {},
   "outputs": [],
   "source": [
    "avg_cols = [col for col in ufc.columns if \"avg\" in col]\n",
    "\n",
    "ufc[avg_cols] = ufc[avg_cols].fillna(ufc[avg_cols].median())"
   ]
  },
  {
   "cell_type": "code",
   "execution_count": 102,
   "metadata": {},
   "outputs": [],
   "source": [
    "ufc[[\"B_total_time_fought(seconds)\", \"R_total_time_fought(seconds)\"]] = ufc[[\"B_total_time_fought(seconds)\", \"R_total_time_fought(seconds)\"]].fillna(ufc[[\"B_total_time_fought(seconds)\", \"R_total_time_fought(seconds)\"]].median())"
   ]
  },
  {
   "cell_type": "code",
   "execution_count": 103,
   "metadata": {},
   "outputs": [
    {
     "data": {
      "text/plain": [
       "B_Reach_cms                  874\n",
       "R_Reach_cms                  397\n",
       "B_age                        170\n",
       "R_age                         62\n",
       "B_Stance                      61\n",
       "Referee                       31\n",
       "R_Stance                      29\n",
       "B_Height_cms                  10\n",
       "B_Weight_lbs                   8\n",
       "R_Height_cms                   4\n",
       "R_Weight_lbs                   2\n",
       "B_avg_DISTANCE_landed          0\n",
       "B_avg_opp_CLINCH_att           0\n",
       "B_avg_CLINCH_landed            0\n",
       "B_avg_CLINCH_att               0\n",
       "B_avg_opp_DISTANCE_landed      0\n",
       "B_avg_opp_DISTANCE_att         0\n",
       "B_avg_opp_LEG_att              0\n",
       "B_avg_DISTANCE_att             0\n",
       "B_avg_opp_LEG_landed           0\n",
       "dtype: int64"
      ]
     },
     "execution_count": 103,
     "metadata": {},
     "output_type": "execute_result"
    }
   ],
   "source": [
    "ufc.isna().sum().sort_values(ascending = False).head(20)"
   ]
  },
  {
   "cell_type": "code",
   "execution_count": 104,
   "metadata": {},
   "outputs": [
    {
     "data": {
      "text/plain": [
       "B_age                      170\n",
       "R_age                       62\n",
       "B_Stance                    61\n",
       "R_Stance                    29\n",
       "B_Height_cms                10\n",
       "B_Weight_lbs                 8\n",
       "R_Height_cms                 4\n",
       "R_Weight_lbs                 2\n",
       "B_avg_opp_DISTANCE_att       0\n",
       "B_avg_opp_CLINCH_landed      0\n",
       "dtype: int64"
      ]
     },
     "execution_count": 104,
     "metadata": {},
     "output_type": "execute_result"
    }
   ],
   "source": [
    "## Too many missing reach, dropping column\n",
    "ufc = ufc.drop(columns=[\"B_Reach_cms\", \"R_Reach_cms\", \"Referee\"])\n",
    "ufc.isna().sum().sort_values(ascending = False).head(10)"
   ]
  },
  {
   "cell_type": "code",
   "execution_count": 105,
   "metadata": {},
   "outputs": [
    {
     "data": {
      "text/plain": [
       "B_Stance                   61\n",
       "R_Stance                   29\n",
       "B_avg_opp_DISTANCE_att      0\n",
       "B_avg_GROUND_att            0\n",
       "B_avg_opp_CLINCH_landed     0\n",
       "dtype: int64"
      ]
     },
     "execution_count": 105,
     "metadata": {},
     "output_type": "execute_result"
    }
   ],
   "source": [
    "cols = [\"B_age\", \"R_age\", \"B_Height_cms\", \"B_Weight_lbs\", \"R_Height_cms\", \"R_Weight_lbs\"]\n",
    "\n",
    "ufc[cols] = ufc[cols].fillna(ufc[cols].median())\n",
    "ufc.isna().sum().sort_values(ascending = False).head(5)"
   ]
  },
  {
   "cell_type": "code",
   "execution_count": 106,
   "metadata": {},
   "outputs": [
    {
     "data": {
      "text/plain": [
       "R_age                      0\n",
       "B_avg_opp_DISTANCE_att     0\n",
       "B_avg_GROUND_att           0\n",
       "B_avg_opp_CLINCH_landed    0\n",
       "B_avg_opp_CLINCH_att       0\n",
       "dtype: int64"
      ]
     },
     "execution_count": 106,
     "metadata": {},
     "output_type": "execute_result"
    }
   ],
   "source": [
    "ufc['R_Stance'] = ufc['R_Stance'].fillna(ufc['R_Stance'].mode()[0])\n",
    "ufc['B_Stance'] = ufc['B_Stance'].fillna(ufc['B_Stance'].mode()[0])\n",
    "ufc.isna().sum().sort_values(ascending = False).head(5)"
   ]
  },
  {
   "cell_type": "code",
   "execution_count": 107,
   "metadata": {},
   "outputs": [
    {
     "data": {
      "text/plain": [
       "(5902, 141)"
      ]
     },
     "execution_count": 107,
     "metadata": {},
     "output_type": "execute_result"
    }
   ],
   "source": [
    "ufc.shape"
   ]
  },
  {
   "cell_type": "markdown",
   "metadata": {},
   "source": [
    "## Data Type Boolean"
   ]
  },
  {
   "cell_type": "code",
   "execution_count": 108,
   "metadata": {},
   "outputs": [
    {
     "data": {
      "text/plain": [
       "['title_bout']"
      ]
     },
     "execution_count": 108,
     "metadata": {},
     "output_type": "execute_result"
    }
   ],
   "source": [
    "ufc.select_dtypes(include = \"boolean\").columns.tolist()"
   ]
  },
  {
   "cell_type": "code",
   "execution_count": 109,
   "metadata": {},
   "outputs": [
    {
     "data": {
      "text/plain": [
       "False    0.939004\n",
       "True     0.060996\n",
       "Name: title_bout, dtype: float64"
      ]
     },
     "execution_count": 109,
     "metadata": {},
     "output_type": "execute_result"
    }
   ],
   "source": [
    "ufc[\"title_bout\"].value_counts(normalize = True)"
   ]
  },
  {
   "cell_type": "markdown",
   "metadata": {},
   "source": [
    "## Data Type Object"
   ]
  },
  {
   "cell_type": "code",
   "execution_count": 110,
   "metadata": {},
   "outputs": [
    {
     "data": {
      "text/plain": [
       "['R_fighter',\n",
       " 'B_fighter',\n",
       " 'date',\n",
       " 'location',\n",
       " 'Winner',\n",
       " 'weight_class',\n",
       " 'B_Stance',\n",
       " 'R_Stance']"
      ]
     },
     "execution_count": 110,
     "metadata": {},
     "output_type": "execute_result"
    }
   ],
   "source": [
    "ufc.select_dtypes(include = \"object\").columns.tolist()"
   ]
  },
  {
   "cell_type": "code",
   "execution_count": 111,
   "metadata": {},
   "outputs": [],
   "source": [
    "ufc[\"location\"] = ufc[\"location\"].astype(\"category\")\n",
    "ufc[\"Winner\"] = ufc[\"Winner\"].astype(\"category\")\n",
    "ufc[\"weight_class\"] = ufc[\"weight_class\"].astype(\"category\")\n",
    "ufc[\"B_Stance\"] = ufc[\"B_Stance\"].astype(\"category\")\n",
    "ufc[\"R_Stance\"] = ufc[\"R_Stance\"].astype(\"category\")\n",
    "\n",
    "ufc[\"date\"] = pd.to_datetime(ufc[\"date\"])"
   ]
  },
  {
   "cell_type": "code",
   "execution_count": 112,
   "metadata": {},
   "outputs": [
    {
     "name": "stdout",
     "output_type": "stream",
     "text": [
      "<class 'pandas.core.frame.DataFrame'>\n",
      "Int64Index: 5902 entries, 0 to 6011\n",
      "Columns: 141 entries, R_fighter to R_age\n",
      "dtypes: bool(1), category(5), datetime64[ns](1), float64(104), int64(28), object(2)\n",
      "memory usage: 6.2+ MB\n"
     ]
    }
   ],
   "source": [
    "ufc.info()"
   ]
  },
  {
   "cell_type": "code",
   "execution_count": 113,
   "metadata": {},
   "outputs": [
    {
     "data": {
      "text/plain": [
       "166"
      ]
     },
     "execution_count": 113,
     "metadata": {},
     "output_type": "execute_result"
    }
   ],
   "source": [
    "ufc[\"location\"].nunique()"
   ]
  },
  {
   "cell_type": "code",
   "execution_count": 114,
   "metadata": {},
   "outputs": [
    {
     "data": {
      "text/plain": [
       "location\n",
       "Las Vegas, Nevada, USA                        1535\n",
       "Abu Dhabi, Abu Dhabi, United Arab Emirates     153\n",
       "London, England, United Kingdom                111\n",
       "Newark, New Jersey, USA                         88\n",
       "Anaheim, California, USA                        82\n",
       "Montreal, Quebec, Canada                        80\n",
       "Chicago, Illinois, USA                          79\n",
       "Atlantic City, New Jersey, USA                  78\n",
       "Los Angeles, California, USA                    75\n",
       "Toronto, Ontario, Canada                        74\n",
       "dtype: int64"
      ]
     },
     "execution_count": 114,
     "metadata": {},
     "output_type": "execute_result"
    }
   ],
   "source": [
    "ufc.value_counts(\"location\").head(10)"
   ]
  },
  {
   "cell_type": "code",
   "execution_count": 115,
   "metadata": {},
   "outputs": [],
   "source": [
    "ufc = ufc.drop(columns=[\"location\"])"
   ]
  },
  {
   "cell_type": "code",
   "execution_count": 116,
   "metadata": {},
   "outputs": [
    {
     "data": {
      "text/plain": [
       "14"
      ]
     },
     "execution_count": 116,
     "metadata": {},
     "output_type": "execute_result"
    }
   ],
   "source": [
    "ufc[\"weight_class\"].nunique()"
   ]
  },
  {
   "cell_type": "code",
   "execution_count": 117,
   "metadata": {},
   "outputs": [
    {
     "data": {
      "text/plain": [
       "<AxesSubplot:xlabel='weight_class', ylabel='count'>"
      ]
     },
     "execution_count": 117,
     "metadata": {},
     "output_type": "execute_result"
    },
    {
     "data": {
      "image/png": "[encoded data removed]",
      "text/plain": [
       "<Figure size 432x288 with 1 Axes>"
      ]
     },
     "metadata": {
      "needs_background": "light"
     },
     "output_type": "display_data"
    }
   ],
   "source": [
    "sns.countplot(x = \"weight_class\", data = ufc)"
   ]
  },
  {
   "cell_type": "code",
   "execution_count": 118,
   "metadata": {},
   "outputs": [
    {
     "data": {
      "text/plain": [
       "weight_class\n",
       "Lightweight           1072\n",
       "Welterweight          1066\n",
       "Middleweight           803\n",
       "Heavyweight            573\n",
       "LightHeavyweight       559\n",
       "Featherweight          539\n",
       "Bantamweight           462\n",
       "Flyweight              226\n",
       "WomenStrawweight       190\n",
       "WomenBantamweight      149\n",
       "WomenFlyweight         110\n",
       "OpenWeight              86\n",
       "CatchWeight             51\n",
       "WomenFeatherweight      16\n",
       "dtype: int64"
      ]
     },
     "execution_count": 118,
     "metadata": {},
     "output_type": "execute_result"
    }
   ],
   "source": [
    "ufc.value_counts(\"weight_class\")"
   ]
  },
  {
   "cell_type": "code",
   "execution_count": 119,
   "metadata": {},
   "outputs": [
    {
     "data": {
      "text/plain": [
       "weight_class\n",
       "Lightweight           1072\n",
       "Welterweight          1066\n",
       "Middleweight           803\n",
       "Heavyweight            573\n",
       "LightHeavyweight       559\n",
       "Featherweight          539\n",
       "Bantamweight           462\n",
       "Flyweight              226\n",
       "OpenWeight              86\n",
       "CatchWeight             51\n",
       "WomenStrawweight         0\n",
       "WomenFlyweight           0\n",
       "WomenFeatherweight       0\n",
       "WomenBantamweight        0\n",
       "dtype: int64"
      ]
     },
     "execution_count": 119,
     "metadata": {},
     "output_type": "execute_result"
    }
   ],
   "source": [
    "# Dropping womens fights\n",
    "mask = ufc[\"weight_class\"].str.contains(\"Women\")\n",
    "ufc = ufc[~mask]\n",
    "ufc.value_counts(\"weight_class\")"
   ]
  },
  {
   "cell_type": "markdown",
   "metadata": {},
   "source": [
    "## Data Type Float"
   ]
  },
  {
   "cell_type": "code",
   "execution_count": 120,
   "metadata": {},
   "outputs": [
    {
     "data": {
      "text/html": [
       "<div>\n",
       "<style scoped>\n",
       "    .dataframe tbody tr th:only-of-type {\n",
       "        vertical-align: middle;\n",
       "    }\n",
       "\n",
       "    .dataframe tbody tr th {\n",
       "        vertical-align: top;\n",
       "    }\n",
       "\n",
       "    .dataframe thead th {\n",
       "        text-align: right;\n",
       "    }\n",
       "</style>\n",
       "<table border=\"1\" class=\"dataframe\">\n",
       "  <thead>\n",
       "    <tr style=\"text-align: right;\">\n",
       "      <th></th>\n",
       "      <th>B_avg_KD</th>\n",
       "      <th>B_avg_opp_KD</th>\n",
       "      <th>B_avg_SIG_STR_pct</th>\n",
       "      <th>B_avg_opp_SIG_STR_pct</th>\n",
       "      <th>B_avg_TD_pct</th>\n",
       "      <th>B_avg_opp_TD_pct</th>\n",
       "      <th>B_avg_SUB_ATT</th>\n",
       "      <th>B_avg_opp_SUB_ATT</th>\n",
       "      <th>B_avg_REV</th>\n",
       "      <th>B_avg_opp_REV</th>\n",
       "      <th>...</th>\n",
       "      <th>R_avg_GROUND_landed</th>\n",
       "      <th>R_avg_opp_GROUND_att</th>\n",
       "      <th>R_avg_opp_GROUND_landed</th>\n",
       "      <th>R_avg_CTRL_time(seconds)</th>\n",
       "      <th>R_avg_opp_CTRL_time(seconds)</th>\n",
       "      <th>R_total_time_fought(seconds)</th>\n",
       "      <th>R_Height_cms</th>\n",
       "      <th>R_Weight_lbs</th>\n",
       "      <th>B_age</th>\n",
       "      <th>R_age</th>\n",
       "    </tr>\n",
       "  </thead>\n",
       "  <tbody>\n",
       "    <tr>\n",
       "      <th>count</th>\n",
       "      <td>5437.000000</td>\n",
       "      <td>5437.000000</td>\n",
       "      <td>5437.000000</td>\n",
       "      <td>5437.000000</td>\n",
       "      <td>5437.000000</td>\n",
       "      <td>5437.000000</td>\n",
       "      <td>5437.000000</td>\n",
       "      <td>5437.000000</td>\n",
       "      <td>5437.000000</td>\n",
       "      <td>5437.000000</td>\n",
       "      <td>...</td>\n",
       "      <td>5437.000000</td>\n",
       "      <td>5437.000000</td>\n",
       "      <td>5437.000000</td>\n",
       "      <td>5437.000000</td>\n",
       "      <td>5437.000000</td>\n",
       "      <td>5437.000000</td>\n",
       "      <td>5437.000000</td>\n",
       "      <td>5437.000000</td>\n",
       "      <td>5437.000000</td>\n",
       "      <td>5437.000000</td>\n",
       "    </tr>\n",
       "    <tr>\n",
       "      <th>mean</th>\n",
       "      <td>0.205389</td>\n",
       "      <td>0.142396</td>\n",
       "      <td>0.452516</td>\n",
       "      <td>0.432437</td>\n",
       "      <td>0.280470</td>\n",
       "      <td>0.251437</td>\n",
       "      <td>0.401629</td>\n",
       "      <td>0.344021</td>\n",
       "      <td>0.120415</td>\n",
       "      <td>0.107817</td>\n",
       "      <td>...</td>\n",
       "      <td>5.699622</td>\n",
       "      <td>6.514734</td>\n",
       "      <td>4.338960</td>\n",
       "      <td>138.429307</td>\n",
       "      <td>118.051417</td>\n",
       "      <td>628.436480</td>\n",
       "      <td>180.106882</td>\n",
       "      <td>174.587088</td>\n",
       "      <td>29.286739</td>\n",
       "      <td>29.596285</td>\n",
       "    </tr>\n",
       "    <tr>\n",
       "      <th>std</th>\n",
       "      <td>0.355095</td>\n",
       "      <td>0.301369</td>\n",
       "      <td>0.115360</td>\n",
       "      <td>0.117454</td>\n",
       "      <td>0.237985</td>\n",
       "      <td>0.234217</td>\n",
       "      <td>0.647317</td>\n",
       "      <td>0.590690</td>\n",
       "      <td>0.307365</td>\n",
       "      <td>0.286149</td>\n",
       "      <td>...</td>\n",
       "      <td>6.650066</td>\n",
       "      <td>8.400879</td>\n",
       "      <td>5.625881</td>\n",
       "      <td>130.113652</td>\n",
       "      <td>114.439233</td>\n",
       "      <td>251.562384</td>\n",
       "      <td>8.135339</td>\n",
       "      <td>34.423626</td>\n",
       "      <td>4.020184</td>\n",
       "      <td>4.144840</td>\n",
       "    </tr>\n",
       "    <tr>\n",
       "      <th>min</th>\n",
       "      <td>0.000000</td>\n",
       "      <td>0.000000</td>\n",
       "      <td>0.000000</td>\n",
       "      <td>0.000000</td>\n",
       "      <td>0.000000</td>\n",
       "      <td>0.000000</td>\n",
       "      <td>0.000000</td>\n",
       "      <td>0.000000</td>\n",
       "      <td>0.000000</td>\n",
       "      <td>0.000000</td>\n",
       "      <td>...</td>\n",
       "      <td>0.000000</td>\n",
       "      <td>0.000000</td>\n",
       "      <td>0.000000</td>\n",
       "      <td>0.000000</td>\n",
       "      <td>0.000000</td>\n",
       "      <td>7.000000</td>\n",
       "      <td>157.480000</td>\n",
       "      <td>125.000000</td>\n",
       "      <td>18.000000</td>\n",
       "      <td>19.000000</td>\n",
       "    </tr>\n",
       "    <tr>\n",
       "      <th>1%</th>\n",
       "      <td>0.000000</td>\n",
       "      <td>0.000000</td>\n",
       "      <td>0.126053</td>\n",
       "      <td>0.131800</td>\n",
       "      <td>0.000000</td>\n",
       "      <td>0.000000</td>\n",
       "      <td>0.000000</td>\n",
       "      <td>0.000000</td>\n",
       "      <td>0.000000</td>\n",
       "      <td>0.000000</td>\n",
       "      <td>...</td>\n",
       "      <td>0.000000</td>\n",
       "      <td>0.000000</td>\n",
       "      <td>0.000000</td>\n",
       "      <td>0.000000</td>\n",
       "      <td>0.000000</td>\n",
       "      <td>60.360000</td>\n",
       "      <td>162.560000</td>\n",
       "      <td>125.000000</td>\n",
       "      <td>21.000000</td>\n",
       "      <td>21.000000</td>\n",
       "    </tr>\n",
       "    <tr>\n",
       "      <th>50%</th>\n",
       "      <td>0.015625</td>\n",
       "      <td>0.000000</td>\n",
       "      <td>0.450000</td>\n",
       "      <td>0.427500</td>\n",
       "      <td>0.250000</td>\n",
       "      <td>0.200000</td>\n",
       "      <td>0.149902</td>\n",
       "      <td>0.118317</td>\n",
       "      <td>0.000000</td>\n",
       "      <td>0.000000</td>\n",
       "      <td>...</td>\n",
       "      <td>3.724670</td>\n",
       "      <td>4.000000</td>\n",
       "      <td>2.641602</td>\n",
       "      <td>105.036075</td>\n",
       "      <td>89.000000</td>\n",
       "      <td>655.562500</td>\n",
       "      <td>180.340000</td>\n",
       "      <td>170.000000</td>\n",
       "      <td>29.000000</td>\n",
       "      <td>29.000000</td>\n",
       "    </tr>\n",
       "    <tr>\n",
       "      <th>99%</th>\n",
       "      <td>1.489453</td>\n",
       "      <td>1.250000</td>\n",
       "      <td>0.780000</td>\n",
       "      <td>0.771664</td>\n",
       "      <td>1.000000</td>\n",
       "      <td>1.000000</td>\n",
       "      <td>3.000000</td>\n",
       "      <td>3.000000</td>\n",
       "      <td>1.415000</td>\n",
       "      <td>1.250000</td>\n",
       "      <td>...</td>\n",
       "      <td>31.810938</td>\n",
       "      <td>39.817017</td>\n",
       "      <td>27.341274</td>\n",
       "      <td>584.920000</td>\n",
       "      <td>544.666635</td>\n",
       "      <td>1274.978622</td>\n",
       "      <td>198.120000</td>\n",
       "      <td>265.000000</td>\n",
       "      <td>40.000000</td>\n",
       "      <td>40.000000</td>\n",
       "    </tr>\n",
       "    <tr>\n",
       "      <th>max</th>\n",
       "      <td>5.000000</td>\n",
       "      <td>3.000000</td>\n",
       "      <td>1.000000</td>\n",
       "      <td>1.000000</td>\n",
       "      <td>1.000000</td>\n",
       "      <td>1.000000</td>\n",
       "      <td>8.000000</td>\n",
       "      <td>7.000000</td>\n",
       "      <td>4.000000</td>\n",
       "      <td>3.000000</td>\n",
       "      <td>...</td>\n",
       "      <td>68.000000</td>\n",
       "      <td>104.000000</td>\n",
       "      <td>68.000000</td>\n",
       "      <td>996.749573</td>\n",
       "      <td>812.000000</td>\n",
       "      <td>1500.000000</td>\n",
       "      <td>210.820000</td>\n",
       "      <td>345.000000</td>\n",
       "      <td>51.000000</td>\n",
       "      <td>47.000000</td>\n",
       "    </tr>\n",
       "  </tbody>\n",
       "</table>\n",
       "<p>8 rows × 104 columns</p>\n",
       "</div>"
      ],
      "text/plain": [
       "          B_avg_KD  B_avg_opp_KD  B_avg_SIG_STR_pct  B_avg_opp_SIG_STR_pct  \\\n",
       "count  5437.000000   5437.000000        5437.000000            5437.000000   \n",
       "mean      0.205389      0.142396           0.452516               0.432437   \n",
       "std       0.355095      0.301369           0.115360               0.117454   \n",
       "min       0.000000      0.000000           0.000000               0.000000   \n",
       "1%        0.000000      0.000000           0.126053               0.131800   \n",
       "50%       0.015625      0.000000           0.450000               0.427500   \n",
       "99%       1.489453      1.250000           0.780000               0.771664   \n",
       "max       5.000000      3.000000           1.000000               1.000000   \n",
       "\n",
       "       B_avg_TD_pct  B_avg_opp_TD_pct  B_avg_SUB_ATT  B_avg_opp_SUB_ATT  \\\n",
       "count   5437.000000       5437.000000    5437.000000        5437.000000   \n",
       "mean       0.280470          0.251437       0.401629           0.344021   \n",
       "std        0.237985          0.234217       0.647317           0.590690   \n",
       "min        0.000000          0.000000       0.000000           0.000000   \n",
       "1%         0.000000          0.000000       0.000000           0.000000   \n",
       "50%        0.250000          0.200000       0.149902           0.118317   \n",
       "99%        1.000000          1.000000       3.000000           3.000000   \n",
       "max        1.000000          1.000000       8.000000           7.000000   \n",
       "\n",
       "         B_avg_REV  B_avg_opp_REV  ...  R_avg_GROUND_landed  \\\n",
       "count  5437.000000    5437.000000  ...          5437.000000   \n",
       "mean      0.120415       0.107817  ...             5.699622   \n",
       "std       0.307365       0.286149  ...             6.650066   \n",
       "min       0.000000       0.000000  ...             0.000000   \n",
       "1%        0.000000       0.000000  ...             0.000000   \n",
       "50%       0.000000       0.000000  ...             3.724670   \n",
       "99%       1.415000       1.250000  ...            31.810938   \n",
       "max       4.000000       3.000000  ...            68.000000   \n",
       "\n",
       "       R_avg_opp_GROUND_att  R_avg_opp_GROUND_landed  \\\n",
       "count           5437.000000              5437.000000   \n",
       "mean               6.514734                 4.338960   \n",
       "std                8.400879                 5.625881   \n",
       "min                0.000000                 0.000000   \n",
       "1%                 0.000000                 0.000000   \n",
       "50%                4.000000                 2.641602   \n",
       "99%               39.817017                27.341274   \n",
       "max              104.000000                68.000000   \n",
       "\n",
       "       R_avg_CTRL_time(seconds)  R_avg_opp_CTRL_time(seconds)  \\\n",
       "count               5437.000000                   5437.000000   \n",
       "mean                 138.429307                    118.051417   \n",
       "std                  130.113652                    114.439233   \n",
       "min                    0.000000                      0.000000   \n",
       "1%                     0.000000                      0.000000   \n",
       "50%                  105.036075                     89.000000   \n",
       "99%                  584.920000                    544.666635   \n",
       "max                  996.749573                    812.000000   \n",
       "\n",
       "       R_total_time_fought(seconds)  R_Height_cms  R_Weight_lbs        B_age  \\\n",
       "count                   5437.000000   5437.000000   5437.000000  5437.000000   \n",
       "mean                     628.436480    180.106882    174.587088    29.286739   \n",
       "std                      251.562384      8.135339     34.423626     4.020184   \n",
       "min                        7.000000    157.480000    125.000000    18.000000   \n",
       "1%                        60.360000    162.560000    125.000000    21.000000   \n",
       "50%                      655.562500    180.340000    170.000000    29.000000   \n",
       "99%                     1274.978622    198.120000    265.000000    40.000000   \n",
       "max                     1500.000000    210.820000    345.000000    51.000000   \n",
       "\n",
       "             R_age  \n",
       "count  5437.000000  \n",
       "mean     29.596285  \n",
       "std       4.144840  \n",
       "min      19.000000  \n",
       "1%       21.000000  \n",
       "50%      29.000000  \n",
       "99%      40.000000  \n",
       "max      47.000000  \n",
       "\n",
       "[8 rows x 104 columns]"
      ]
     },
     "execution_count": 120,
     "metadata": {},
     "output_type": "execute_result"
    }
   ],
   "source": [
    "float_vars = ufc.select_dtypes(include = \"float64\").columns.tolist()\n",
    "ufc[float_vars].describe(percentiles = [0.01, 0.99])"
   ]
  },
  {
   "cell_type": "markdown",
   "metadata": {},
   "source": [
    "## Data Type Int"
   ]
  },
  {
   "cell_type": "code",
   "execution_count": 121,
   "metadata": {},
   "outputs": [
    {
     "data": {
      "text/html": [
       "<div>\n",
       "<style scoped>\n",
       "    .dataframe tbody tr th:only-of-type {\n",
       "        vertical-align: middle;\n",
       "    }\n",
       "\n",
       "    .dataframe tbody tr th {\n",
       "        vertical-align: top;\n",
       "    }\n",
       "\n",
       "    .dataframe thead th {\n",
       "        text-align: right;\n",
       "    }\n",
       "</style>\n",
       "<table border=\"1\" class=\"dataframe\">\n",
       "  <thead>\n",
       "    <tr style=\"text-align: right;\">\n",
       "      <th></th>\n",
       "      <th>B_total_rounds_fought</th>\n",
       "      <th>B_total_title_bouts</th>\n",
       "      <th>B_current_win_streak</th>\n",
       "      <th>B_current_lose_streak</th>\n",
       "      <th>B_longest_win_streak</th>\n",
       "      <th>B_wins</th>\n",
       "      <th>B_losses</th>\n",
       "      <th>B_draw</th>\n",
       "      <th>B_win_by_Decision_Majority</th>\n",
       "      <th>B_win_by_Decision_Split</th>\n",
       "      <th>...</th>\n",
       "      <th>R_longest_win_streak</th>\n",
       "      <th>R_wins</th>\n",
       "      <th>R_losses</th>\n",
       "      <th>R_draw</th>\n",
       "      <th>R_win_by_Decision_Majority</th>\n",
       "      <th>R_win_by_Decision_Split</th>\n",
       "      <th>R_win_by_Decision_Unanimous</th>\n",
       "      <th>R_win_by_KO/TKO</th>\n",
       "      <th>R_win_by_Submission</th>\n",
       "      <th>R_win_by_TKO_Doctor_Stoppage</th>\n",
       "    </tr>\n",
       "  </thead>\n",
       "  <tbody>\n",
       "    <tr>\n",
       "      <th>count</th>\n",
       "      <td>5437.000000</td>\n",
       "      <td>5437.000000</td>\n",
       "      <td>5437.000000</td>\n",
       "      <td>5437.000000</td>\n",
       "      <td>5437.000000</td>\n",
       "      <td>5437.000000</td>\n",
       "      <td>5437.000000</td>\n",
       "      <td>5437.0</td>\n",
       "      <td>5437.000000</td>\n",
       "      <td>5437.000000</td>\n",
       "      <td>...</td>\n",
       "      <td>5437.000000</td>\n",
       "      <td>5437.000000</td>\n",
       "      <td>5437.000000</td>\n",
       "      <td>5437.0</td>\n",
       "      <td>5437.000000</td>\n",
       "      <td>5437.000000</td>\n",
       "      <td>5437.000000</td>\n",
       "      <td>5437.000000</td>\n",
       "      <td>5437.000000</td>\n",
       "      <td>5437.000000</td>\n",
       "    </tr>\n",
       "    <tr>\n",
       "      <th>mean</th>\n",
       "      <td>9.580835</td>\n",
       "      <td>0.282877</td>\n",
       "      <td>0.967997</td>\n",
       "      <td>0.392312</td>\n",
       "      <td>1.666728</td>\n",
       "      <td>2.659003</td>\n",
       "      <td>1.562810</td>\n",
       "      <td>0.0</td>\n",
       "      <td>0.017473</td>\n",
       "      <td>0.216848</td>\n",
       "      <td>...</td>\n",
       "      <td>2.367114</td>\n",
       "      <td>3.876954</td>\n",
       "      <td>2.109068</td>\n",
       "      <td>0.0</td>\n",
       "      <td>0.029612</td>\n",
       "      <td>0.302557</td>\n",
       "      <td>1.271473</td>\n",
       "      <td>1.367482</td>\n",
       "      <td>0.822512</td>\n",
       "      <td>0.074674</td>\n",
       "    </tr>\n",
       "    <tr>\n",
       "      <th>std</th>\n",
       "      <td>12.057577</td>\n",
       "      <td>1.140186</td>\n",
       "      <td>1.511571</td>\n",
       "      <td>0.660596</td>\n",
       "      <td>1.830879</td>\n",
       "      <td>3.386165</td>\n",
       "      <td>1.960228</td>\n",
       "      <td>0.0</td>\n",
       "      <td>0.132434</td>\n",
       "      <td>0.528673</td>\n",
       "      <td>...</td>\n",
       "      <td>2.120246</td>\n",
       "      <td>3.940196</td>\n",
       "      <td>2.306225</td>\n",
       "      <td>0.0</td>\n",
       "      <td>0.171686</td>\n",
       "      <td>0.625273</td>\n",
       "      <td>1.712037</td>\n",
       "      <td>1.889895</td>\n",
       "      <td>1.391245</td>\n",
       "      <td>0.284400</td>\n",
       "    </tr>\n",
       "    <tr>\n",
       "      <th>min</th>\n",
       "      <td>0.000000</td>\n",
       "      <td>0.000000</td>\n",
       "      <td>0.000000</td>\n",
       "      <td>0.000000</td>\n",
       "      <td>0.000000</td>\n",
       "      <td>0.000000</td>\n",
       "      <td>0.000000</td>\n",
       "      <td>0.0</td>\n",
       "      <td>0.000000</td>\n",
       "      <td>0.000000</td>\n",
       "      <td>...</td>\n",
       "      <td>0.000000</td>\n",
       "      <td>0.000000</td>\n",
       "      <td>0.000000</td>\n",
       "      <td>0.0</td>\n",
       "      <td>0.000000</td>\n",
       "      <td>0.000000</td>\n",
       "      <td>0.000000</td>\n",
       "      <td>0.000000</td>\n",
       "      <td>0.000000</td>\n",
       "      <td>0.000000</td>\n",
       "    </tr>\n",
       "    <tr>\n",
       "      <th>1%</th>\n",
       "      <td>0.000000</td>\n",
       "      <td>0.000000</td>\n",
       "      <td>0.000000</td>\n",
       "      <td>0.000000</td>\n",
       "      <td>0.000000</td>\n",
       "      <td>0.000000</td>\n",
       "      <td>0.000000</td>\n",
       "      <td>0.0</td>\n",
       "      <td>0.000000</td>\n",
       "      <td>0.000000</td>\n",
       "      <td>...</td>\n",
       "      <td>0.000000</td>\n",
       "      <td>0.000000</td>\n",
       "      <td>0.000000</td>\n",
       "      <td>0.0</td>\n",
       "      <td>0.000000</td>\n",
       "      <td>0.000000</td>\n",
       "      <td>0.000000</td>\n",
       "      <td>0.000000</td>\n",
       "      <td>0.000000</td>\n",
       "      <td>0.000000</td>\n",
       "    </tr>\n",
       "    <tr>\n",
       "      <th>50%</th>\n",
       "      <td>6.000000</td>\n",
       "      <td>0.000000</td>\n",
       "      <td>0.000000</td>\n",
       "      <td>0.000000</td>\n",
       "      <td>1.000000</td>\n",
       "      <td>1.000000</td>\n",
       "      <td>1.000000</td>\n",
       "      <td>0.0</td>\n",
       "      <td>0.000000</td>\n",
       "      <td>0.000000</td>\n",
       "      <td>...</td>\n",
       "      <td>2.000000</td>\n",
       "      <td>3.000000</td>\n",
       "      <td>1.000000</td>\n",
       "      <td>0.0</td>\n",
       "      <td>0.000000</td>\n",
       "      <td>0.000000</td>\n",
       "      <td>1.000000</td>\n",
       "      <td>1.000000</td>\n",
       "      <td>0.000000</td>\n",
       "      <td>0.000000</td>\n",
       "    </tr>\n",
       "    <tr>\n",
       "      <th>99%</th>\n",
       "      <td>57.000000</td>\n",
       "      <td>5.000000</td>\n",
       "      <td>7.000000</td>\n",
       "      <td>3.000000</td>\n",
       "      <td>7.000000</td>\n",
       "      <td>15.000000</td>\n",
       "      <td>9.000000</td>\n",
       "      <td>0.0</td>\n",
       "      <td>1.000000</td>\n",
       "      <td>2.000000</td>\n",
       "      <td>...</td>\n",
       "      <td>9.000000</td>\n",
       "      <td>16.000000</td>\n",
       "      <td>10.000000</td>\n",
       "      <td>0.0</td>\n",
       "      <td>1.000000</td>\n",
       "      <td>3.000000</td>\n",
       "      <td>7.640000</td>\n",
       "      <td>8.000000</td>\n",
       "      <td>6.000000</td>\n",
       "      <td>1.000000</td>\n",
       "    </tr>\n",
       "    <tr>\n",
       "      <th>max</th>\n",
       "      <td>94.000000</td>\n",
       "      <td>16.000000</td>\n",
       "      <td>16.000000</td>\n",
       "      <td>5.000000</td>\n",
       "      <td>16.000000</td>\n",
       "      <td>23.000000</td>\n",
       "      <td>16.000000</td>\n",
       "      <td>0.0</td>\n",
       "      <td>2.000000</td>\n",
       "      <td>5.000000</td>\n",
       "      <td>...</td>\n",
       "      <td>16.000000</td>\n",
       "      <td>23.000000</td>\n",
       "      <td>17.000000</td>\n",
       "      <td>0.0</td>\n",
       "      <td>2.000000</td>\n",
       "      <td>5.000000</td>\n",
       "      <td>10.000000</td>\n",
       "      <td>11.000000</td>\n",
       "      <td>13.000000</td>\n",
       "      <td>2.000000</td>\n",
       "    </tr>\n",
       "  </tbody>\n",
       "</table>\n",
       "<p>8 rows × 28 columns</p>\n",
       "</div>"
      ],
      "text/plain": [
       "       B_total_rounds_fought  B_total_title_bouts  B_current_win_streak  \\\n",
       "count            5437.000000          5437.000000           5437.000000   \n",
       "mean                9.580835             0.282877              0.967997   \n",
       "std                12.057577             1.140186              1.511571   \n",
       "min                 0.000000             0.000000              0.000000   \n",
       "1%                  0.000000             0.000000              0.000000   \n",
       "50%                 6.000000             0.000000              0.000000   \n",
       "99%                57.000000             5.000000              7.000000   \n",
       "max                94.000000            16.000000             16.000000   \n",
       "\n",
       "       B_current_lose_streak  B_longest_win_streak       B_wins     B_losses  \\\n",
       "count            5437.000000           5437.000000  5437.000000  5437.000000   \n",
       "mean                0.392312              1.666728     2.659003     1.562810   \n",
       "std                 0.660596              1.830879     3.386165     1.960228   \n",
       "min                 0.000000              0.000000     0.000000     0.000000   \n",
       "1%                  0.000000              0.000000     0.000000     0.000000   \n",
       "50%                 0.000000              1.000000     1.000000     1.000000   \n",
       "99%                 3.000000              7.000000    15.000000     9.000000   \n",
       "max                 5.000000             16.000000    23.000000    16.000000   \n",
       "\n",
       "       B_draw  B_win_by_Decision_Majority  B_win_by_Decision_Split  ...  \\\n",
       "count  5437.0                 5437.000000              5437.000000  ...   \n",
       "mean      0.0                    0.017473                 0.216848  ...   \n",
       "std       0.0                    0.132434                 0.528673  ...   \n",
       "min       0.0                    0.000000                 0.000000  ...   \n",
       "1%        0.0                    0.000000                 0.000000  ...   \n",
       "50%       0.0                    0.000000                 0.000000  ...   \n",
       "99%       0.0                    1.000000                 2.000000  ...   \n",
       "max       0.0                    2.000000                 5.000000  ...   \n",
       "\n",
       "       R_longest_win_streak       R_wins     R_losses  R_draw  \\\n",
       "count           5437.000000  5437.000000  5437.000000  5437.0   \n",
       "mean               2.367114     3.876954     2.109068     0.0   \n",
       "std                2.120246     3.940196     2.306225     0.0   \n",
       "min                0.000000     0.000000     0.000000     0.0   \n",
       "1%                 0.000000     0.000000     0.000000     0.0   \n",
       "50%                2.000000     3.000000     1.000000     0.0   \n",
       "99%                9.000000    16.000000    10.000000     0.0   \n",
       "max               16.000000    23.000000    17.000000     0.0   \n",
       "\n",
       "       R_win_by_Decision_Majority  R_win_by_Decision_Split  \\\n",
       "count                 5437.000000              5437.000000   \n",
       "mean                     0.029612                 0.302557   \n",
       "std                      0.171686                 0.625273   \n",
       "min                      0.000000                 0.000000   \n",
       "1%                       0.000000                 0.000000   \n",
       "50%                      0.000000                 0.000000   \n",
       "99%                      1.000000                 3.000000   \n",
       "max                      2.000000                 5.000000   \n",
       "\n",
       "       R_win_by_Decision_Unanimous  R_win_by_KO/TKO  R_win_by_Submission  \\\n",
       "count                  5437.000000      5437.000000          5437.000000   \n",
       "mean                      1.271473         1.367482             0.822512   \n",
       "std                       1.712037         1.889895             1.391245   \n",
       "min                       0.000000         0.000000             0.000000   \n",
       "1%                        0.000000         0.000000             0.000000   \n",
       "50%                       1.000000         1.000000             0.000000   \n",
       "99%                       7.640000         8.000000             6.000000   \n",
       "max                      10.000000        11.000000            13.000000   \n",
       "\n",
       "       R_win_by_TKO_Doctor_Stoppage  \n",
       "count                   5437.000000  \n",
       "mean                       0.074674  \n",
       "std                        0.284400  \n",
       "min                        0.000000  \n",
       "1%                         0.000000  \n",
       "50%                        0.000000  \n",
       "99%                        1.000000  \n",
       "max                        2.000000  \n",
       "\n",
       "[8 rows x 28 columns]"
      ]
     },
     "execution_count": 121,
     "metadata": {},
     "output_type": "execute_result"
    }
   ],
   "source": [
    "int_vars = ufc.select_dtypes(include = \"int\").columns.tolist()\n",
    "ufc[int_vars].describe(percentiles = [0.01, 0.99])"
   ]
  },
  {
   "cell_type": "code",
   "execution_count": 122,
   "metadata": {},
   "outputs": [],
   "source": [
    "# drop draw columns as all rows are 0\n",
    "ufc = ufc.drop(columns = [\"B_draw\", \"R_draw\"])"
   ]
  },
  {
   "cell_type": "code",
   "execution_count": 123,
   "metadata": {},
   "outputs": [
    {
     "data": {
      "text/plain": [
       "<AxesSubplot:xlabel='B_total_fights'>"
      ]
     },
     "execution_count": 123,
     "metadata": {},
     "output_type": "execute_result"
    },
    {
     "data": {
      "image/png": "[encoded data removed]",
      "text/plain": [
       "<Figure size 432x288 with 1 Axes>"
      ]
     },
     "metadata": {
      "needs_background": "light"
     },
     "output_type": "display_data"
    }
   ],
   "source": [
    "ufc[\"B_total_fights\"] = ufc[\"B_wins\"] + ufc[\"B_losses\"]\n",
    "sns.boxplot(x = \"B_total_fights\", data = ufc)"
   ]
  },
  {
   "cell_type": "code",
   "execution_count": 124,
   "metadata": {},
   "outputs": [
    {
     "data": {
      "text/plain": [
       "<AxesSubplot:xlabel='R_total_fights'>"
      ]
     },
     "execution_count": 124,
     "metadata": {},
     "output_type": "execute_result"
    },
    {
     "data": {
      "image/png": "[encoded data removed]",
      "text/plain": [
       "<Figure size 432x288 with 1 Axes>"
      ]
     },
     "metadata": {
      "needs_background": "light"
     },
     "output_type": "display_data"
    }
   ],
   "source": [
    "ufc[\"R_total_fights\"] = ufc[\"R_wins\"] + ufc[\"R_losses\"]\n",
    "sns.boxplot(x = \"R_total_fights\", data = ufc)"
   ]
  },
  {
   "cell_type": "markdown",
   "metadata": {},
   "source": [
    "## Finalizing data to train"
   ]
  },
  {
   "cell_type": "code",
   "execution_count": 125,
   "metadata": {},
   "outputs": [
    {
     "data": {
      "text/plain": [
       "['date', 'Winner', 'title_bout', 'weight_class']"
      ]
     },
     "execution_count": 125,
     "metadata": {},
     "output_type": "execute_result"
    }
   ],
   "source": [
    "# what columns are not fighter specific? are there multiple \"post\" fight columns?\n",
    "fight_cols = [col for col in ufc.columns if \"B_\" not in col and \"R_\" not in col]\n",
    "fight_cols"
   ]
  },
  {
   "cell_type": "code",
   "execution_count": 126,
   "metadata": {},
   "outputs": [
    {
     "data": {
      "text/plain": [
       "(5437, 137)"
      ]
     },
     "execution_count": 126,
     "metadata": {},
     "output_type": "execute_result"
    }
   ],
   "source": [
    "# drop columns that will not be used to predict\n",
    "ufc = ufc.drop(columns = [\"B_fighter\", \"R_fighter\", \"date\"])\n",
    "ufc.shape"
   ]
  },
  {
   "cell_type": "code",
   "execution_count": 127,
   "metadata": {},
   "outputs": [
    {
     "data": {
      "text/plain": [
       "['Winner', 'weight_class', 'B_Stance', 'R_Stance']"
      ]
     },
     "execution_count": 127,
     "metadata": {},
     "output_type": "execute_result"
    }
   ],
   "source": [
    "ufc.select_dtypes(include = \"category\").columns.tolist()"
   ]
  },
  {
   "cell_type": "code",
   "execution_count": 128,
   "metadata": {},
   "outputs": [
    {
     "data": {
      "text/html": [
       "<div>\n",
       "<style scoped>\n",
       "    .dataframe tbody tr th:only-of-type {\n",
       "        vertical-align: middle;\n",
       "    }\n",
       "\n",
       "    .dataframe tbody tr th {\n",
       "        vertical-align: top;\n",
       "    }\n",
       "\n",
       "    .dataframe thead th {\n",
       "        text-align: right;\n",
       "    }\n",
       "</style>\n",
       "<table border=\"1\" class=\"dataframe\">\n",
       "  <thead>\n",
       "    <tr style=\"text-align: right;\">\n",
       "      <th></th>\n",
       "      <th>Winner</th>\n",
       "      <th>title_bout</th>\n",
       "      <th>B_avg_KD</th>\n",
       "      <th>B_avg_opp_KD</th>\n",
       "      <th>B_avg_SIG_STR_pct</th>\n",
       "      <th>B_avg_opp_SIG_STR_pct</th>\n",
       "      <th>B_avg_TD_pct</th>\n",
       "      <th>B_avg_opp_TD_pct</th>\n",
       "      <th>B_avg_SUB_ATT</th>\n",
       "      <th>B_avg_opp_SUB_ATT</th>\n",
       "      <th>...</th>\n",
       "      <th>B_Open Stance</th>\n",
       "      <th>B_Orthodox</th>\n",
       "      <th>B_Sideways</th>\n",
       "      <th>B_Southpaw</th>\n",
       "      <th>B_Switch</th>\n",
       "      <th>R_Open Stance</th>\n",
       "      <th>R_Orthodox</th>\n",
       "      <th>R_Sideways</th>\n",
       "      <th>R_Southpaw</th>\n",
       "      <th>R_Switch</th>\n",
       "    </tr>\n",
       "  </thead>\n",
       "  <tbody>\n",
       "    <tr>\n",
       "      <th>0</th>\n",
       "      <td>Red</td>\n",
       "      <td>False</td>\n",
       "      <td>0.000000</td>\n",
       "      <td>0.000</td>\n",
       "      <td>0.420000</td>\n",
       "      <td>0.495000</td>\n",
       "      <td>0.330000</td>\n",
       "      <td>0.360000</td>\n",
       "      <td>0.500000</td>\n",
       "      <td>1.000000</td>\n",
       "      <td>...</td>\n",
       "      <td>0</td>\n",
       "      <td>1</td>\n",
       "      <td>0</td>\n",
       "      <td>0</td>\n",
       "      <td>0</td>\n",
       "      <td>0</td>\n",
       "      <td>1</td>\n",
       "      <td>0</td>\n",
       "      <td>0</td>\n",
       "      <td>0</td>\n",
       "    </tr>\n",
       "    <tr>\n",
       "      <th>1</th>\n",
       "      <td>Red</td>\n",
       "      <td>False</td>\n",
       "      <td>0.500000</td>\n",
       "      <td>0.000</td>\n",
       "      <td>0.660000</td>\n",
       "      <td>0.305000</td>\n",
       "      <td>0.300000</td>\n",
       "      <td>0.500000</td>\n",
       "      <td>1.500000</td>\n",
       "      <td>0.000000</td>\n",
       "      <td>...</td>\n",
       "      <td>0</td>\n",
       "      <td>1</td>\n",
       "      <td>0</td>\n",
       "      <td>0</td>\n",
       "      <td>0</td>\n",
       "      <td>0</td>\n",
       "      <td>1</td>\n",
       "      <td>0</td>\n",
       "      <td>0</td>\n",
       "      <td>0</td>\n",
       "    </tr>\n",
       "    <tr>\n",
       "      <th>2</th>\n",
       "      <td>Red</td>\n",
       "      <td>False</td>\n",
       "      <td>0.015625</td>\n",
       "      <td>0.000</td>\n",
       "      <td>0.450000</td>\n",
       "      <td>0.427500</td>\n",
       "      <td>0.250000</td>\n",
       "      <td>0.200000</td>\n",
       "      <td>0.149902</td>\n",
       "      <td>0.118317</td>\n",
       "      <td>...</td>\n",
       "      <td>0</td>\n",
       "      <td>1</td>\n",
       "      <td>0</td>\n",
       "      <td>0</td>\n",
       "      <td>0</td>\n",
       "      <td>0</td>\n",
       "      <td>0</td>\n",
       "      <td>0</td>\n",
       "      <td>1</td>\n",
       "      <td>0</td>\n",
       "    </tr>\n",
       "    <tr>\n",
       "      <th>5</th>\n",
       "      <td>Blue</td>\n",
       "      <td>False</td>\n",
       "      <td>0.000000</td>\n",
       "      <td>0.000</td>\n",
       "      <td>0.515000</td>\n",
       "      <td>0.473750</td>\n",
       "      <td>0.435000</td>\n",
       "      <td>0.250000</td>\n",
       "      <td>1.250000</td>\n",
       "      <td>0.625000</td>\n",
       "      <td>...</td>\n",
       "      <td>0</td>\n",
       "      <td>0</td>\n",
       "      <td>0</td>\n",
       "      <td>0</td>\n",
       "      <td>1</td>\n",
       "      <td>0</td>\n",
       "      <td>1</td>\n",
       "      <td>0</td>\n",
       "      <td>0</td>\n",
       "      <td>0</td>\n",
       "    </tr>\n",
       "    <tr>\n",
       "      <th>6</th>\n",
       "      <td>Blue</td>\n",
       "      <td>False</td>\n",
       "      <td>0.046875</td>\n",
       "      <td>0.125</td>\n",
       "      <td>0.459277</td>\n",
       "      <td>0.404687</td>\n",
       "      <td>0.322188</td>\n",
       "      <td>0.068867</td>\n",
       "      <td>0.189453</td>\n",
       "      <td>0.000000</td>\n",
       "      <td>...</td>\n",
       "      <td>0</td>\n",
       "      <td>1</td>\n",
       "      <td>0</td>\n",
       "      <td>0</td>\n",
       "      <td>0</td>\n",
       "      <td>0</td>\n",
       "      <td>1</td>\n",
       "      <td>0</td>\n",
       "      <td>0</td>\n",
       "      <td>0</td>\n",
       "    </tr>\n",
       "  </tbody>\n",
       "</table>\n",
       "<p>5 rows × 158 columns</p>\n",
       "</div>"
      ],
      "text/plain": [
       "  Winner  title_bout  B_avg_KD  B_avg_opp_KD  B_avg_SIG_STR_pct  \\\n",
       "0    Red       False  0.000000         0.000           0.420000   \n",
       "1    Red       False  0.500000         0.000           0.660000   \n",
       "2    Red       False  0.015625         0.000           0.450000   \n",
       "5   Blue       False  0.000000         0.000           0.515000   \n",
       "6   Blue       False  0.046875         0.125           0.459277   \n",
       "\n",
       "   B_avg_opp_SIG_STR_pct  B_avg_TD_pct  B_avg_opp_TD_pct  B_avg_SUB_ATT  \\\n",
       "0               0.495000      0.330000          0.360000       0.500000   \n",
       "1               0.305000      0.300000          0.500000       1.500000   \n",
       "2               0.427500      0.250000          0.200000       0.149902   \n",
       "5               0.473750      0.435000          0.250000       1.250000   \n",
       "6               0.404687      0.322188          0.068867       0.189453   \n",
       "\n",
       "   B_avg_opp_SUB_ATT  ...  B_Open Stance  B_Orthodox  B_Sideways  B_Southpaw  \\\n",
       "0           1.000000  ...              0           1           0           0   \n",
       "1           0.000000  ...              0           1           0           0   \n",
       "2           0.118317  ...              0           1           0           0   \n",
       "5           0.625000  ...              0           0           0           0   \n",
       "6           0.000000  ...              0           1           0           0   \n",
       "\n",
       "   B_Switch  R_Open Stance  R_Orthodox  R_Sideways  R_Southpaw  R_Switch  \n",
       "0         0              0           1           0           0         0  \n",
       "1         0              0           1           0           0         0  \n",
       "2         0              0           0           0           1         0  \n",
       "5         1              0           1           0           0         0  \n",
       "6         0              0           1           0           0         0  \n",
       "\n",
       "[5 rows x 158 columns]"
      ]
     },
     "execution_count": 128,
     "metadata": {},
     "output_type": "execute_result"
    }
   ],
   "source": [
    "# prefixes for dummy variables\n",
    "ufc[\"B_Stance\"] = \"B_\" + ufc[\"B_Stance\"].astype(str)\n",
    "ufc[\"R_Stance\"] = \"R_\" + ufc[\"R_Stance\"].astype(str)\n",
    "\n",
    "# make sure still category features\n",
    "ufc[\"B_Stance\"] = ufc[\"B_Stance\"].astype(\"category\")\n",
    "ufc[\"R_Stance\"] = ufc[\"R_Stance\"].astype(\"category\")\n",
    "\n",
    "# create dummy variables and create one data frame\n",
    "df_weight_class = pd.get_dummies(ufc[\"weight_class\"])\n",
    "df_B_Stance = pd.get_dummies(ufc[\"B_Stance\"])\n",
    "df_R_Stance = pd.get_dummies(ufc[\"R_Stance\"])\n",
    "\n",
    "ufc_dummy = pd.concat([ufc, \n",
    "           df_weight_class,\n",
    "           df_B_Stance,\n",
    "           df_R_Stance], \n",
    "          axis = 1).drop(columns = [\"weight_class\",\n",
    "                                    \"B_Stance\",\n",
    "                                    \"R_Stance\"])\n",
    "ufc_dummy.head()"
   ]
  },
  {
   "cell_type": "code",
   "execution_count": 129,
   "metadata": {},
   "outputs": [
    {
     "data": {
      "text/plain": [
       "(5437, 158)"
      ]
     },
     "execution_count": 129,
     "metadata": {},
     "output_type": "execute_result"
    }
   ],
   "source": [
    "ufc_dummy.shape"
   ]
  },
  {
   "cell_type": "markdown",
   "metadata": {},
   "source": [
    "# Modeling"
   ]
  },
  {
   "cell_type": "markdown",
   "metadata": {},
   "source": [
    "## Train & test split"
   ]
  },
  {
   "cell_type": "code",
   "execution_count": 130,
   "metadata": {},
   "outputs": [],
   "source": [
    "from sklearn.model_selection import train_test_split\n",
    "\n",
    "X = ufc_dummy.drop(\"Winner\", axis = \"columns\")\n",
    "y = ufc_dummy[\"Winner\"]\n",
    "\n",
    "X_train, X_test, y_train, y_test = train_test_split(X, y, test_size = 0.3, random_state = 777, stratify = y)"
   ]
  },
  {
   "cell_type": "code",
   "execution_count": 131,
   "metadata": {},
   "outputs": [
    {
     "data": {
      "text/plain": [
       "Red     0.68076\n",
       "Blue    0.31924\n",
       "Name: Winner, dtype: float64"
      ]
     },
     "execution_count": 131,
     "metadata": {},
     "output_type": "execute_result"
    }
   ],
   "source": [
    "y_test.value_counts(normalize = True)"
   ]
  },
  {
   "cell_type": "code",
   "execution_count": 136,
   "metadata": {},
   "outputs": [],
   "source": [
    "from sklearn.metrics import log_loss\n",
    "\n",
    "# copied this function from online that simulates a baseline logloss value to beat\n",
    "\n",
    "def calculate_log_loss(class_ratio,multi=10000):\n",
    "    \n",
    "    if sum(class_ratio)!=1.0:\n",
    "        print(\"warning: Sum of ratios should be 1 for best results\")\n",
    "        class_ratio[-1]+=1-sum(class_ratio)  # add the residual to last class's ratio\n",
    "    \n",
    "    actuals=[]\n",
    "    for i,val in enumerate(class_ratio):\n",
    "        actuals=actuals+[i for x in range(int(val*multi))]\n",
    "        \n",
    "\n",
    "    preds=[]\n",
    "    for i in range(multi):\n",
    "        preds+=[class_ratio]\n",
    "\n",
    "    return (log_loss(actuals, preds))"
   ]
  },
  {
   "cell_type": "code",
   "execution_count": 137,
   "metadata": {},
   "outputs": [
    {
     "data": {
      "text/plain": [
       "0.6261133867059537"
      ]
     },
     "execution_count": 137,
     "metadata": {},
     "output_type": "execute_result"
    }
   ],
   "source": [
    "logloss = calculate_log_loss([.319, 0.681], multi = 1000)\n",
    "logloss"
   ]
  },
  {
   "cell_type": "markdown",
   "metadata": {},
   "source": [
    "## Random forest"
   ]
  },
  {
   "cell_type": "markdown",
   "metadata": {},
   "source": [
    "### Initital model"
   ]
  },
  {
   "cell_type": "code",
   "execution_count": 138,
   "metadata": {},
   "outputs": [],
   "source": [
    "from sklearn.ensemble import RandomForestClassifier\n",
    "\n",
    "model = RandomForestClassifier(random_state = 777).fit(X_train, y_train)"
   ]
  },
  {
   "cell_type": "code",
   "execution_count": 139,
   "metadata": {},
   "outputs": [
    {
     "data": {
      "text/plain": [
       "0.1679091052892057"
      ]
     },
     "execution_count": 139,
     "metadata": {},
     "output_type": "execute_result"
    }
   ],
   "source": [
    "y_pred = model.predict_proba(X_train)\n",
    "log_loss(y_train, y_pred)"
   ]
  },
  {
   "cell_type": "code",
   "execution_count": 140,
   "metadata": {},
   "outputs": [
    {
     "data": {
      "text/plain": [
       "0.5837526999363946"
      ]
     },
     "execution_count": 140,
     "metadata": {},
     "output_type": "execute_result"
    }
   ],
   "source": [
    "y_pred = model.predict_proba(X_test)\n",
    "log_loss(y_test, y_pred)\n",
    "\n",
    "# slightly better than baseline, but incredibly overfit"
   ]
  },
  {
   "cell_type": "code",
   "execution_count": 141,
   "metadata": {},
   "outputs": [
    {
     "data": {
      "text/plain": [
       "array(['Red', 'Red', 'Red', ..., 'Red', 'Red', 'Red'], dtype=object)"
      ]
     },
     "execution_count": 141,
     "metadata": {},
     "output_type": "execute_result"
    }
   ],
   "source": [
    "y_pred_class = model.predict(X_test)\n",
    "y_pred_class"
   ]
  },
  {
   "cell_type": "code",
   "execution_count": 144,
   "metadata": {},
   "outputs": [
    {
     "data": {
      "image/png": "[encoded data removed]",
      "text/plain": [
       "<Figure size 360x288 with 2 Axes>"
      ]
     },
     "metadata": {
      "needs_background": "light"
     },
     "output_type": "display_data"
    }
   ],
   "source": [
    "from sklearn.metrics import confusion_matrix\n",
    "\n",
    "cm = confusion_matrix(y_test, y_pred_class)\n",
    "\n",
    "cm_df = pd.DataFrame(cm,\n",
    "                     index = ['Blue','Red'], \n",
    "                     columns = ['Blue','Red'])\n",
    "\n",
    "plt.figure(figsize=(5,4))\n",
    "sns.heatmap(cm_df, annot=True, fmt = '.4g')\n",
    "plt.title('Confusion Matrix')\n",
    "plt.ylabel('Actal Values')\n",
    "plt.xlabel('Predicted Values')\n",
    "plt.show()\n",
    "\n",
    "# predicting way too many Red"
   ]
  },
  {
   "cell_type": "markdown",
   "metadata": {},
   "source": [
    "### Tuning"
   ]
  },
  {
   "cell_type": "code",
   "execution_count": 145,
   "metadata": {},
   "outputs": [
    {
     "name": "stdout",
     "output_type": "stream",
     "text": [
      "{'bootstrap': [True, False],\n",
      " 'max_depth': [10, 20, 30, 40, 50, 60, 70, 80, 90, 100, 110, None],\n",
      " 'max_features': ['auto', 'sqrt'],\n",
      " 'min_samples_leaf': [1, 2, 4],\n",
      " 'min_samples_split': [2, 5, 10],\n",
      " 'n_estimators': [200, 400, 600, 800, 1000, 1200, 1400, 1600, 1800, 2000]}\n"
     ]
    }
   ],
   "source": [
    "from pprint import pprint\n",
    "from sklearn.model_selection import RandomizedSearchCV\n",
    "\n",
    "# Number of trees in random forest\n",
    "n_estimators = [int(x) for x in np.linspace(start = 200, stop = 2000, num = 10)]\n",
    "# Number of features to consider at every split\n",
    "max_features = ['auto', 'sqrt']\n",
    "# Maximum number of levels in tree\n",
    "max_depth = [int(x) for x in np.linspace(10, 110, num = 11)]\n",
    "max_depth.append(None)\n",
    "# Minimum number of samples required to split a node\n",
    "min_samples_split = [2, 5, 10]\n",
    "# Minimum number of samples required at each leaf node\n",
    "min_samples_leaf = [1, 2, 4]\n",
    "# Method of selecting samples for training each tree\n",
    "bootstrap = [True, False]\n",
    "\n",
    "# Create the random grid\n",
    "random_grid = {'n_estimators': n_estimators,\n",
    "               'max_features': max_features,\n",
    "               'max_depth': max_depth,\n",
    "               'min_samples_split': min_samples_split,\n",
    "               'min_samples_leaf': min_samples_leaf,\n",
    "               'bootstrap': bootstrap}\n",
    "\n",
    "pprint(random_grid)"
   ]
  },
  {
   "cell_type": "code",
   "execution_count": 146,
   "metadata": {
    "scrolled": true
   },
   "outputs": [
    {
     "name": "stdout",
     "output_type": "stream",
     "text": [
      "Fitting 5 folds for each of 100 candidates, totalling 500 fits\n"
     ]
    },
    {
     "name": "stderr",
     "output_type": "stream",
     "text": [
      "[Parallel(n_jobs=3)]: Using backend LokyBackend with 3 concurrent workers.\n",
      "[Parallel(n_jobs=3)]: Done  35 tasks      | elapsed:  4.2min\n",
      "[Parallel(n_jobs=3)]: Done 156 tasks      | elapsed: 20.6min\n",
      "[Parallel(n_jobs=3)]: Done 359 tasks      | elapsed: 48.3min\n",
      "[Parallel(n_jobs=3)]: Done 500 out of 500 | elapsed: 59.0min finished\n"
     ]
    },
    {
     "data": {
      "text/plain": [
       "RandomizedSearchCV(cv=5, estimator=RandomForestClassifier(), n_iter=100,\n",
       "                   n_jobs=3,\n",
       "                   param_distributions={'bootstrap': [True, False],\n",
       "                                        'max_depth': [10, 20, 30, 40, 50, 60,\n",
       "                                                      70, 80, 90, 100, 110,\n",
       "                                                      None],\n",
       "                                        'max_features': ['auto', 'sqrt'],\n",
       "                                        'min_samples_leaf': [1, 2, 4],\n",
       "                                        'min_samples_split': [2, 5, 10],\n",
       "                                        'n_estimators': [200, 400, 600, 800,\n",
       "                                                         1000, 1200, 1400, 1600,\n",
       "                                                         1800, 2000]},\n",
       "                   random_state=777, verbose=2)"
      ]
     },
     "execution_count": 146,
     "metadata": {},
     "output_type": "execute_result"
    }
   ],
   "source": [
    "# Use the random grid to search for best hyperparameters\n",
    "rf = RandomForestClassifier()\n",
    "\n",
    "# Random search of parameters, using 5 fold cross validation, \n",
    "# search across 100 different combinations\n",
    "rf_random = RandomizedSearchCV(estimator = rf, param_distributions = random_grid, n_iter = 100, cv = 5, \n",
    "                               verbose = 2, random_state = 777, n_jobs = 3)\n",
    "\n",
    "# Fit the random search model\n",
    "rf_random.fit(X_train, y_train)"
   ]
  },
  {
   "cell_type": "code",
   "execution_count": 147,
   "metadata": {},
   "outputs": [
    {
     "data": {
      "text/plain": [
       "{'n_estimators': 600,\n",
       " 'min_samples_split': 2,\n",
       " 'min_samples_leaf': 1,\n",
       " 'max_features': 'sqrt',\n",
       " 'max_depth': 90,\n",
       " 'bootstrap': True}"
      ]
     },
     "execution_count": 147,
     "metadata": {},
     "output_type": "execute_result"
    }
   ],
   "source": [
    "rf_random.best_params_"
   ]
  },
  {
   "cell_type": "code",
   "execution_count": 148,
   "metadata": {},
   "outputs": [
    {
     "data": {
      "text/plain": [
       "array([[0.80333333, 0.19666667],\n",
       "       [0.06666667, 0.93333333],\n",
       "       [0.75166667, 0.24833333],\n",
       "       ...,\n",
       "       [0.82833333, 0.17166667],\n",
       "       [0.125     , 0.875     ],\n",
       "       [0.15833333, 0.84166667]])"
      ]
     },
     "execution_count": 148,
     "metadata": {},
     "output_type": "execute_result"
    }
   ],
   "source": [
    "best_random = rf_random.best_estimator_\n",
    "y_pred = best_random.predict_proba(X_train)\n",
    "y_pred"
   ]
  },
  {
   "cell_type": "code",
   "execution_count": 149,
   "metadata": {},
   "outputs": [
    {
     "data": {
      "text/plain": [
       "0.16769341741015242"
      ]
     },
     "execution_count": 149,
     "metadata": {},
     "output_type": "execute_result"
    }
   ],
   "source": [
    "log_loss(y_train, y_pred)"
   ]
  },
  {
   "cell_type": "code",
   "execution_count": 150,
   "metadata": {},
   "outputs": [
    {
     "data": {
      "text/plain": [
       "array([[0.425     , 0.575     ],\n",
       "       [0.26833333, 0.73166667],\n",
       "       [0.24      , 0.76      ],\n",
       "       ...,\n",
       "       [0.22166667, 0.77833333],\n",
       "       [0.41833333, 0.58166667],\n",
       "       [0.15333333, 0.84666667]])"
      ]
     },
     "execution_count": 150,
     "metadata": {},
     "output_type": "execute_result"
    }
   ],
   "source": [
    "y_pred = best_random.predict_proba(X_test)\n",
    "y_pred"
   ]
  },
  {
   "cell_type": "code",
   "execution_count": 151,
   "metadata": {},
   "outputs": [
    {
     "data": {
      "text/plain": [
       "0.5803842503961646"
      ]
     },
     "execution_count": 151,
     "metadata": {},
     "output_type": "execute_result"
    }
   ],
   "source": [
    "log_loss(y_test, y_pred)\n",
    "\n",
    "# slightly improved, still overfit"
   ]
  },
  {
   "cell_type": "code",
   "execution_count": 154,
   "metadata": {},
   "outputs": [
    {
     "data": {
      "image/png": "[encoded data removed]",
      "text/plain": [
       "<Figure size 360x288 with 2 Axes>"
      ]
     },
     "metadata": {
      "needs_background": "light"
     },
     "output_type": "display_data"
    }
   ],
   "source": [
    "y_pred_class = best_random.predict(X_test)\n",
    "\n",
    "cm = confusion_matrix(y_test, y_pred_class)\n",
    "\n",
    "cm_df = pd.DataFrame(cm,\n",
    "                     index = ['Blue','Red'], \n",
    "                     columns = ['Blue','Red'])\n",
    "\n",
    "plt.figure(figsize=(5,4))\n",
    "sns.heatmap(cm_df, annot=True, fmt = '.4g')\n",
    "plt.title('Confusion Matrix')\n",
    "plt.ylabel('Actal Values')\n",
    "plt.xlabel('Predicted Values')\n",
    "plt.show()\n",
    "\n",
    "# Even more Red"
   ]
  },
  {
   "cell_type": "markdown",
   "metadata": {},
   "source": [
    "## XGBoost"
   ]
  },
  {
   "cell_type": "markdown",
   "metadata": {},
   "source": [
    "### Initial model"
   ]
  },
  {
   "cell_type": "code",
   "execution_count": 155,
   "metadata": {},
   "outputs": [],
   "source": [
    "import xgboost as xgb\n",
    "from sklearn import preprocessing\n",
    "\n",
    "le = preprocessing.LabelEncoder()\n",
    "le.fit(y_train)\n",
    "y_train_le = le.transform(y_train)\n",
    "\n",
    "model = xgb.XGBClassifier(use_label_encoder = False, random_state = 777, eval_metric = \"logloss\").fit(X_train, y_train_le)"
   ]
  },
  {
   "cell_type": "code",
   "execution_count": 156,
   "metadata": {},
   "outputs": [
    {
     "data": {
      "text/plain": [
       "0.07776939009815582"
      ]
     },
     "execution_count": 156,
     "metadata": {},
     "output_type": "execute_result"
    }
   ],
   "source": [
    "y_pred = model.predict_proba(X_train)\n",
    "log_loss(y_train_le, y_pred)"
   ]
  },
  {
   "cell_type": "code",
   "execution_count": 157,
   "metadata": {},
   "outputs": [
    {
     "data": {
      "text/plain": [
       "0.671039968704124"
      ]
     },
     "execution_count": 157,
     "metadata": {},
     "output_type": "execute_result"
    }
   ],
   "source": [
    "le = preprocessing.LabelEncoder()\n",
    "le.fit(y_test)\n",
    "y_test_le = le.transform(y_test)\n",
    "\n",
    "y_pred = model.predict_proba(X_test)\n",
    "log_loss(y_test_le, y_pred)\n",
    "\n",
    "# Even worse performance and overfitting than the initial random forest model"
   ]
  },
  {
   "cell_type": "code",
   "execution_count": 160,
   "metadata": {},
   "outputs": [
    {
     "data": {
      "image/png": "[encoded data removed]",
      "text/plain": [
       "<Figure size 360x288 with 2 Axes>"
      ]
     },
     "metadata": {
      "needs_background": "light"
     },
     "output_type": "display_data"
    }
   ],
   "source": [
    "y_pred_class = model.predict(X_test)\n",
    "\n",
    "cm = confusion_matrix(y_test_le, y_pred_class)\n",
    "\n",
    "cm_df = pd.DataFrame(cm,\n",
    "                     index = ['Blue','Red'], \n",
    "                     columns = ['Blue','Red'])\n",
    "\n",
    "plt.figure(figsize=(5,4))\n",
    "sns.heatmap(cm_df, annot=True, fmt = '.4g')\n",
    "plt.title('Confusion Matrix')\n",
    "plt.ylabel('Actal Values')\n",
    "plt.xlabel('Predicted Values')\n",
    "plt.show()"
   ]
  },
  {
   "cell_type": "markdown",
   "metadata": {},
   "source": [
    "### Tuning"
   ]
  },
  {
   "cell_type": "code",
   "execution_count": 161,
   "metadata": {},
   "outputs": [
    {
     "name": "stdout",
     "output_type": "stream",
     "text": [
      "{'gamma': [0.0, 0.1, 0.2, 0.3, 0.4],\n",
      " 'learning_rate': [1e-05, 0.01, 0.1],\n",
      " 'max_depth': range(3, 10, 2),\n",
      " 'min_child_weight': range(1, 6, 2),\n",
      " 'n_estimators': [1000, 1250, 1500, 1750, 2000],\n",
      " 'reg_alpha': [1e-05, 0.01, 0.1, 1, 100],\n",
      " 'subsample': [0.6, 0.7, 0.8, 0.9]}\n"
     ]
    }
   ],
   "source": [
    "max_depth = range(3, 10, 2)\n",
    "min_child_weight = range(1, 6, 2)\n",
    "gamma = [i/10.0 for i in range(0,5)]\n",
    "subsample = [i/10.0 for i in range(6,10)]\n",
    "reg_alpha = [1e-5, 1e-2, 0.1, 1, 100]\n",
    "learning_rate = [1e-5, 1e-2, 0.1]\n",
    "n_estimators = [int(x) for x in np.linspace(start = 1000, stop = 2000, num = 5)]\n",
    "\n",
    "# Create the random grid\n",
    "random_grid = {'max_depth': max_depth,\n",
    "               'min_child_weight': min_child_weight,\n",
    "               'gamma': gamma,\n",
    "               'subsample': subsample,\n",
    "               'reg_alpha': reg_alpha,\n",
    "               'learning_rate': learning_rate,\n",
    "               'n_estimators': n_estimators\n",
    "              }\n",
    "\n",
    "pprint(random_grid)"
   ]
  },
  {
   "cell_type": "code",
   "execution_count": 162,
   "metadata": {},
   "outputs": [
    {
     "name": "stdout",
     "output_type": "stream",
     "text": [
      "Fitting 3 folds for each of 100 candidates, totalling 300 fits\n"
     ]
    },
    {
     "name": "stderr",
     "output_type": "stream",
     "text": [
      "[Parallel(n_jobs=3)]: Using backend LokyBackend with 3 concurrent workers.\n",
      "[Parallel(n_jobs=3)]: Done  35 tasks      | elapsed: 24.8min\n",
      "[Parallel(n_jobs=3)]: Done 156 tasks      | elapsed: 73.7min\n",
      "[Parallel(n_jobs=3)]: Done 300 out of 300 | elapsed: 127.1min finished\n"
     ]
    },
    {
     "data": {
      "text/plain": [
       "RandomizedSearchCV(cv=3,\n",
       "                   estimator=XGBClassifier(base_score=None, booster=None,\n",
       "                                           colsample_bylevel=None,\n",
       "                                           colsample_bynode=None,\n",
       "                                           colsample_bytree=None,\n",
       "                                           eval_metric='logloss', gamma=None,\n",
       "                                           gpu_id=None, importance_type='gain',\n",
       "                                           interaction_constraints=None,\n",
       "                                           learning_rate=None,\n",
       "                                           max_delta_step=None, max_depth=None,\n",
       "                                           min_child_weight=None, missing=nan,\n",
       "                                           monotone_constraints=...\n",
       "                                           use_label_encoder=False,\n",
       "                                           validate_parameters=None,\n",
       "                                           verbosity=None),\n",
       "                   n_iter=100, n_jobs=3,\n",
       "                   param_distributions={'gamma': [0.0, 0.1, 0.2, 0.3, 0.4],\n",
       "                                        'learning_rate': [1e-05, 0.01, 0.1],\n",
       "                                        'max_depth': range(3, 10, 2),\n",
       "                                        'min_child_weight': range(1, 6, 2),\n",
       "                                        'n_estimators': [1000, 1250, 1500, 1750,\n",
       "                                                         2000],\n",
       "                                        'reg_alpha': [1e-05, 0.01, 0.1, 1, 100],\n",
       "                                        'subsample': [0.6, 0.7, 0.8, 0.9]},\n",
       "                   random_state=777, verbose=2)"
      ]
     },
     "execution_count": 162,
     "metadata": {},
     "output_type": "execute_result"
    }
   ],
   "source": [
    "# Use the random grid to search for best hyperparameters\n",
    "xgboost = xgb.XGBClassifier(use_label_encoder = False, random_state = 777, eval_metric = \"logloss\")\n",
    "\n",
    "# Random search of parameters, using 3 fold cross validation, \n",
    "# search across 100 different combinations\n",
    "xgb_random = RandomizedSearchCV(estimator = xgboost, param_distributions = random_grid, n_iter = 100, cv = 3, \n",
    "                                verbose = 2, random_state = 777, n_jobs = 3)\n",
    "\n",
    "# Fit the random search model\n",
    "xgb_random.fit(X_train, y_train_le)"
   ]
  },
  {
   "cell_type": "code",
   "execution_count": 163,
   "metadata": {},
   "outputs": [
    {
     "data": {
      "text/plain": [
       "{'subsample': 0.8,\n",
       " 'reg_alpha': 1,\n",
       " 'n_estimators': 1000,\n",
       " 'min_child_weight': 5,\n",
       " 'max_depth': 3,\n",
       " 'learning_rate': 0.01,\n",
       " 'gamma': 0.3}"
      ]
     },
     "execution_count": 163,
     "metadata": {},
     "output_type": "execute_result"
    }
   ],
   "source": [
    "xgb_random.best_params_"
   ]
  },
  {
   "cell_type": "code",
   "execution_count": 164,
   "metadata": {},
   "outputs": [
    {
     "data": {
      "text/plain": [
       "array([[0.49471462, 0.5052854 ],\n",
       "       [0.11197174, 0.88802826],\n",
       "       [0.35411137, 0.6458886 ],\n",
       "       ...,\n",
       "       [0.6187202 , 0.3812798 ],\n",
       "       [0.21190584, 0.78809416],\n",
       "       [0.39989376, 0.60010624]], dtype=float32)"
      ]
     },
     "execution_count": 164,
     "metadata": {},
     "output_type": "execute_result"
    }
   ],
   "source": [
    "best_random = xgb_random.best_estimator_\n",
    "y_pred = best_random.predict_proba(X_train)\n",
    "y_pred"
   ]
  },
  {
   "cell_type": "code",
   "execution_count": 165,
   "metadata": {},
   "outputs": [
    {
     "data": {
      "text/plain": [
       "0.4680958364555385"
      ]
     },
     "execution_count": 165,
     "metadata": {},
     "output_type": "execute_result"
    }
   ],
   "source": [
    "log_loss(y_train_le, y_pred)"
   ]
  },
  {
   "cell_type": "code",
   "execution_count": 166,
   "metadata": {},
   "outputs": [
    {
     "data": {
      "text/plain": [
       "array([[0.44886053, 0.5511395 ],\n",
       "       [0.2539754 , 0.7460246 ],\n",
       "       [0.13814771, 0.8618523 ],\n",
       "       ...,\n",
       "       [0.19882035, 0.80117965],\n",
       "       [0.4417315 , 0.5582685 ],\n",
       "       [0.12442857, 0.8755714 ]], dtype=float32)"
      ]
     },
     "execution_count": 166,
     "metadata": {},
     "output_type": "execute_result"
    }
   ],
   "source": [
    "y_pred = best_random.predict_proba(X_test)\n",
    "y_pred"
   ]
  },
  {
   "cell_type": "code",
   "execution_count": 167,
   "metadata": {},
   "outputs": [
    {
     "data": {
      "text/plain": [
       "0.5688530311933445"
      ]
     },
     "execution_count": 167,
     "metadata": {},
     "output_type": "execute_result"
    }
   ],
   "source": [
    "log_loss(y_test_le, y_pred)\n",
    "\n",
    "# Best performing model, still see overfitting but much improved from initial xgboost and tuned random forest"
   ]
  },
  {
   "cell_type": "code",
   "execution_count": 169,
   "metadata": {},
   "outputs": [
    {
     "data": {
      "image/png": "[encoded data removed]",
      "text/plain": [
       "<Figure size 360x288 with 2 Axes>"
      ]
     },
     "metadata": {
      "needs_background": "light"
     },
     "output_type": "display_data"
    }
   ],
   "source": [
    "y_pred_class = best_random.predict(X_test)\n",
    "\n",
    "cm = confusion_matrix(y_test_le, y_pred_class)\n",
    "\n",
    "cm_df = pd.DataFrame(cm,\n",
    "                     index = ['Blue','Red'], \n",
    "                     columns = ['Blue','Red'])\n",
    "\n",
    "plt.figure(figsize=(5,4))\n",
    "sns.heatmap(cm_df, annot=True, fmt = '.4g')\n",
    "plt.title('Confusion Matrix')\n",
    "plt.ylabel('Actal Values')\n",
    "plt.xlabel('Predicted Values')\n",
    "plt.show()\n",
    "\n",
    "# still choosing Red too often"
   ]
  },
  {
   "cell_type": "markdown",
   "metadata": {},
   "source": [
    "## Feature Importance"
   ]
  },
  {
   "cell_type": "code",
   "execution_count": 170,
   "metadata": {},
   "outputs": [
    {
     "data": {
      "text/plain": [
       "<AxesSubplot:title={'center':'Feature importance'}, xlabel='F score', ylabel='Features'>"
      ]
     },
     "execution_count": 170,
     "metadata": {},
     "output_type": "execute_result"
    },
    {
     "data": {
      "image/png": "[encoded data removed]",
      "text/plain": [
       "<Figure size 432x288 with 1 Axes>"
      ]
     },
     "metadata": {
      "needs_background": "light"
     },
     "output_type": "display_data"
    }
   ],
   "source": [
    "from xgboost import plot_importance\n",
    "plot_importance(best_random, max_num_features = 20, height = 0.5)"
   ]
  },
  {
   "cell_type": "code",
   "execution_count": null,
   "metadata": {},
   "outputs": [],
   "source": []
  }
 ],
 "metadata": {
  "kernelspec": {
   "display_name": "Python 3",
   "language": "python",
   "name": "python3"
  },
  "language_info": {
   "codemirror_mode": {
    "name": "ipython",
    "version": 3
   },
   "file_extension": ".py",
   "mimetype": "text/x-python",
   "name": "python",
   "nbconvert_exporter": "python",
   "pygments_lexer": "ipython3",
   "version": "3.8.5"
  }
 },
 "nbformat": 4,
 "nbformat_minor": 4
}
