{
 "cells": [
  {
   "cell_type": "markdown",
   "metadata": {},
   "source": [
    "# MLB Statcast Data Engineering"
   ]
  },
  {
   "cell_type": "code",
   "execution_count": 1,
   "metadata": {},
   "outputs": [],
   "source": [
    "import numpy as np\n",
    "import pandas as pd\n",
    "from scipy import stats\n",
    "import seaborn as sns\n",
    "import pybaseball as pb\n",
    "pb.cache.enable()"
   ]
  },
  {
   "cell_type": "markdown",
   "metadata": {},
   "source": [
    "## Pull Statcast Data\n",
    "Trackman was implemented at the start of the 2017 season."
   ]
  },
  {
   "cell_type": "code",
   "execution_count": 2,
   "metadata": {},
   "outputs": [
    {
     "name": "stdout",
     "output_type": "stream",
     "text": [
      "This is a large query, it may take a moment to complete\n"
     ]
    },
    {
     "name": "stderr",
     "output_type": "stream",
     "text": [
      "\r",
      "  0%|          | 0/1242 [00:00<?, ?it/s]"
     ]
    },
    {
     "name": "stdout",
     "output_type": "stream",
     "text": [
      "Skipping offseason dates\n",
      "Skipping offseason dates\n",
      "Skipping offseason dates\n",
      "Skipping offseason dates\n",
      "Skipping offseason dates\n",
      "Skipping offseason dates\n",
      "Skipping offseason dates\n"
     ]
    },
    {
     "name": "stderr",
     "output_type": "stream",
     "text": [
      "100%|██████████| 1242/1242 [11:17<00:00,  1.83it/s]\n"
     ]
    }
   ],
   "source": [
    "pitch_data = pb.statcast(start_dt = \"2017-01-01\", end_dt = \"2022-12-31\")"
   ]
  },
  {
   "cell_type": "code",
   "execution_count": 3,
   "metadata": {},
   "outputs": [
    {
     "data": {
      "text/html": [
       "<div>\n",
       "<style scoped>\n",
       "    .dataframe tbody tr th:only-of-type {\n",
       "        vertical-align: middle;\n",
       "    }\n",
       "\n",
       "    .dataframe tbody tr th {\n",
       "        vertical-align: top;\n",
       "    }\n",
       "\n",
       "    .dataframe thead th {\n",
       "        text-align: right;\n",
       "    }\n",
       "</style>\n",
       "<table border=\"1\" class=\"dataframe\">\n",
       "  <thead>\n",
       "    <tr style=\"text-align: right;\">\n",
       "      <th></th>\n",
       "      <th>pitch_type</th>\n",
       "      <th>game_date</th>\n",
       "      <th>release_speed</th>\n",
       "      <th>release_pos_x</th>\n",
       "      <th>release_pos_z</th>\n",
       "      <th>player_name</th>\n",
       "      <th>batter</th>\n",
       "      <th>pitcher</th>\n",
       "      <th>events</th>\n",
       "      <th>description</th>\n",
       "      <th>...</th>\n",
       "      <th>fld_score</th>\n",
       "      <th>post_away_score</th>\n",
       "      <th>post_home_score</th>\n",
       "      <th>post_bat_score</th>\n",
       "      <th>post_fld_score</th>\n",
       "      <th>if_fielding_alignment</th>\n",
       "      <th>of_fielding_alignment</th>\n",
       "      <th>spin_axis</th>\n",
       "      <th>delta_home_win_exp</th>\n",
       "      <th>delta_run_exp</th>\n",
       "    </tr>\n",
       "  </thead>\n",
       "  <tbody>\n",
       "    <tr>\n",
       "      <th>2140</th>\n",
       "      <td>FS</td>\n",
       "      <td>2022-08-23</td>\n",
       "      <td>90.8</td>\n",
       "      <td>-0.70</td>\n",
       "      <td>7.09</td>\n",
       "      <td>Bautista, Félix</td>\n",
       "      <td>462101</td>\n",
       "      <td>642585</td>\n",
       "      <td>field_out</td>\n",
       "      <td>hit_into_play</td>\n",
       "      <td>...</td>\n",
       "      <td>5</td>\n",
       "      <td>3</td>\n",
       "      <td>5</td>\n",
       "      <td>3</td>\n",
       "      <td>5</td>\n",
       "      <td>Standard</td>\n",
       "      <td>Standard</td>\n",
       "      <td>245</td>\n",
       "      <td>0.011</td>\n",
       "      <td>-0.086</td>\n",
       "    </tr>\n",
       "    <tr>\n",
       "      <th>2159</th>\n",
       "      <td>FF</td>\n",
       "      <td>2022-08-23</td>\n",
       "      <td>100.2</td>\n",
       "      <td>-0.56</td>\n",
       "      <td>7.10</td>\n",
       "      <td>Bautista, Félix</td>\n",
       "      <td>462101</td>\n",
       "      <td>642585</td>\n",
       "      <td>NaN</td>\n",
       "      <td>foul</td>\n",
       "      <td>...</td>\n",
       "      <td>5</td>\n",
       "      <td>3</td>\n",
       "      <td>5</td>\n",
       "      <td>3</td>\n",
       "      <td>5</td>\n",
       "      <td>Standard</td>\n",
       "      <td>Standard</td>\n",
       "      <td>194</td>\n",
       "      <td>0.000</td>\n",
       "      <td>-0.033</td>\n",
       "    </tr>\n",
       "    <tr>\n",
       "      <th>2242</th>\n",
       "      <td>FF</td>\n",
       "      <td>2022-08-23</td>\n",
       "      <td>100.5</td>\n",
       "      <td>-0.60</td>\n",
       "      <td>7.09</td>\n",
       "      <td>Bautista, Félix</td>\n",
       "      <td>462101</td>\n",
       "      <td>642585</td>\n",
       "      <td>NaN</td>\n",
       "      <td>called_strike</td>\n",
       "      <td>...</td>\n",
       "      <td>5</td>\n",
       "      <td>3</td>\n",
       "      <td>5</td>\n",
       "      <td>3</td>\n",
       "      <td>5</td>\n",
       "      <td>Standard</td>\n",
       "      <td>Standard</td>\n",
       "      <td>193</td>\n",
       "      <td>0.000</td>\n",
       "      <td>-0.021</td>\n",
       "    </tr>\n",
       "    <tr>\n",
       "      <th>2282</th>\n",
       "      <td>FF</td>\n",
       "      <td>2022-08-23</td>\n",
       "      <td>100.7</td>\n",
       "      <td>-0.69</td>\n",
       "      <td>7.05</td>\n",
       "      <td>Bautista, Félix</td>\n",
       "      <td>462101</td>\n",
       "      <td>642585</td>\n",
       "      <td>NaN</td>\n",
       "      <td>ball</td>\n",
       "      <td>...</td>\n",
       "      <td>5</td>\n",
       "      <td>3</td>\n",
       "      <td>5</td>\n",
       "      <td>3</td>\n",
       "      <td>5</td>\n",
       "      <td>Standard</td>\n",
       "      <td>Standard</td>\n",
       "      <td>195</td>\n",
       "      <td>0.000</td>\n",
       "      <td>0.023</td>\n",
       "    </tr>\n",
       "    <tr>\n",
       "      <th>2353</th>\n",
       "      <td>SL</td>\n",
       "      <td>2022-08-23</td>\n",
       "      <td>87.6</td>\n",
       "      <td>-1.18</td>\n",
       "      <td>6.98</td>\n",
       "      <td>Bautista, Félix</td>\n",
       "      <td>462101</td>\n",
       "      <td>642585</td>\n",
       "      <td>NaN</td>\n",
       "      <td>ball</td>\n",
       "      <td>...</td>\n",
       "      <td>5</td>\n",
       "      <td>3</td>\n",
       "      <td>5</td>\n",
       "      <td>3</td>\n",
       "      <td>5</td>\n",
       "      <td>Standard</td>\n",
       "      <td>Standard</td>\n",
       "      <td>92</td>\n",
       "      <td>0.000</td>\n",
       "      <td>0.017</td>\n",
       "    </tr>\n",
       "  </tbody>\n",
       "</table>\n",
       "<p>5 rows × 92 columns</p>\n",
       "</div>"
      ],
      "text/plain": [
       "     pitch_type  game_date  release_speed  release_pos_x  release_pos_z  \\\n",
       "2140         FS 2022-08-23           90.8          -0.70           7.09   \n",
       "2159         FF 2022-08-23          100.2          -0.56           7.10   \n",
       "2242         FF 2022-08-23          100.5          -0.60           7.09   \n",
       "2282         FF 2022-08-23          100.7          -0.69           7.05   \n",
       "2353         SL 2022-08-23           87.6          -1.18           6.98   \n",
       "\n",
       "          player_name  batter  pitcher     events    description  ...  \\\n",
       "2140  Bautista, Félix  462101   642585  field_out  hit_into_play  ...   \n",
       "2159  Bautista, Félix  462101   642585        NaN           foul  ...   \n",
       "2242  Bautista, Félix  462101   642585        NaN  called_strike  ...   \n",
       "2282  Bautista, Félix  462101   642585        NaN           ball  ...   \n",
       "2353  Bautista, Félix  462101   642585        NaN           ball  ...   \n",
       "\n",
       "      fld_score  post_away_score  post_home_score  post_bat_score  \\\n",
       "2140          5                3                5               3   \n",
       "2159          5                3                5               3   \n",
       "2242          5                3                5               3   \n",
       "2282          5                3                5               3   \n",
       "2353          5                3                5               3   \n",
       "\n",
       "      post_fld_score if_fielding_alignment of_fielding_alignment spin_axis  \\\n",
       "2140               5              Standard              Standard       245   \n",
       "2159               5              Standard              Standard       194   \n",
       "2242               5              Standard              Standard       193   \n",
       "2282               5              Standard              Standard       195   \n",
       "2353               5              Standard              Standard        92   \n",
       "\n",
       "     delta_home_win_exp delta_run_exp  \n",
       "2140              0.011        -0.086  \n",
       "2159              0.000        -0.033  \n",
       "2242              0.000        -0.021  \n",
       "2282              0.000         0.023  \n",
       "2353              0.000         0.017  \n",
       "\n",
       "[5 rows x 92 columns]"
      ]
     },
     "execution_count": 3,
     "metadata": {},
     "output_type": "execute_result"
    }
   ],
   "source": [
    "pitch_data.head()"
   ]
  },
  {
   "cell_type": "markdown",
   "metadata": {},
   "source": [
    "## Engineer Additional Fields\n",
    "\n",
    "### Create `spray_angle` column\n",
    "In the data we have launch angle and launch speed, but missing spray angle. We can caluclate spray angle with a little trigonometry using the x and y batted ball locations.\n",
    "\n",
    "To make home plate the point of reference for x and y, constants are subtracted from the raw data points. This allows us to find the spray angle of the batted ball with home plate as the reference."
   ]
  },
  {
   "cell_type": "code",
   "execution_count": 4,
   "metadata": {},
   "outputs": [],
   "source": [
    "pitch_data[\"spray_angle\"] = (np.arctan((pitch_data[\"hc_x\"] - 125.42) / (198.27 - pitch_data[\"hc_y\"])) * 180 / np.pi * .75).round(1)"
   ]
  },
  {
   "cell_type": "markdown",
   "metadata": {},
   "source": [
    "### Create `hit_type` column\n",
    "The hit type column will be a numerical representation of the batted ball hit type. The number corresponds to the number of total bases associated with a particular hit type. This will be useful when wanting to calculate stats such as SLG% which use total bases."
   ]
  },
  {
   "cell_type": "code",
   "execution_count": 5,
   "metadata": {},
   "outputs": [],
   "source": [
    "conditions = [\n",
    "    (pitch_data[\"events\"] == \"single\"),\n",
    "    (pitch_data[\"events\"] == \"double\"),\n",
    "    (pitch_data[\"events\"] == \"triple\"),\n",
    "    (pitch_data[\"events\"] == \"home_run\")]\n",
    "choices = [1, 2, 3, 4]\n",
    "pitch_data[\"hit_type\"] = np.select(conditions, choices, default = None)"
   ]
  },
  {
   "cell_type": "markdown",
   "metadata": {},
   "source": [
    "### Create `hit` column\n",
    "This is a flag column with a binary indicator for whether or not the pitch resulted in a hit."
   ]
  },
  {
   "cell_type": "code",
   "execution_count": 6,
   "metadata": {},
   "outputs": [],
   "source": [
    "pitch_data[\"hit\"] = np.where(pitch_data[\"events\"].isin([\"single\", \"double\", \"triple\", \"home_run\"]), 1, None)"
   ]
  },
  {
   "cell_type": "markdown",
   "metadata": {},
   "source": [
    "### Create more outcome flags\n",
    "These are more granular binary indicators for whether or not a pitch resulted in a specific event. These will be useful when wanting to calculate stats such as wOBA."
   ]
  },
  {
   "cell_type": "code",
   "execution_count": 7,
   "metadata": {},
   "outputs": [],
   "source": [
    "pitch_data[\"b1\"] = np.where(pitch_data[\"events\"] == \"single\", 1, None)\n",
    "pitch_data[\"b2\"] = np.where(pitch_data[\"events\"] == \"double\", 1, None)\n",
    "pitch_data[\"b3\"] = np.where(pitch_data[\"events\"] == \"triple\", 1, None)\n",
    "pitch_data[\"hr\"] = np.where(pitch_data[\"events\"] == \"home_run\", 1, None)\n",
    "pitch_data[\"ubb\"] = np.where(pitch_data[\"events\"] == \"walk\", 1, None)\n",
    "pitch_data[\"ibb\"] = np.where(pitch_data[\"events\"] == \"intent_walk\", 1, None)\n",
    "pitch_data[\"hbp\"] = np.where(pitch_data[\"events\"] == \"hit_by_pitch\", 1, None)"
   ]
  },
  {
   "cell_type": "code",
   "execution_count": 8,
   "metadata": {},
   "outputs": [],
   "source": [
    "pitch_data[\"so\"] = np.where(pitch_data[\"events\"].str.contains(\"strikeout\"), 1, None)\n",
    "pitch_data[\"sf\"] = np.where(pitch_data[\"events\"].str.contains(\"sac_fly\"), 1, None)\n",
    "pitch_data[\"sh\"] = np.where(pitch_data[\"events\"].str.contains(\"sac_bunt\"), 1, None)"
   ]
  },
  {
   "cell_type": "markdown",
   "metadata": {},
   "source": [
    "### Create `ab` column\n",
    "This is a flag column with a binary indicator for whether or not the pitch resulted in the end of an at-bat. This will be useful, in particular, when wanting to calculate stats that us AB as their denominator."
   ]
  },
  {
   "cell_type": "code",
   "execution_count": 9,
   "metadata": {},
   "outputs": [],
   "source": [
    "mask1 = pitch_data[\"hit\"] == 1\n",
    "mask2 = pitch_data[\"events\"].str.contains(\"out\")\n",
    "mask3 = pitch_data[\"events\"].str.contains(\"play\")\n",
    "mask4 = pitch_data[\"events\"].str.contains(\"error\")\n",
    "pitch_data[\"ab\"] = np.where(mask1 | mask2 | mask3 | mask4, 1, None)"
   ]
  },
  {
   "cell_type": "markdown",
   "metadata": {},
   "source": [
    "### Create `pa` column\n",
    "This is a flag column with a binary indicator for whether or not the pitch resulted in the end of a plate appearance. Plate appearances include all at-bats plus errors, walks, sacrifices, hit-by-pitch, and defensive interference. This will be useful, in particular, when wanting to calculate stats that us PA as their denominator."
   ]
  },
  {
   "cell_type": "code",
   "execution_count": 10,
   "metadata": {},
   "outputs": [],
   "source": [
    "mask1 = pitch_data[\"hit\"] == 1\n",
    "mask2 = pitch_data[\"events\"].str.contains(\"out\")\n",
    "mask3 = pitch_data[\"events\"].str.contains(\"play\")\n",
    "mask4 = pitch_data[\"events\"].str.contains(\"error\")\n",
    "mask5 = pitch_data[\"events\"].str.contains(\"walk\")\n",
    "mask6 = pitch_data[\"events\"].str.contains(\"sac\")\n",
    "mask7 = pitch_data[\"events\"].isin([\"hit_by_pitch\", \"interf_def\"])\n",
    "pitch_data[\"pa\"] = np.where(mask1 | mask2 | mask3 | mask4 | mask5 | mask6 | mask7, 1, None)"
   ]
  },
  {
   "cell_type": "markdown",
   "metadata": {},
   "source": [
    "### Create `fielding_team` and `batting_team` columns"
   ]
  },
  {
   "cell_type": "code",
   "execution_count": 11,
   "metadata": {},
   "outputs": [],
   "source": [
    "pitch_data[\"fielding_team\"] = np.where(pitch_data[\"inning_topbot\"] == \"Bot\", pitch_data[\"away_team\"], pitch_data[\"home_team\"])\n",
    "pitch_data[\"batting_team\"] = np.where(pitch_data[\"inning_topbot\"] == \"Bot\", pitch_data[\"home_team\"], pitch_data[\"away_team\"])"
   ]
  }
 ],
 "metadata": {
  "kernelspec": {
   "display_name": "Python 3",
   "language": "python",
   "name": "python3"
  },
  "language_info": {
   "codemirror_mode": {
    "name": "ipython",
    "version": 3
   },
   "file_extension": ".py",
   "mimetype": "text/x-python",
   "name": "python",
   "nbconvert_exporter": "python",
   "pygments_lexer": "ipython3",
   "version": "3.8.5"
  }
 },
 "nbformat": 4,
 "nbformat_minor": 4
}
